{
 "cells": [
  {
   "cell_type": "code",
   "execution_count": 19,
   "metadata": {},
   "outputs": [
    {
     "data": {
      "text/html": [
       "        <script type=\"text/javascript\">\n",
       "        window.PlotlyConfig = {MathJaxConfig: 'local'};\n",
       "        if (window.MathJax) {MathJax.Hub.Config({SVG: {font: \"STIX-Web\"}});}\n",
       "        if (typeof require !== 'undefined') {\n",
       "        require.undef(\"plotly\");\n",
       "        requirejs.config({\n",
       "            paths: {\n",
       "                'plotly': ['https://cdn.plot.ly/plotly-latest.min']\n",
       "            }\n",
       "        });\n",
       "        require(['plotly'], function(Plotly) {\n",
       "            window._Plotly = Plotly;\n",
       "        });\n",
       "        }\n",
       "        </script>\n",
       "        "
      ]
     },
     "metadata": {},
     "output_type": "display_data"
    }
   ],
   "source": [
    "import pandas as pd \n",
    "import numpy as np\n",
    "import matplotlib\n",
    "import matplotlib.pyplot as plt\n",
    "import seaborn as sns\n",
    "%matplotlib inline \n",
    "import plotly.graph_objs as go\n",
    "import plotly.figure_factory as ff\n",
    "from plotly import tools\n",
    "from plotly.offline import download_plotlyjs, init_notebook_mode, plot, iplot\n",
    "init_notebook_mode(connected=True)\n",
    "\n",
    "\n",
    "import gc\n",
    "from datetime import datetime \n",
    "from sklearn.model_selection import train_test_split\n",
    "from sklearn.model_selection import KFold\n",
    "from sklearn.metrics import roc_auc_score\n",
    "from sklearn.ensemble import RandomForestClassifier\n",
    "from sklearn.ensemble import AdaBoostClassifier\n",
    "#from catboost import CatBoostClassifier\n",
    "from sklearn import svm\n",
    "#import lightgbm as lgb\n",
    "#from lightgbm import LGBMClassifier\n",
    "#import xgboost as xgb\n",
    "\n",
    "pd.set_option('display.max_columns', 100)\n",
    "\n",
    "\n",
    "RFC_METRIC = 'gini'  #metric used for RandomForrestClassifier\n",
    "NUM_ESTIMATORS = 100 #number of estimators used for RandomForrestClassifier\n",
    "NO_JOBS = 4 #number of parallel jobs used for RandomForrestClassifier\n",
    "\n",
    "\n",
    "#TRAIN/VALIDATION/TEST SPLIT\n",
    "#VALIDATION\n",
    "VALID_SIZE = 0.20 # simple validation using train_test_split\n",
    "TEST_SIZE = 0.20 # test size using_train_test_split\n",
    "\n",
    "#CROSS-VALIDATION\n",
    "NUMBER_KFOLDS = 5 #number of KFolds for cross-validation\n",
    "\n",
    "\n",
    "\n",
    "RANDOM_STATE = 2018\n",
    "\n",
    "MAX_ROUNDS = 1000 #lgb iterations\n",
    "EARLY_STOP = 50 #lgb early stop \n",
    "OPT_ROUNDS = 1000  #To be adjusted based on best validation rounds\n",
    "VERBOSE_EVAL = 50 #Print out metric result\n",
    "\n",
    "IS_LOCAL = False\n",
    "\n",
    "import os\n",
    "\n",
    "if(IS_LOCAL):\n",
    "    PATH=\"..\\input\\credit-card-fraud-detection\"\n",
    "else:\n",
    "    PATH=\"..\\input\"\n",
    "#print(os.listdir(PATH))"
   ]
  },
  {
   "cell_type": "code",
   "execution_count": 22,
   "metadata": {},
   "outputs": [],
   "source": [
    "data_df = pd.read_csv(\"C:\\\\Users\\Vishal\\Desktop\\creditcard.csv\")"
   ]
  },
  {
   "cell_type": "code",
   "execution_count": 23,
   "metadata": {},
   "outputs": [
    {
     "name": "stdout",
     "output_type": "stream",
     "text": [
      "Credit Card Fraud Detection data -  rows: 284807  columns: 31\n"
     ]
    }
   ],
   "source": [
    "print(\"Credit Card Fraud Detection data -  rows:\",data_df.shape[0],\" columns:\", data_df.shape[1])"
   ]
  },
  {
   "cell_type": "code",
   "execution_count": 24,
   "metadata": {},
   "outputs": [
    {
     "data": {
      "text/html": [
       "<div>\n",
       "<style scoped>\n",
       "    .dataframe tbody tr th:only-of-type {\n",
       "        vertical-align: middle;\n",
       "    }\n",
       "\n",
       "    .dataframe tbody tr th {\n",
       "        vertical-align: top;\n",
       "    }\n",
       "\n",
       "    .dataframe thead th {\n",
       "        text-align: right;\n",
       "    }\n",
       "</style>\n",
       "<table border=\"1\" class=\"dataframe\">\n",
       "  <thead>\n",
       "    <tr style=\"text-align: right;\">\n",
       "      <th></th>\n",
       "      <th>Time</th>\n",
       "      <th>V1</th>\n",
       "      <th>V2</th>\n",
       "      <th>V3</th>\n",
       "      <th>V4</th>\n",
       "      <th>V5</th>\n",
       "      <th>V6</th>\n",
       "      <th>V7</th>\n",
       "      <th>V8</th>\n",
       "      <th>V9</th>\n",
       "      <th>V10</th>\n",
       "      <th>V11</th>\n",
       "      <th>V12</th>\n",
       "      <th>V13</th>\n",
       "      <th>V14</th>\n",
       "      <th>V15</th>\n",
       "      <th>V16</th>\n",
       "      <th>V17</th>\n",
       "      <th>V18</th>\n",
       "      <th>V19</th>\n",
       "      <th>V20</th>\n",
       "      <th>V21</th>\n",
       "      <th>V22</th>\n",
       "      <th>V23</th>\n",
       "      <th>V24</th>\n",
       "      <th>V25</th>\n",
       "      <th>V26</th>\n",
       "      <th>V27</th>\n",
       "      <th>V28</th>\n",
       "      <th>Amount</th>\n",
       "      <th>Class</th>\n",
       "    </tr>\n",
       "  </thead>\n",
       "  <tbody>\n",
       "    <tr>\n",
       "      <th>0</th>\n",
       "      <td>0.0</td>\n",
       "      <td>-1.359807</td>\n",
       "      <td>-0.072781</td>\n",
       "      <td>2.536347</td>\n",
       "      <td>1.378155</td>\n",
       "      <td>-0.338321</td>\n",
       "      <td>0.462388</td>\n",
       "      <td>0.239599</td>\n",
       "      <td>0.098698</td>\n",
       "      <td>0.363787</td>\n",
       "      <td>0.090794</td>\n",
       "      <td>-0.551600</td>\n",
       "      <td>-0.617801</td>\n",
       "      <td>-0.991390</td>\n",
       "      <td>-0.311169</td>\n",
       "      <td>1.468177</td>\n",
       "      <td>-0.470401</td>\n",
       "      <td>0.207971</td>\n",
       "      <td>0.025791</td>\n",
       "      <td>0.403993</td>\n",
       "      <td>0.251412</td>\n",
       "      <td>-0.018307</td>\n",
       "      <td>0.277838</td>\n",
       "      <td>-0.110474</td>\n",
       "      <td>0.066928</td>\n",
       "      <td>0.128539</td>\n",
       "      <td>-0.189115</td>\n",
       "      <td>0.133558</td>\n",
       "      <td>-0.021053</td>\n",
       "      <td>149.62</td>\n",
       "      <td>0</td>\n",
       "    </tr>\n",
       "    <tr>\n",
       "      <th>1</th>\n",
       "      <td>0.0</td>\n",
       "      <td>1.191857</td>\n",
       "      <td>0.266151</td>\n",
       "      <td>0.166480</td>\n",
       "      <td>0.448154</td>\n",
       "      <td>0.060018</td>\n",
       "      <td>-0.082361</td>\n",
       "      <td>-0.078803</td>\n",
       "      <td>0.085102</td>\n",
       "      <td>-0.255425</td>\n",
       "      <td>-0.166974</td>\n",
       "      <td>1.612727</td>\n",
       "      <td>1.065235</td>\n",
       "      <td>0.489095</td>\n",
       "      <td>-0.143772</td>\n",
       "      <td>0.635558</td>\n",
       "      <td>0.463917</td>\n",
       "      <td>-0.114805</td>\n",
       "      <td>-0.183361</td>\n",
       "      <td>-0.145783</td>\n",
       "      <td>-0.069083</td>\n",
       "      <td>-0.225775</td>\n",
       "      <td>-0.638672</td>\n",
       "      <td>0.101288</td>\n",
       "      <td>-0.339846</td>\n",
       "      <td>0.167170</td>\n",
       "      <td>0.125895</td>\n",
       "      <td>-0.008983</td>\n",
       "      <td>0.014724</td>\n",
       "      <td>2.69</td>\n",
       "      <td>0</td>\n",
       "    </tr>\n",
       "    <tr>\n",
       "      <th>2</th>\n",
       "      <td>1.0</td>\n",
       "      <td>-1.358354</td>\n",
       "      <td>-1.340163</td>\n",
       "      <td>1.773209</td>\n",
       "      <td>0.379780</td>\n",
       "      <td>-0.503198</td>\n",
       "      <td>1.800499</td>\n",
       "      <td>0.791461</td>\n",
       "      <td>0.247676</td>\n",
       "      <td>-1.514654</td>\n",
       "      <td>0.207643</td>\n",
       "      <td>0.624501</td>\n",
       "      <td>0.066084</td>\n",
       "      <td>0.717293</td>\n",
       "      <td>-0.165946</td>\n",
       "      <td>2.345865</td>\n",
       "      <td>-2.890083</td>\n",
       "      <td>1.109969</td>\n",
       "      <td>-0.121359</td>\n",
       "      <td>-2.261857</td>\n",
       "      <td>0.524980</td>\n",
       "      <td>0.247998</td>\n",
       "      <td>0.771679</td>\n",
       "      <td>0.909412</td>\n",
       "      <td>-0.689281</td>\n",
       "      <td>-0.327642</td>\n",
       "      <td>-0.139097</td>\n",
       "      <td>-0.055353</td>\n",
       "      <td>-0.059752</td>\n",
       "      <td>378.66</td>\n",
       "      <td>0</td>\n",
       "    </tr>\n",
       "    <tr>\n",
       "      <th>3</th>\n",
       "      <td>1.0</td>\n",
       "      <td>-0.966272</td>\n",
       "      <td>-0.185226</td>\n",
       "      <td>1.792993</td>\n",
       "      <td>-0.863291</td>\n",
       "      <td>-0.010309</td>\n",
       "      <td>1.247203</td>\n",
       "      <td>0.237609</td>\n",
       "      <td>0.377436</td>\n",
       "      <td>-1.387024</td>\n",
       "      <td>-0.054952</td>\n",
       "      <td>-0.226487</td>\n",
       "      <td>0.178228</td>\n",
       "      <td>0.507757</td>\n",
       "      <td>-0.287924</td>\n",
       "      <td>-0.631418</td>\n",
       "      <td>-1.059647</td>\n",
       "      <td>-0.684093</td>\n",
       "      <td>1.965775</td>\n",
       "      <td>-1.232622</td>\n",
       "      <td>-0.208038</td>\n",
       "      <td>-0.108300</td>\n",
       "      <td>0.005274</td>\n",
       "      <td>-0.190321</td>\n",
       "      <td>-1.175575</td>\n",
       "      <td>0.647376</td>\n",
       "      <td>-0.221929</td>\n",
       "      <td>0.062723</td>\n",
       "      <td>0.061458</td>\n",
       "      <td>123.50</td>\n",
       "      <td>0</td>\n",
       "    </tr>\n",
       "    <tr>\n",
       "      <th>4</th>\n",
       "      <td>2.0</td>\n",
       "      <td>-1.158233</td>\n",
       "      <td>0.877737</td>\n",
       "      <td>1.548718</td>\n",
       "      <td>0.403034</td>\n",
       "      <td>-0.407193</td>\n",
       "      <td>0.095921</td>\n",
       "      <td>0.592941</td>\n",
       "      <td>-0.270533</td>\n",
       "      <td>0.817739</td>\n",
       "      <td>0.753074</td>\n",
       "      <td>-0.822843</td>\n",
       "      <td>0.538196</td>\n",
       "      <td>1.345852</td>\n",
       "      <td>-1.119670</td>\n",
       "      <td>0.175121</td>\n",
       "      <td>-0.451449</td>\n",
       "      <td>-0.237033</td>\n",
       "      <td>-0.038195</td>\n",
       "      <td>0.803487</td>\n",
       "      <td>0.408542</td>\n",
       "      <td>-0.009431</td>\n",
       "      <td>0.798278</td>\n",
       "      <td>-0.137458</td>\n",
       "      <td>0.141267</td>\n",
       "      <td>-0.206010</td>\n",
       "      <td>0.502292</td>\n",
       "      <td>0.219422</td>\n",
       "      <td>0.215153</td>\n",
       "      <td>69.99</td>\n",
       "      <td>0</td>\n",
       "    </tr>\n",
       "  </tbody>\n",
       "</table>\n",
       "</div>"
      ],
      "text/plain": [
       "   Time        V1        V2        V3        V4        V5        V6        V7  \\\n",
       "0   0.0 -1.359807 -0.072781  2.536347  1.378155 -0.338321  0.462388  0.239599   \n",
       "1   0.0  1.191857  0.266151  0.166480  0.448154  0.060018 -0.082361 -0.078803   \n",
       "2   1.0 -1.358354 -1.340163  1.773209  0.379780 -0.503198  1.800499  0.791461   \n",
       "3   1.0 -0.966272 -0.185226  1.792993 -0.863291 -0.010309  1.247203  0.237609   \n",
       "4   2.0 -1.158233  0.877737  1.548718  0.403034 -0.407193  0.095921  0.592941   \n",
       "\n",
       "         V8        V9       V10       V11       V12       V13       V14  \\\n",
       "0  0.098698  0.363787  0.090794 -0.551600 -0.617801 -0.991390 -0.311169   \n",
       "1  0.085102 -0.255425 -0.166974  1.612727  1.065235  0.489095 -0.143772   \n",
       "2  0.247676 -1.514654  0.207643  0.624501  0.066084  0.717293 -0.165946   \n",
       "3  0.377436 -1.387024 -0.054952 -0.226487  0.178228  0.507757 -0.287924   \n",
       "4 -0.270533  0.817739  0.753074 -0.822843  0.538196  1.345852 -1.119670   \n",
       "\n",
       "        V15       V16       V17       V18       V19       V20       V21  \\\n",
       "0  1.468177 -0.470401  0.207971  0.025791  0.403993  0.251412 -0.018307   \n",
       "1  0.635558  0.463917 -0.114805 -0.183361 -0.145783 -0.069083 -0.225775   \n",
       "2  2.345865 -2.890083  1.109969 -0.121359 -2.261857  0.524980  0.247998   \n",
       "3 -0.631418 -1.059647 -0.684093  1.965775 -1.232622 -0.208038 -0.108300   \n",
       "4  0.175121 -0.451449 -0.237033 -0.038195  0.803487  0.408542 -0.009431   \n",
       "\n",
       "        V22       V23       V24       V25       V26       V27       V28  \\\n",
       "0  0.277838 -0.110474  0.066928  0.128539 -0.189115  0.133558 -0.021053   \n",
       "1 -0.638672  0.101288 -0.339846  0.167170  0.125895 -0.008983  0.014724   \n",
       "2  0.771679  0.909412 -0.689281 -0.327642 -0.139097 -0.055353 -0.059752   \n",
       "3  0.005274 -0.190321 -1.175575  0.647376 -0.221929  0.062723  0.061458   \n",
       "4  0.798278 -0.137458  0.141267 -0.206010  0.502292  0.219422  0.215153   \n",
       "\n",
       "   Amount  Class  \n",
       "0  149.62      0  \n",
       "1    2.69      0  \n",
       "2  378.66      0  \n",
       "3  123.50      0  \n",
       "4   69.99      0  "
      ]
     },
     "execution_count": 24,
     "metadata": {},
     "output_type": "execute_result"
    }
   ],
   "source": [
    "data_df.head()"
   ]
  },
  {
   "cell_type": "code",
   "execution_count": 25,
   "metadata": {},
   "outputs": [
    {
     "data": {
      "text/html": [
       "<div>\n",
       "<style scoped>\n",
       "    .dataframe tbody tr th:only-of-type {\n",
       "        vertical-align: middle;\n",
       "    }\n",
       "\n",
       "    .dataframe tbody tr th {\n",
       "        vertical-align: top;\n",
       "    }\n",
       "\n",
       "    .dataframe thead th {\n",
       "        text-align: right;\n",
       "    }\n",
       "</style>\n",
       "<table border=\"1\" class=\"dataframe\">\n",
       "  <thead>\n",
       "    <tr style=\"text-align: right;\">\n",
       "      <th></th>\n",
       "      <th>Time</th>\n",
       "      <th>V1</th>\n",
       "      <th>V2</th>\n",
       "      <th>V3</th>\n",
       "      <th>V4</th>\n",
       "      <th>V5</th>\n",
       "      <th>V6</th>\n",
       "      <th>V7</th>\n",
       "      <th>V8</th>\n",
       "      <th>V9</th>\n",
       "      <th>V10</th>\n",
       "      <th>V11</th>\n",
       "      <th>V12</th>\n",
       "      <th>V13</th>\n",
       "      <th>V14</th>\n",
       "      <th>V15</th>\n",
       "      <th>V16</th>\n",
       "      <th>V17</th>\n",
       "      <th>V18</th>\n",
       "      <th>V19</th>\n",
       "      <th>V20</th>\n",
       "      <th>V21</th>\n",
       "      <th>V22</th>\n",
       "      <th>V23</th>\n",
       "      <th>V24</th>\n",
       "      <th>V25</th>\n",
       "      <th>V26</th>\n",
       "      <th>V27</th>\n",
       "      <th>V28</th>\n",
       "      <th>Amount</th>\n",
       "      <th>Class</th>\n",
       "    </tr>\n",
       "  </thead>\n",
       "  <tbody>\n",
       "    <tr>\n",
       "      <th>count</th>\n",
       "      <td>284807.000000</td>\n",
       "      <td>2.848070e+05</td>\n",
       "      <td>2.848070e+05</td>\n",
       "      <td>2.848070e+05</td>\n",
       "      <td>2.848070e+05</td>\n",
       "      <td>2.848070e+05</td>\n",
       "      <td>2.848070e+05</td>\n",
       "      <td>2.848070e+05</td>\n",
       "      <td>2.848070e+05</td>\n",
       "      <td>2.848070e+05</td>\n",
       "      <td>2.848070e+05</td>\n",
       "      <td>2.848070e+05</td>\n",
       "      <td>2.848070e+05</td>\n",
       "      <td>2.848070e+05</td>\n",
       "      <td>2.848070e+05</td>\n",
       "      <td>2.848070e+05</td>\n",
       "      <td>2.848070e+05</td>\n",
       "      <td>2.848070e+05</td>\n",
       "      <td>2.848070e+05</td>\n",
       "      <td>2.848070e+05</td>\n",
       "      <td>2.848070e+05</td>\n",
       "      <td>2.848070e+05</td>\n",
       "      <td>2.848070e+05</td>\n",
       "      <td>2.848070e+05</td>\n",
       "      <td>2.848070e+05</td>\n",
       "      <td>2.848070e+05</td>\n",
       "      <td>2.848070e+05</td>\n",
       "      <td>2.848070e+05</td>\n",
       "      <td>2.848070e+05</td>\n",
       "      <td>284807.000000</td>\n",
       "      <td>284807.000000</td>\n",
       "    </tr>\n",
       "    <tr>\n",
       "      <th>mean</th>\n",
       "      <td>94813.859575</td>\n",
       "      <td>1.758743e-12</td>\n",
       "      <td>-8.252298e-13</td>\n",
       "      <td>-9.636929e-13</td>\n",
       "      <td>8.316157e-13</td>\n",
       "      <td>1.591952e-13</td>\n",
       "      <td>4.247354e-13</td>\n",
       "      <td>-3.050180e-13</td>\n",
       "      <td>8.693344e-14</td>\n",
       "      <td>-1.179712e-12</td>\n",
       "      <td>7.094854e-13</td>\n",
       "      <td>1.875015e-12</td>\n",
       "      <td>1.053488e-12</td>\n",
       "      <td>7.137527e-13</td>\n",
       "      <td>-1.491363e-13</td>\n",
       "      <td>-5.225914e-13</td>\n",
       "      <td>-2.280712e-13</td>\n",
       "      <td>-6.428517e-13</td>\n",
       "      <td>4.958987e-13</td>\n",
       "      <td>7.060712e-13</td>\n",
       "      <td>1.766038e-12</td>\n",
       "      <td>-3.406543e-13</td>\n",
       "      <td>-5.713163e-13</td>\n",
       "      <td>-9.725303e-13</td>\n",
       "      <td>1.464139e-12</td>\n",
       "      <td>-6.989087e-13</td>\n",
       "      <td>-5.615260e-13</td>\n",
       "      <td>3.332112e-12</td>\n",
       "      <td>-3.518886e-12</td>\n",
       "      <td>88.349619</td>\n",
       "      <td>0.001727</td>\n",
       "    </tr>\n",
       "    <tr>\n",
       "      <th>std</th>\n",
       "      <td>47488.145955</td>\n",
       "      <td>1.958696e+00</td>\n",
       "      <td>1.651309e+00</td>\n",
       "      <td>1.516255e+00</td>\n",
       "      <td>1.415869e+00</td>\n",
       "      <td>1.380247e+00</td>\n",
       "      <td>1.332271e+00</td>\n",
       "      <td>1.237094e+00</td>\n",
       "      <td>1.194353e+00</td>\n",
       "      <td>1.098632e+00</td>\n",
       "      <td>1.088850e+00</td>\n",
       "      <td>1.020713e+00</td>\n",
       "      <td>9.992014e-01</td>\n",
       "      <td>9.952742e-01</td>\n",
       "      <td>9.585956e-01</td>\n",
       "      <td>9.153160e-01</td>\n",
       "      <td>8.762529e-01</td>\n",
       "      <td>8.493371e-01</td>\n",
       "      <td>8.381762e-01</td>\n",
       "      <td>8.140405e-01</td>\n",
       "      <td>7.709250e-01</td>\n",
       "      <td>7.345240e-01</td>\n",
       "      <td>7.257016e-01</td>\n",
       "      <td>6.244603e-01</td>\n",
       "      <td>6.056471e-01</td>\n",
       "      <td>5.212781e-01</td>\n",
       "      <td>4.822270e-01</td>\n",
       "      <td>4.036325e-01</td>\n",
       "      <td>3.300833e-01</td>\n",
       "      <td>250.120109</td>\n",
       "      <td>0.041527</td>\n",
       "    </tr>\n",
       "    <tr>\n",
       "      <th>min</th>\n",
       "      <td>0.000000</td>\n",
       "      <td>-5.640751e+01</td>\n",
       "      <td>-7.271573e+01</td>\n",
       "      <td>-4.832559e+01</td>\n",
       "      <td>-5.683171e+00</td>\n",
       "      <td>-1.137433e+02</td>\n",
       "      <td>-2.616051e+01</td>\n",
       "      <td>-4.355724e+01</td>\n",
       "      <td>-7.321672e+01</td>\n",
       "      <td>-1.343407e+01</td>\n",
       "      <td>-2.458826e+01</td>\n",
       "      <td>-4.797473e+00</td>\n",
       "      <td>-1.868371e+01</td>\n",
       "      <td>-5.791881e+00</td>\n",
       "      <td>-1.921433e+01</td>\n",
       "      <td>-4.498945e+00</td>\n",
       "      <td>-1.412985e+01</td>\n",
       "      <td>-2.516280e+01</td>\n",
       "      <td>-9.498746e+00</td>\n",
       "      <td>-7.213527e+00</td>\n",
       "      <td>-5.449772e+01</td>\n",
       "      <td>-3.483038e+01</td>\n",
       "      <td>-1.093314e+01</td>\n",
       "      <td>-4.480774e+01</td>\n",
       "      <td>-2.836627e+00</td>\n",
       "      <td>-1.029540e+01</td>\n",
       "      <td>-2.604551e+00</td>\n",
       "      <td>-2.256568e+01</td>\n",
       "      <td>-1.543008e+01</td>\n",
       "      <td>0.000000</td>\n",
       "      <td>0.000000</td>\n",
       "    </tr>\n",
       "    <tr>\n",
       "      <th>25%</th>\n",
       "      <td>54201.500000</td>\n",
       "      <td>-9.203734e-01</td>\n",
       "      <td>-5.985499e-01</td>\n",
       "      <td>-8.903648e-01</td>\n",
       "      <td>-8.486401e-01</td>\n",
       "      <td>-6.915971e-01</td>\n",
       "      <td>-7.682956e-01</td>\n",
       "      <td>-5.540759e-01</td>\n",
       "      <td>-2.086297e-01</td>\n",
       "      <td>-6.430976e-01</td>\n",
       "      <td>-5.354257e-01</td>\n",
       "      <td>-7.624942e-01</td>\n",
       "      <td>-4.055715e-01</td>\n",
       "      <td>-6.485393e-01</td>\n",
       "      <td>-4.255740e-01</td>\n",
       "      <td>-5.828843e-01</td>\n",
       "      <td>-4.680368e-01</td>\n",
       "      <td>-4.837483e-01</td>\n",
       "      <td>-4.988498e-01</td>\n",
       "      <td>-4.562989e-01</td>\n",
       "      <td>-2.117214e-01</td>\n",
       "      <td>-2.283949e-01</td>\n",
       "      <td>-5.423504e-01</td>\n",
       "      <td>-1.618463e-01</td>\n",
       "      <td>-3.545861e-01</td>\n",
       "      <td>-3.171451e-01</td>\n",
       "      <td>-3.269839e-01</td>\n",
       "      <td>-7.083953e-02</td>\n",
       "      <td>-5.295979e-02</td>\n",
       "      <td>5.600000</td>\n",
       "      <td>0.000000</td>\n",
       "    </tr>\n",
       "    <tr>\n",
       "      <th>50%</th>\n",
       "      <td>84692.000000</td>\n",
       "      <td>1.810880e-02</td>\n",
       "      <td>6.548556e-02</td>\n",
       "      <td>1.798463e-01</td>\n",
       "      <td>-1.984653e-02</td>\n",
       "      <td>-5.433583e-02</td>\n",
       "      <td>-2.741871e-01</td>\n",
       "      <td>4.010308e-02</td>\n",
       "      <td>2.235804e-02</td>\n",
       "      <td>-5.142873e-02</td>\n",
       "      <td>-9.291738e-02</td>\n",
       "      <td>-3.275735e-02</td>\n",
       "      <td>1.400326e-01</td>\n",
       "      <td>-1.356806e-02</td>\n",
       "      <td>5.060132e-02</td>\n",
       "      <td>4.807155e-02</td>\n",
       "      <td>6.641332e-02</td>\n",
       "      <td>-6.567575e-02</td>\n",
       "      <td>-3.636312e-03</td>\n",
       "      <td>3.734823e-03</td>\n",
       "      <td>-6.248109e-02</td>\n",
       "      <td>-2.945017e-02</td>\n",
       "      <td>6.781943e-03</td>\n",
       "      <td>-1.119293e-02</td>\n",
       "      <td>4.097606e-02</td>\n",
       "      <td>1.659350e-02</td>\n",
       "      <td>-5.213911e-02</td>\n",
       "      <td>1.342146e-03</td>\n",
       "      <td>1.124383e-02</td>\n",
       "      <td>22.000000</td>\n",
       "      <td>0.000000</td>\n",
       "    </tr>\n",
       "    <tr>\n",
       "      <th>75%</th>\n",
       "      <td>139320.500000</td>\n",
       "      <td>1.315642e+00</td>\n",
       "      <td>8.037239e-01</td>\n",
       "      <td>1.027196e+00</td>\n",
       "      <td>7.433413e-01</td>\n",
       "      <td>6.119264e-01</td>\n",
       "      <td>3.985649e-01</td>\n",
       "      <td>5.704361e-01</td>\n",
       "      <td>3.273459e-01</td>\n",
       "      <td>5.971390e-01</td>\n",
       "      <td>4.539234e-01</td>\n",
       "      <td>7.395934e-01</td>\n",
       "      <td>6.182380e-01</td>\n",
       "      <td>6.625050e-01</td>\n",
       "      <td>4.931498e-01</td>\n",
       "      <td>6.488208e-01</td>\n",
       "      <td>5.232963e-01</td>\n",
       "      <td>3.996750e-01</td>\n",
       "      <td>5.008067e-01</td>\n",
       "      <td>4.589494e-01</td>\n",
       "      <td>1.330408e-01</td>\n",
       "      <td>1.863772e-01</td>\n",
       "      <td>5.285536e-01</td>\n",
       "      <td>1.476421e-01</td>\n",
       "      <td>4.395266e-01</td>\n",
       "      <td>3.507156e-01</td>\n",
       "      <td>2.409522e-01</td>\n",
       "      <td>9.104512e-02</td>\n",
       "      <td>7.827995e-02</td>\n",
       "      <td>77.165000</td>\n",
       "      <td>0.000000</td>\n",
       "    </tr>\n",
       "    <tr>\n",
       "      <th>max</th>\n",
       "      <td>172792.000000</td>\n",
       "      <td>2.454930e+00</td>\n",
       "      <td>2.205773e+01</td>\n",
       "      <td>9.382558e+00</td>\n",
       "      <td>1.687534e+01</td>\n",
       "      <td>3.480167e+01</td>\n",
       "      <td>7.330163e+01</td>\n",
       "      <td>1.205895e+02</td>\n",
       "      <td>2.000721e+01</td>\n",
       "      <td>1.559499e+01</td>\n",
       "      <td>2.374514e+01</td>\n",
       "      <td>1.201891e+01</td>\n",
       "      <td>7.848392e+00</td>\n",
       "      <td>7.126883e+00</td>\n",
       "      <td>1.052677e+01</td>\n",
       "      <td>8.877742e+00</td>\n",
       "      <td>1.731511e+01</td>\n",
       "      <td>9.253526e+00</td>\n",
       "      <td>5.041069e+00</td>\n",
       "      <td>5.591971e+00</td>\n",
       "      <td>3.942090e+01</td>\n",
       "      <td>2.720284e+01</td>\n",
       "      <td>1.050309e+01</td>\n",
       "      <td>2.252841e+01</td>\n",
       "      <td>4.584549e+00</td>\n",
       "      <td>7.519589e+00</td>\n",
       "      <td>3.517346e+00</td>\n",
       "      <td>3.161220e+01</td>\n",
       "      <td>3.384781e+01</td>\n",
       "      <td>25691.160000</td>\n",
       "      <td>1.000000</td>\n",
       "    </tr>\n",
       "  </tbody>\n",
       "</table>\n",
       "</div>"
      ],
      "text/plain": [
       "                Time            V1            V2            V3            V4  \\\n",
       "count  284807.000000  2.848070e+05  2.848070e+05  2.848070e+05  2.848070e+05   \n",
       "mean    94813.859575  1.758743e-12 -8.252298e-13 -9.636929e-13  8.316157e-13   \n",
       "std     47488.145955  1.958696e+00  1.651309e+00  1.516255e+00  1.415869e+00   \n",
       "min         0.000000 -5.640751e+01 -7.271573e+01 -4.832559e+01 -5.683171e+00   \n",
       "25%     54201.500000 -9.203734e-01 -5.985499e-01 -8.903648e-01 -8.486401e-01   \n",
       "50%     84692.000000  1.810880e-02  6.548556e-02  1.798463e-01 -1.984653e-02   \n",
       "75%    139320.500000  1.315642e+00  8.037239e-01  1.027196e+00  7.433413e-01   \n",
       "max    172792.000000  2.454930e+00  2.205773e+01  9.382558e+00  1.687534e+01   \n",
       "\n",
       "                 V5            V6            V7            V8            V9  \\\n",
       "count  2.848070e+05  2.848070e+05  2.848070e+05  2.848070e+05  2.848070e+05   \n",
       "mean   1.591952e-13  4.247354e-13 -3.050180e-13  8.693344e-14 -1.179712e-12   \n",
       "std    1.380247e+00  1.332271e+00  1.237094e+00  1.194353e+00  1.098632e+00   \n",
       "min   -1.137433e+02 -2.616051e+01 -4.355724e+01 -7.321672e+01 -1.343407e+01   \n",
       "25%   -6.915971e-01 -7.682956e-01 -5.540759e-01 -2.086297e-01 -6.430976e-01   \n",
       "50%   -5.433583e-02 -2.741871e-01  4.010308e-02  2.235804e-02 -5.142873e-02   \n",
       "75%    6.119264e-01  3.985649e-01  5.704361e-01  3.273459e-01  5.971390e-01   \n",
       "max    3.480167e+01  7.330163e+01  1.205895e+02  2.000721e+01  1.559499e+01   \n",
       "\n",
       "                V10           V11           V12           V13           V14  \\\n",
       "count  2.848070e+05  2.848070e+05  2.848070e+05  2.848070e+05  2.848070e+05   \n",
       "mean   7.094854e-13  1.875015e-12  1.053488e-12  7.137527e-13 -1.491363e-13   \n",
       "std    1.088850e+00  1.020713e+00  9.992014e-01  9.952742e-01  9.585956e-01   \n",
       "min   -2.458826e+01 -4.797473e+00 -1.868371e+01 -5.791881e+00 -1.921433e+01   \n",
       "25%   -5.354257e-01 -7.624942e-01 -4.055715e-01 -6.485393e-01 -4.255740e-01   \n",
       "50%   -9.291738e-02 -3.275735e-02  1.400326e-01 -1.356806e-02  5.060132e-02   \n",
       "75%    4.539234e-01  7.395934e-01  6.182380e-01  6.625050e-01  4.931498e-01   \n",
       "max    2.374514e+01  1.201891e+01  7.848392e+00  7.126883e+00  1.052677e+01   \n",
       "\n",
       "                V15           V16           V17           V18           V19  \\\n",
       "count  2.848070e+05  2.848070e+05  2.848070e+05  2.848070e+05  2.848070e+05   \n",
       "mean  -5.225914e-13 -2.280712e-13 -6.428517e-13  4.958987e-13  7.060712e-13   \n",
       "std    9.153160e-01  8.762529e-01  8.493371e-01  8.381762e-01  8.140405e-01   \n",
       "min   -4.498945e+00 -1.412985e+01 -2.516280e+01 -9.498746e+00 -7.213527e+00   \n",
       "25%   -5.828843e-01 -4.680368e-01 -4.837483e-01 -4.988498e-01 -4.562989e-01   \n",
       "50%    4.807155e-02  6.641332e-02 -6.567575e-02 -3.636312e-03  3.734823e-03   \n",
       "75%    6.488208e-01  5.232963e-01  3.996750e-01  5.008067e-01  4.589494e-01   \n",
       "max    8.877742e+00  1.731511e+01  9.253526e+00  5.041069e+00  5.591971e+00   \n",
       "\n",
       "                V20           V21           V22           V23           V24  \\\n",
       "count  2.848070e+05  2.848070e+05  2.848070e+05  2.848070e+05  2.848070e+05   \n",
       "mean   1.766038e-12 -3.406543e-13 -5.713163e-13 -9.725303e-13  1.464139e-12   \n",
       "std    7.709250e-01  7.345240e-01  7.257016e-01  6.244603e-01  6.056471e-01   \n",
       "min   -5.449772e+01 -3.483038e+01 -1.093314e+01 -4.480774e+01 -2.836627e+00   \n",
       "25%   -2.117214e-01 -2.283949e-01 -5.423504e-01 -1.618463e-01 -3.545861e-01   \n",
       "50%   -6.248109e-02 -2.945017e-02  6.781943e-03 -1.119293e-02  4.097606e-02   \n",
       "75%    1.330408e-01  1.863772e-01  5.285536e-01  1.476421e-01  4.395266e-01   \n",
       "max    3.942090e+01  2.720284e+01  1.050309e+01  2.252841e+01  4.584549e+00   \n",
       "\n",
       "                V25           V26           V27           V28         Amount  \\\n",
       "count  2.848070e+05  2.848070e+05  2.848070e+05  2.848070e+05  284807.000000   \n",
       "mean  -6.989087e-13 -5.615260e-13  3.332112e-12 -3.518886e-12      88.349619   \n",
       "std    5.212781e-01  4.822270e-01  4.036325e-01  3.300833e-01     250.120109   \n",
       "min   -1.029540e+01 -2.604551e+00 -2.256568e+01 -1.543008e+01       0.000000   \n",
       "25%   -3.171451e-01 -3.269839e-01 -7.083953e-02 -5.295979e-02       5.600000   \n",
       "50%    1.659350e-02 -5.213911e-02  1.342146e-03  1.124383e-02      22.000000   \n",
       "75%    3.507156e-01  2.409522e-01  9.104512e-02  7.827995e-02      77.165000   \n",
       "max    7.519589e+00  3.517346e+00  3.161220e+01  3.384781e+01   25691.160000   \n",
       "\n",
       "               Class  \n",
       "count  284807.000000  \n",
       "mean        0.001727  \n",
       "std         0.041527  \n",
       "min         0.000000  \n",
       "25%         0.000000  \n",
       "50%         0.000000  \n",
       "75%         0.000000  \n",
       "max         1.000000  "
      ]
     },
     "execution_count": 25,
     "metadata": {},
     "output_type": "execute_result"
    }
   ],
   "source": [
    "data_df.describe()"
   ]
  },
  {
   "cell_type": "code",
   "execution_count": 26,
   "metadata": {},
   "outputs": [
    {
     "data": {
      "text/html": [
       "<div>\n",
       "<style scoped>\n",
       "    .dataframe tbody tr th:only-of-type {\n",
       "        vertical-align: middle;\n",
       "    }\n",
       "\n",
       "    .dataframe tbody tr th {\n",
       "        vertical-align: top;\n",
       "    }\n",
       "\n",
       "    .dataframe thead th {\n",
       "        text-align: right;\n",
       "    }\n",
       "</style>\n",
       "<table border=\"1\" class=\"dataframe\">\n",
       "  <thead>\n",
       "    <tr style=\"text-align: right;\">\n",
       "      <th></th>\n",
       "      <th>Class</th>\n",
       "      <th>V14</th>\n",
       "      <th>V1</th>\n",
       "      <th>V2</th>\n",
       "      <th>V3</th>\n",
       "      <th>V4</th>\n",
       "      <th>V5</th>\n",
       "      <th>V6</th>\n",
       "      <th>V7</th>\n",
       "      <th>V8</th>\n",
       "      <th>V9</th>\n",
       "      <th>V10</th>\n",
       "      <th>V11</th>\n",
       "      <th>V12</th>\n",
       "      <th>V13</th>\n",
       "      <th>V15</th>\n",
       "      <th>Amount</th>\n",
       "      <th>V16</th>\n",
       "      <th>V17</th>\n",
       "      <th>V18</th>\n",
       "      <th>V19</th>\n",
       "      <th>V20</th>\n",
       "      <th>V21</th>\n",
       "      <th>V22</th>\n",
       "      <th>V23</th>\n",
       "      <th>V24</th>\n",
       "      <th>V25</th>\n",
       "      <th>V26</th>\n",
       "      <th>V27</th>\n",
       "      <th>V28</th>\n",
       "      <th>Time</th>\n",
       "    </tr>\n",
       "  </thead>\n",
       "  <tbody>\n",
       "    <tr>\n",
       "      <th>Total</th>\n",
       "      <td>0.0</td>\n",
       "      <td>0.0</td>\n",
       "      <td>0.0</td>\n",
       "      <td>0.0</td>\n",
       "      <td>0.0</td>\n",
       "      <td>0.0</td>\n",
       "      <td>0.0</td>\n",
       "      <td>0.0</td>\n",
       "      <td>0.0</td>\n",
       "      <td>0.0</td>\n",
       "      <td>0.0</td>\n",
       "      <td>0.0</td>\n",
       "      <td>0.0</td>\n",
       "      <td>0.0</td>\n",
       "      <td>0.0</td>\n",
       "      <td>0.0</td>\n",
       "      <td>0.0</td>\n",
       "      <td>0.0</td>\n",
       "      <td>0.0</td>\n",
       "      <td>0.0</td>\n",
       "      <td>0.0</td>\n",
       "      <td>0.0</td>\n",
       "      <td>0.0</td>\n",
       "      <td>0.0</td>\n",
       "      <td>0.0</td>\n",
       "      <td>0.0</td>\n",
       "      <td>0.0</td>\n",
       "      <td>0.0</td>\n",
       "      <td>0.0</td>\n",
       "      <td>0.0</td>\n",
       "      <td>0.0</td>\n",
       "    </tr>\n",
       "    <tr>\n",
       "      <th>Percent</th>\n",
       "      <td>0.0</td>\n",
       "      <td>0.0</td>\n",
       "      <td>0.0</td>\n",
       "      <td>0.0</td>\n",
       "      <td>0.0</td>\n",
       "      <td>0.0</td>\n",
       "      <td>0.0</td>\n",
       "      <td>0.0</td>\n",
       "      <td>0.0</td>\n",
       "      <td>0.0</td>\n",
       "      <td>0.0</td>\n",
       "      <td>0.0</td>\n",
       "      <td>0.0</td>\n",
       "      <td>0.0</td>\n",
       "      <td>0.0</td>\n",
       "      <td>0.0</td>\n",
       "      <td>0.0</td>\n",
       "      <td>0.0</td>\n",
       "      <td>0.0</td>\n",
       "      <td>0.0</td>\n",
       "      <td>0.0</td>\n",
       "      <td>0.0</td>\n",
       "      <td>0.0</td>\n",
       "      <td>0.0</td>\n",
       "      <td>0.0</td>\n",
       "      <td>0.0</td>\n",
       "      <td>0.0</td>\n",
       "      <td>0.0</td>\n",
       "      <td>0.0</td>\n",
       "      <td>0.0</td>\n",
       "      <td>0.0</td>\n",
       "    </tr>\n",
       "  </tbody>\n",
       "</table>\n",
       "</div>"
      ],
      "text/plain": [
       "         Class  V14   V1   V2   V3   V4   V5   V6   V7   V8   V9  V10  V11  \\\n",
       "Total      0.0  0.0  0.0  0.0  0.0  0.0  0.0  0.0  0.0  0.0  0.0  0.0  0.0   \n",
       "Percent    0.0  0.0  0.0  0.0  0.0  0.0  0.0  0.0  0.0  0.0  0.0  0.0  0.0   \n",
       "\n",
       "         V12  V13  V15  Amount  V16  V17  V18  V19  V20  V21  V22  V23  V24  \\\n",
       "Total    0.0  0.0  0.0     0.0  0.0  0.0  0.0  0.0  0.0  0.0  0.0  0.0  0.0   \n",
       "Percent  0.0  0.0  0.0     0.0  0.0  0.0  0.0  0.0  0.0  0.0  0.0  0.0  0.0   \n",
       "\n",
       "         V25  V26  V27  V28  Time  \n",
       "Total    0.0  0.0  0.0  0.0   0.0  \n",
       "Percent  0.0  0.0  0.0  0.0   0.0  "
      ]
     },
     "execution_count": 26,
     "metadata": {},
     "output_type": "execute_result"
    }
   ],
   "source": [
    "total = data_df.isnull().sum().sort_values(ascending = False)\n",
    "percent = (data_df.isnull().sum()/data_df.isnull().count()*100).sort_values(ascending = False)\n",
    "pd.concat([total, percent], axis=1, keys=['Total', 'Percent']).transpose()"
   ]
  },
  {
   "cell_type": "code",
   "execution_count": 27,
   "metadata": {},
   "outputs": [
    {
     "data": {
      "application/vnd.plotly.v1+json": {
       "config": {
        "linkText": "Export to plot.ly",
        "plotlyServerURL": "https://plot.ly",
        "showLink": false
       },
       "data": [
        {
         "marker": {
          "color": "Red"
         },
         "name": "Credit Card Fraud Class - data unbalance (Not fraud = 0, Fraud = 1)",
         "text": [
          284315,
          492
         ],
         "type": "bar",
         "x": [
          0,
          1
         ],
         "y": [
          284315,
          492
         ]
        }
       ],
       "layout": {
        "hovermode": "closest",
        "template": {
         "data": {
          "bar": [
           {
            "error_x": {
             "color": "#2a3f5f"
            },
            "error_y": {
             "color": "#2a3f5f"
            },
            "marker": {
             "line": {
              "color": "#E5ECF6",
              "width": 0.5
             }
            },
            "type": "bar"
           }
          ],
          "barpolar": [
           {
            "marker": {
             "line": {
              "color": "#E5ECF6",
              "width": 0.5
             }
            },
            "type": "barpolar"
           }
          ],
          "carpet": [
           {
            "aaxis": {
             "endlinecolor": "#2a3f5f",
             "gridcolor": "white",
             "linecolor": "white",
             "minorgridcolor": "white",
             "startlinecolor": "#2a3f5f"
            },
            "baxis": {
             "endlinecolor": "#2a3f5f",
             "gridcolor": "white",
             "linecolor": "white",
             "minorgridcolor": "white",
             "startlinecolor": "#2a3f5f"
            },
            "type": "carpet"
           }
          ],
          "choropleth": [
           {
            "colorbar": {
             "outlinewidth": 0,
             "ticks": ""
            },
            "type": "choropleth"
           }
          ],
          "contour": [
           {
            "colorbar": {
             "outlinewidth": 0,
             "ticks": ""
            },
            "colorscale": [
             [
              0,
              "#0d0887"
             ],
             [
              0.1111111111111111,
              "#46039f"
             ],
             [
              0.2222222222222222,
              "#7201a8"
             ],
             [
              0.3333333333333333,
              "#9c179e"
             ],
             [
              0.4444444444444444,
              "#bd3786"
             ],
             [
              0.5555555555555556,
              "#d8576b"
             ],
             [
              0.6666666666666666,
              "#ed7953"
             ],
             [
              0.7777777777777778,
              "#fb9f3a"
             ],
             [
              0.8888888888888888,
              "#fdca26"
             ],
             [
              1,
              "#f0f921"
             ]
            ],
            "type": "contour"
           }
          ],
          "contourcarpet": [
           {
            "colorbar": {
             "outlinewidth": 0,
             "ticks": ""
            },
            "type": "contourcarpet"
           }
          ],
          "heatmap": [
           {
            "colorbar": {
             "outlinewidth": 0,
             "ticks": ""
            },
            "colorscale": [
             [
              0,
              "#0d0887"
             ],
             [
              0.1111111111111111,
              "#46039f"
             ],
             [
              0.2222222222222222,
              "#7201a8"
             ],
             [
              0.3333333333333333,
              "#9c179e"
             ],
             [
              0.4444444444444444,
              "#bd3786"
             ],
             [
              0.5555555555555556,
              "#d8576b"
             ],
             [
              0.6666666666666666,
              "#ed7953"
             ],
             [
              0.7777777777777778,
              "#fb9f3a"
             ],
             [
              0.8888888888888888,
              "#fdca26"
             ],
             [
              1,
              "#f0f921"
             ]
            ],
            "type": "heatmap"
           }
          ],
          "heatmapgl": [
           {
            "colorbar": {
             "outlinewidth": 0,
             "ticks": ""
            },
            "colorscale": [
             [
              0,
              "#0d0887"
             ],
             [
              0.1111111111111111,
              "#46039f"
             ],
             [
              0.2222222222222222,
              "#7201a8"
             ],
             [
              0.3333333333333333,
              "#9c179e"
             ],
             [
              0.4444444444444444,
              "#bd3786"
             ],
             [
              0.5555555555555556,
              "#d8576b"
             ],
             [
              0.6666666666666666,
              "#ed7953"
             ],
             [
              0.7777777777777778,
              "#fb9f3a"
             ],
             [
              0.8888888888888888,
              "#fdca26"
             ],
             [
              1,
              "#f0f921"
             ]
            ],
            "type": "heatmapgl"
           }
          ],
          "histogram": [
           {
            "marker": {
             "colorbar": {
              "outlinewidth": 0,
              "ticks": ""
             }
            },
            "type": "histogram"
           }
          ],
          "histogram2d": [
           {
            "colorbar": {
             "outlinewidth": 0,
             "ticks": ""
            },
            "colorscale": [
             [
              0,
              "#0d0887"
             ],
             [
              0.1111111111111111,
              "#46039f"
             ],
             [
              0.2222222222222222,
              "#7201a8"
             ],
             [
              0.3333333333333333,
              "#9c179e"
             ],
             [
              0.4444444444444444,
              "#bd3786"
             ],
             [
              0.5555555555555556,
              "#d8576b"
             ],
             [
              0.6666666666666666,
              "#ed7953"
             ],
             [
              0.7777777777777778,
              "#fb9f3a"
             ],
             [
              0.8888888888888888,
              "#fdca26"
             ],
             [
              1,
              "#f0f921"
             ]
            ],
            "type": "histogram2d"
           }
          ],
          "histogram2dcontour": [
           {
            "colorbar": {
             "outlinewidth": 0,
             "ticks": ""
            },
            "colorscale": [
             [
              0,
              "#0d0887"
             ],
             [
              0.1111111111111111,
              "#46039f"
             ],
             [
              0.2222222222222222,
              "#7201a8"
             ],
             [
              0.3333333333333333,
              "#9c179e"
             ],
             [
              0.4444444444444444,
              "#bd3786"
             ],
             [
              0.5555555555555556,
              "#d8576b"
             ],
             [
              0.6666666666666666,
              "#ed7953"
             ],
             [
              0.7777777777777778,
              "#fb9f3a"
             ],
             [
              0.8888888888888888,
              "#fdca26"
             ],
             [
              1,
              "#f0f921"
             ]
            ],
            "type": "histogram2dcontour"
           }
          ],
          "mesh3d": [
           {
            "colorbar": {
             "outlinewidth": 0,
             "ticks": ""
            },
            "type": "mesh3d"
           }
          ],
          "parcoords": [
           {
            "line": {
             "colorbar": {
              "outlinewidth": 0,
              "ticks": ""
             }
            },
            "type": "parcoords"
           }
          ],
          "scatter": [
           {
            "marker": {
             "colorbar": {
              "outlinewidth": 0,
              "ticks": ""
             }
            },
            "type": "scatter"
           }
          ],
          "scatter3d": [
           {
            "line": {
             "colorbar": {
              "outlinewidth": 0,
              "ticks": ""
             }
            },
            "marker": {
             "colorbar": {
              "outlinewidth": 0,
              "ticks": ""
             }
            },
            "type": "scatter3d"
           }
          ],
          "scattercarpet": [
           {
            "marker": {
             "colorbar": {
              "outlinewidth": 0,
              "ticks": ""
             }
            },
            "type": "scattercarpet"
           }
          ],
          "scattergeo": [
           {
            "marker": {
             "colorbar": {
              "outlinewidth": 0,
              "ticks": ""
             }
            },
            "type": "scattergeo"
           }
          ],
          "scattergl": [
           {
            "marker": {
             "colorbar": {
              "outlinewidth": 0,
              "ticks": ""
             }
            },
            "type": "scattergl"
           }
          ],
          "scattermapbox": [
           {
            "marker": {
             "colorbar": {
              "outlinewidth": 0,
              "ticks": ""
             }
            },
            "type": "scattermapbox"
           }
          ],
          "scatterpolar": [
           {
            "marker": {
             "colorbar": {
              "outlinewidth": 0,
              "ticks": ""
             }
            },
            "type": "scatterpolar"
           }
          ],
          "scatterpolargl": [
           {
            "marker": {
             "colorbar": {
              "outlinewidth": 0,
              "ticks": ""
             }
            },
            "type": "scatterpolargl"
           }
          ],
          "scatterternary": [
           {
            "marker": {
             "colorbar": {
              "outlinewidth": 0,
              "ticks": ""
             }
            },
            "type": "scatterternary"
           }
          ],
          "surface": [
           {
            "colorbar": {
             "outlinewidth": 0,
             "ticks": ""
            },
            "colorscale": [
             [
              0,
              "#0d0887"
             ],
             [
              0.1111111111111111,
              "#46039f"
             ],
             [
              0.2222222222222222,
              "#7201a8"
             ],
             [
              0.3333333333333333,
              "#9c179e"
             ],
             [
              0.4444444444444444,
              "#bd3786"
             ],
             [
              0.5555555555555556,
              "#d8576b"
             ],
             [
              0.6666666666666666,
              "#ed7953"
             ],
             [
              0.7777777777777778,
              "#fb9f3a"
             ],
             [
              0.8888888888888888,
              "#fdca26"
             ],
             [
              1,
              "#f0f921"
             ]
            ],
            "type": "surface"
           }
          ],
          "table": [
           {
            "cells": {
             "fill": {
              "color": "#EBF0F8"
             },
             "line": {
              "color": "white"
             }
            },
            "header": {
             "fill": {
              "color": "#C8D4E3"
             },
             "line": {
              "color": "white"
             }
            },
            "type": "table"
           }
          ]
         },
         "layout": {
          "annotationdefaults": {
           "arrowcolor": "#2a3f5f",
           "arrowhead": 0,
           "arrowwidth": 1
          },
          "colorscale": {
           "diverging": [
            [
             0,
             "#8e0152"
            ],
            [
             0.1,
             "#c51b7d"
            ],
            [
             0.2,
             "#de77ae"
            ],
            [
             0.3,
             "#f1b6da"
            ],
            [
             0.4,
             "#fde0ef"
            ],
            [
             0.5,
             "#f7f7f7"
            ],
            [
             0.6,
             "#e6f5d0"
            ],
            [
             0.7,
             "#b8e186"
            ],
            [
             0.8,
             "#7fbc41"
            ],
            [
             0.9,
             "#4d9221"
            ],
            [
             1,
             "#276419"
            ]
           ],
           "sequential": [
            [
             0,
             "#0d0887"
            ],
            [
             0.1111111111111111,
             "#46039f"
            ],
            [
             0.2222222222222222,
             "#7201a8"
            ],
            [
             0.3333333333333333,
             "#9c179e"
            ],
            [
             0.4444444444444444,
             "#bd3786"
            ],
            [
             0.5555555555555556,
             "#d8576b"
            ],
            [
             0.6666666666666666,
             "#ed7953"
            ],
            [
             0.7777777777777778,
             "#fb9f3a"
            ],
            [
             0.8888888888888888,
             "#fdca26"
            ],
            [
             1,
             "#f0f921"
            ]
           ],
           "sequentialminus": [
            [
             0,
             "#0d0887"
            ],
            [
             0.1111111111111111,
             "#46039f"
            ],
            [
             0.2222222222222222,
             "#7201a8"
            ],
            [
             0.3333333333333333,
             "#9c179e"
            ],
            [
             0.4444444444444444,
             "#bd3786"
            ],
            [
             0.5555555555555556,
             "#d8576b"
            ],
            [
             0.6666666666666666,
             "#ed7953"
            ],
            [
             0.7777777777777778,
             "#fb9f3a"
            ],
            [
             0.8888888888888888,
             "#fdca26"
            ],
            [
             1,
             "#f0f921"
            ]
           ]
          },
          "colorway": [
           "#636efa",
           "#EF553B",
           "#00cc96",
           "#ab63fa",
           "#FFA15A",
           "#19d3f3",
           "#FF6692",
           "#B6E880",
           "#FF97FF",
           "#FECB52"
          ],
          "font": {
           "color": "#2a3f5f"
          },
          "geo": {
           "bgcolor": "white",
           "lakecolor": "white",
           "landcolor": "#E5ECF6",
           "showlakes": true,
           "showland": true,
           "subunitcolor": "white"
          },
          "hoverlabel": {
           "align": "left"
          },
          "hovermode": "closest",
          "mapbox": {
           "style": "light"
          },
          "paper_bgcolor": "white",
          "plot_bgcolor": "#E5ECF6",
          "polar": {
           "angularaxis": {
            "gridcolor": "white",
            "linecolor": "white",
            "ticks": ""
           },
           "bgcolor": "#E5ECF6",
           "radialaxis": {
            "gridcolor": "white",
            "linecolor": "white",
            "ticks": ""
           }
          },
          "scene": {
           "xaxis": {
            "backgroundcolor": "#E5ECF6",
            "gridcolor": "white",
            "gridwidth": 2,
            "linecolor": "white",
            "showbackground": true,
            "ticks": "",
            "zerolinecolor": "white"
           },
           "yaxis": {
            "backgroundcolor": "#E5ECF6",
            "gridcolor": "white",
            "gridwidth": 2,
            "linecolor": "white",
            "showbackground": true,
            "ticks": "",
            "zerolinecolor": "white"
           },
           "zaxis": {
            "backgroundcolor": "#E5ECF6",
            "gridcolor": "white",
            "gridwidth": 2,
            "linecolor": "white",
            "showbackground": true,
            "ticks": "",
            "zerolinecolor": "white"
           }
          },
          "shapedefaults": {
           "line": {
            "color": "#2a3f5f"
           }
          },
          "ternary": {
           "aaxis": {
            "gridcolor": "white",
            "linecolor": "white",
            "ticks": ""
           },
           "baxis": {
            "gridcolor": "white",
            "linecolor": "white",
            "ticks": ""
           },
           "bgcolor": "#E5ECF6",
           "caxis": {
            "gridcolor": "white",
            "linecolor": "white",
            "ticks": ""
           }
          },
          "title": {
           "x": 0.05
          },
          "xaxis": {
           "automargin": true,
           "gridcolor": "white",
           "linecolor": "white",
           "ticks": "",
           "zerolinecolor": "white",
           "zerolinewidth": 2
          },
          "yaxis": {
           "automargin": true,
           "gridcolor": "white",
           "linecolor": "white",
           "ticks": "",
           "zerolinecolor": "white",
           "zerolinewidth": 2
          }
         }
        },
        "title": {
         "text": "Credit Card Fraud Class - data unbalance (Not fraud = 0, Fraud = 1)"
        },
        "width": 600,
        "xaxis": {
         "showticklabels": true,
         "title": {
          "text": "Class"
         }
        },
        "yaxis": {
         "title": {
          "text": "Number of transactions"
         }
        }
       }
      },
      "text/html": [
       "<div>\n",
       "        \n",
       "        \n",
       "            <div id=\"6cbddb8b-2b48-4972-8615-eccf2b22fc7e\" class=\"plotly-graph-div\" style=\"height:525px; width:600px;\"></div>\n",
       "            <script type=\"text/javascript\">\n",
       "                require([\"plotly\"], function(Plotly) {\n",
       "                    window.PLOTLYENV=window.PLOTLYENV || {};\n",
       "                    \n",
       "                if (document.getElementById(\"6cbddb8b-2b48-4972-8615-eccf2b22fc7e\")) {\n",
       "                    Plotly.newPlot(\n",
       "                        '6cbddb8b-2b48-4972-8615-eccf2b22fc7e',\n",
       "                        [{\"marker\": {\"color\": \"Red\"}, \"name\": \"Credit Card Fraud Class - data unbalance (Not fraud = 0, Fraud = 1)\", \"text\": [284315.0, 492.0], \"type\": \"bar\", \"x\": [0, 1], \"y\": [284315, 492]}],\n",
       "                        {\"hovermode\": \"closest\", \"template\": {\"data\": {\"bar\": [{\"error_x\": {\"color\": \"#2a3f5f\"}, \"error_y\": {\"color\": \"#2a3f5f\"}, \"marker\": {\"line\": {\"color\": \"#E5ECF6\", \"width\": 0.5}}, \"type\": \"bar\"}], \"barpolar\": [{\"marker\": {\"line\": {\"color\": \"#E5ECF6\", \"width\": 0.5}}, \"type\": \"barpolar\"}], \"carpet\": [{\"aaxis\": {\"endlinecolor\": \"#2a3f5f\", \"gridcolor\": \"white\", \"linecolor\": \"white\", \"minorgridcolor\": \"white\", \"startlinecolor\": \"#2a3f5f\"}, \"baxis\": {\"endlinecolor\": \"#2a3f5f\", \"gridcolor\": \"white\", \"linecolor\": \"white\", \"minorgridcolor\": \"white\", \"startlinecolor\": \"#2a3f5f\"}, \"type\": \"carpet\"}], \"choropleth\": [{\"colorbar\": {\"outlinewidth\": 0, \"ticks\": \"\"}, \"type\": \"choropleth\"}], \"contour\": [{\"colorbar\": {\"outlinewidth\": 0, \"ticks\": \"\"}, \"colorscale\": [[0.0, \"#0d0887\"], [0.1111111111111111, \"#46039f\"], [0.2222222222222222, \"#7201a8\"], [0.3333333333333333, \"#9c179e\"], [0.4444444444444444, \"#bd3786\"], [0.5555555555555556, \"#d8576b\"], [0.6666666666666666, \"#ed7953\"], [0.7777777777777778, \"#fb9f3a\"], [0.8888888888888888, \"#fdca26\"], [1.0, \"#f0f921\"]], \"type\": \"contour\"}], \"contourcarpet\": [{\"colorbar\": {\"outlinewidth\": 0, \"ticks\": \"\"}, \"type\": \"contourcarpet\"}], \"heatmap\": [{\"colorbar\": {\"outlinewidth\": 0, \"ticks\": \"\"}, \"colorscale\": [[0.0, \"#0d0887\"], [0.1111111111111111, \"#46039f\"], [0.2222222222222222, \"#7201a8\"], [0.3333333333333333, \"#9c179e\"], [0.4444444444444444, \"#bd3786\"], [0.5555555555555556, \"#d8576b\"], [0.6666666666666666, \"#ed7953\"], [0.7777777777777778, \"#fb9f3a\"], [0.8888888888888888, \"#fdca26\"], [1.0, \"#f0f921\"]], \"type\": \"heatmap\"}], \"heatmapgl\": [{\"colorbar\": {\"outlinewidth\": 0, \"ticks\": \"\"}, \"colorscale\": [[0.0, \"#0d0887\"], [0.1111111111111111, \"#46039f\"], [0.2222222222222222, \"#7201a8\"], [0.3333333333333333, \"#9c179e\"], [0.4444444444444444, \"#bd3786\"], [0.5555555555555556, \"#d8576b\"], [0.6666666666666666, \"#ed7953\"], [0.7777777777777778, \"#fb9f3a\"], [0.8888888888888888, \"#fdca26\"], [1.0, \"#f0f921\"]], \"type\": \"heatmapgl\"}], \"histogram\": [{\"marker\": {\"colorbar\": {\"outlinewidth\": 0, \"ticks\": \"\"}}, \"type\": \"histogram\"}], \"histogram2d\": [{\"colorbar\": {\"outlinewidth\": 0, \"ticks\": \"\"}, \"colorscale\": [[0.0, \"#0d0887\"], [0.1111111111111111, \"#46039f\"], [0.2222222222222222, \"#7201a8\"], [0.3333333333333333, \"#9c179e\"], [0.4444444444444444, \"#bd3786\"], [0.5555555555555556, \"#d8576b\"], [0.6666666666666666, \"#ed7953\"], [0.7777777777777778, \"#fb9f3a\"], [0.8888888888888888, \"#fdca26\"], [1.0, \"#f0f921\"]], \"type\": \"histogram2d\"}], \"histogram2dcontour\": [{\"colorbar\": {\"outlinewidth\": 0, \"ticks\": \"\"}, \"colorscale\": [[0.0, \"#0d0887\"], [0.1111111111111111, \"#46039f\"], [0.2222222222222222, \"#7201a8\"], [0.3333333333333333, \"#9c179e\"], [0.4444444444444444, \"#bd3786\"], [0.5555555555555556, \"#d8576b\"], [0.6666666666666666, \"#ed7953\"], [0.7777777777777778, \"#fb9f3a\"], [0.8888888888888888, \"#fdca26\"], [1.0, \"#f0f921\"]], \"type\": \"histogram2dcontour\"}], \"mesh3d\": [{\"colorbar\": {\"outlinewidth\": 0, \"ticks\": \"\"}, \"type\": \"mesh3d\"}], \"parcoords\": [{\"line\": {\"colorbar\": {\"outlinewidth\": 0, \"ticks\": \"\"}}, \"type\": \"parcoords\"}], \"scatter\": [{\"marker\": {\"colorbar\": {\"outlinewidth\": 0, \"ticks\": \"\"}}, \"type\": \"scatter\"}], \"scatter3d\": [{\"line\": {\"colorbar\": {\"outlinewidth\": 0, \"ticks\": \"\"}}, \"marker\": {\"colorbar\": {\"outlinewidth\": 0, \"ticks\": \"\"}}, \"type\": \"scatter3d\"}], \"scattercarpet\": [{\"marker\": {\"colorbar\": {\"outlinewidth\": 0, \"ticks\": \"\"}}, \"type\": \"scattercarpet\"}], \"scattergeo\": [{\"marker\": {\"colorbar\": {\"outlinewidth\": 0, \"ticks\": \"\"}}, \"type\": \"scattergeo\"}], \"scattergl\": [{\"marker\": {\"colorbar\": {\"outlinewidth\": 0, \"ticks\": \"\"}}, \"type\": \"scattergl\"}], \"scattermapbox\": [{\"marker\": {\"colorbar\": {\"outlinewidth\": 0, \"ticks\": \"\"}}, \"type\": \"scattermapbox\"}], \"scatterpolar\": [{\"marker\": {\"colorbar\": {\"outlinewidth\": 0, \"ticks\": \"\"}}, \"type\": \"scatterpolar\"}], \"scatterpolargl\": [{\"marker\": {\"colorbar\": {\"outlinewidth\": 0, \"ticks\": \"\"}}, \"type\": \"scatterpolargl\"}], \"scatterternary\": [{\"marker\": {\"colorbar\": {\"outlinewidth\": 0, \"ticks\": \"\"}}, \"type\": \"scatterternary\"}], \"surface\": [{\"colorbar\": {\"outlinewidth\": 0, \"ticks\": \"\"}, \"colorscale\": [[0.0, \"#0d0887\"], [0.1111111111111111, \"#46039f\"], [0.2222222222222222, \"#7201a8\"], [0.3333333333333333, \"#9c179e\"], [0.4444444444444444, \"#bd3786\"], [0.5555555555555556, \"#d8576b\"], [0.6666666666666666, \"#ed7953\"], [0.7777777777777778, \"#fb9f3a\"], [0.8888888888888888, \"#fdca26\"], [1.0, \"#f0f921\"]], \"type\": \"surface\"}], \"table\": [{\"cells\": {\"fill\": {\"color\": \"#EBF0F8\"}, \"line\": {\"color\": \"white\"}}, \"header\": {\"fill\": {\"color\": \"#C8D4E3\"}, \"line\": {\"color\": \"white\"}}, \"type\": \"table\"}]}, \"layout\": {\"annotationdefaults\": {\"arrowcolor\": \"#2a3f5f\", \"arrowhead\": 0, \"arrowwidth\": 1}, \"colorscale\": {\"diverging\": [[0, \"#8e0152\"], [0.1, \"#c51b7d\"], [0.2, \"#de77ae\"], [0.3, \"#f1b6da\"], [0.4, \"#fde0ef\"], [0.5, \"#f7f7f7\"], [0.6, \"#e6f5d0\"], [0.7, \"#b8e186\"], [0.8, \"#7fbc41\"], [0.9, \"#4d9221\"], [1, \"#276419\"]], \"sequential\": [[0.0, \"#0d0887\"], [0.1111111111111111, \"#46039f\"], [0.2222222222222222, \"#7201a8\"], [0.3333333333333333, \"#9c179e\"], [0.4444444444444444, \"#bd3786\"], [0.5555555555555556, \"#d8576b\"], [0.6666666666666666, \"#ed7953\"], [0.7777777777777778, \"#fb9f3a\"], [0.8888888888888888, \"#fdca26\"], [1.0, \"#f0f921\"]], \"sequentialminus\": [[0.0, \"#0d0887\"], [0.1111111111111111, \"#46039f\"], [0.2222222222222222, \"#7201a8\"], [0.3333333333333333, \"#9c179e\"], [0.4444444444444444, \"#bd3786\"], [0.5555555555555556, \"#d8576b\"], [0.6666666666666666, \"#ed7953\"], [0.7777777777777778, \"#fb9f3a\"], [0.8888888888888888, \"#fdca26\"], [1.0, \"#f0f921\"]]}, \"colorway\": [\"#636efa\", \"#EF553B\", \"#00cc96\", \"#ab63fa\", \"#FFA15A\", \"#19d3f3\", \"#FF6692\", \"#B6E880\", \"#FF97FF\", \"#FECB52\"], \"font\": {\"color\": \"#2a3f5f\"}, \"geo\": {\"bgcolor\": \"white\", \"lakecolor\": \"white\", \"landcolor\": \"#E5ECF6\", \"showlakes\": true, \"showland\": true, \"subunitcolor\": \"white\"}, \"hoverlabel\": {\"align\": \"left\"}, \"hovermode\": \"closest\", \"mapbox\": {\"style\": \"light\"}, \"paper_bgcolor\": \"white\", \"plot_bgcolor\": \"#E5ECF6\", \"polar\": {\"angularaxis\": {\"gridcolor\": \"white\", \"linecolor\": \"white\", \"ticks\": \"\"}, \"bgcolor\": \"#E5ECF6\", \"radialaxis\": {\"gridcolor\": \"white\", \"linecolor\": \"white\", \"ticks\": \"\"}}, \"scene\": {\"xaxis\": {\"backgroundcolor\": \"#E5ECF6\", \"gridcolor\": \"white\", \"gridwidth\": 2, \"linecolor\": \"white\", \"showbackground\": true, \"ticks\": \"\", \"zerolinecolor\": \"white\"}, \"yaxis\": {\"backgroundcolor\": \"#E5ECF6\", \"gridcolor\": \"white\", \"gridwidth\": 2, \"linecolor\": \"white\", \"showbackground\": true, \"ticks\": \"\", \"zerolinecolor\": \"white\"}, \"zaxis\": {\"backgroundcolor\": \"#E5ECF6\", \"gridcolor\": \"white\", \"gridwidth\": 2, \"linecolor\": \"white\", \"showbackground\": true, \"ticks\": \"\", \"zerolinecolor\": \"white\"}}, \"shapedefaults\": {\"line\": {\"color\": \"#2a3f5f\"}}, \"ternary\": {\"aaxis\": {\"gridcolor\": \"white\", \"linecolor\": \"white\", \"ticks\": \"\"}, \"baxis\": {\"gridcolor\": \"white\", \"linecolor\": \"white\", \"ticks\": \"\"}, \"bgcolor\": \"#E5ECF6\", \"caxis\": {\"gridcolor\": \"white\", \"linecolor\": \"white\", \"ticks\": \"\"}}, \"title\": {\"x\": 0.05}, \"xaxis\": {\"automargin\": true, \"gridcolor\": \"white\", \"linecolor\": \"white\", \"ticks\": \"\", \"zerolinecolor\": \"white\", \"zerolinewidth\": 2}, \"yaxis\": {\"automargin\": true, \"gridcolor\": \"white\", \"linecolor\": \"white\", \"ticks\": \"\", \"zerolinecolor\": \"white\", \"zerolinewidth\": 2}}}, \"title\": {\"text\": \"Credit Card Fraud Class - data unbalance (Not fraud = 0, Fraud = 1)\"}, \"width\": 600, \"xaxis\": {\"showticklabels\": true, \"title\": {\"text\": \"Class\"}}, \"yaxis\": {\"title\": {\"text\": \"Number of transactions\"}}},\n",
       "                        {\"responsive\": true}\n",
       "                    ).then(function(){\n",
       "                            \n",
       "var gd = document.getElementById('6cbddb8b-2b48-4972-8615-eccf2b22fc7e');\n",
       "var x = new MutationObserver(function (mutations, observer) {{\n",
       "        var display = window.getComputedStyle(gd).display;\n",
       "        if (!display || display === 'none') {{\n",
       "            console.log([gd, 'removed!']);\n",
       "            Plotly.purge(gd);\n",
       "            observer.disconnect();\n",
       "        }}\n",
       "}});\n",
       "\n",
       "// Listen for the removal of the full notebook cells\n",
       "var notebookContainer = gd.closest('#notebook-container');\n",
       "if (notebookContainer) {{\n",
       "    x.observe(notebookContainer, {childList: true});\n",
       "}}\n",
       "\n",
       "// Listen for the clearing of the current output cell\n",
       "var outputEl = gd.closest('.output');\n",
       "if (outputEl) {{\n",
       "    x.observe(outputEl, {childList: true});\n",
       "}}\n",
       "\n",
       "                        })\n",
       "                };\n",
       "                });\n",
       "            </script>\n",
       "        </div>"
      ]
     },
     "metadata": {},
     "output_type": "display_data"
    }
   ],
   "source": [
    "temp = data_df[\"Class\"].value_counts()\n",
    "df = pd.DataFrame({'Class': temp.index,'values': temp.values})\n",
    "\n",
    "trace = go.Bar(\n",
    "    x = df['Class'],y = df['values'],\n",
    "    name=\"Credit Card Fraud Class - data unbalance (Not fraud = 0, Fraud = 1)\",\n",
    "    marker=dict(color=\"Red\"),\n",
    "    text=df['values']\n",
    ")\n",
    "data = [trace]\n",
    "layout = dict(title = 'Credit Card Fraud Class - data unbalance (Not fraud = 0, Fraud = 1)',\n",
    "          xaxis = dict(title = 'Class', showticklabels=True), \n",
    "          yaxis = dict(title = 'Number of transactions'),\n",
    "          hovermode = 'closest',width=600\n",
    "         )\n",
    "fig = dict(data=data, layout=layout)\n",
    "iplot(fig, filename='class')"
   ]
  },
  {
   "cell_type": "code",
   "execution_count": 28,
   "metadata": {},
   "outputs": [
    {
     "data": {
      "application/vnd.plotly.v1+json": {
       "config": {
        "linkText": "Export to plot.ly",
        "plotlyServerURL": "https://plot.ly",
        "showLink": false
       },
       "data": [
        {
         "legendgroup": "Not Fraud",
         "marker": {
          "color": "rgb(31, 119, 180)"
         },
         "mode": "lines",
         "name": "Not Fraud",
         "showlegend": true,
         "type": "scatter",
         "x": [
          0,
          345.584,
          691.168,
          1036.752,
          1382.336,
          1727.92,
          2073.504,
          2419.088,
          2764.672,
          3110.256,
          3455.84,
          3801.424,
          4147.008,
          4492.592,
          4838.176,
          5183.76,
          5529.344,
          5874.928,
          6220.512,
          6566.096,
          6911.68,
          7257.264,
          7602.848,
          7948.432,
          8294.016,
          8639.6,
          8985.184,
          9330.768,
          9676.352,
          10021.936,
          10367.52,
          10713.104,
          11058.688,
          11404.272,
          11749.856,
          12095.44,
          12441.024,
          12786.608,
          13132.192,
          13477.776,
          13823.36,
          14168.944,
          14514.528,
          14860.112,
          15205.696,
          15551.28,
          15896.864,
          16242.448,
          16588.032,
          16933.616,
          17279.2,
          17624.784,
          17970.368,
          18315.952,
          18661.536,
          19007.12,
          19352.704,
          19698.288,
          20043.872,
          20389.456,
          20735.04,
          21080.624,
          21426.208,
          21771.792,
          22117.376,
          22462.96,
          22808.544,
          23154.128,
          23499.712,
          23845.296,
          24190.88,
          24536.464,
          24882.048,
          25227.632,
          25573.216,
          25918.8,
          26264.384,
          26609.968,
          26955.552,
          27301.136,
          27646.72,
          27992.304,
          28337.888,
          28683.472,
          29029.056,
          29374.64,
          29720.224,
          30065.808,
          30411.392,
          30756.976,
          31102.56,
          31448.144,
          31793.728,
          32139.312,
          32484.896,
          32830.48,
          33176.064,
          33521.648,
          33867.232,
          34212.816,
          34558.4,
          34903.984,
          35249.568,
          35595.152,
          35940.736,
          36286.32,
          36631.904,
          36977.488,
          37323.072,
          37668.656,
          38014.24,
          38359.824,
          38705.408,
          39050.992,
          39396.576,
          39742.16,
          40087.744,
          40433.328,
          40778.912,
          41124.496,
          41470.08,
          41815.664,
          42161.248,
          42506.832,
          42852.416,
          43198,
          43543.584,
          43889.168,
          44234.752,
          44580.336,
          44925.92,
          45271.504,
          45617.088,
          45962.672,
          46308.256,
          46653.84,
          46999.424,
          47345.008,
          47690.592,
          48036.176,
          48381.76,
          48727.344,
          49072.928,
          49418.512,
          49764.096,
          50109.68,
          50455.264,
          50800.848,
          51146.432,
          51492.016,
          51837.6,
          52183.184,
          52528.768,
          52874.352,
          53219.936,
          53565.52,
          53911.104,
          54256.688,
          54602.272,
          54947.856,
          55293.44,
          55639.024,
          55984.608,
          56330.192,
          56675.776,
          57021.36,
          57366.944,
          57712.528,
          58058.112,
          58403.696,
          58749.28,
          59094.864,
          59440.448,
          59786.032,
          60131.616,
          60477.2,
          60822.784,
          61168.368,
          61513.952,
          61859.536,
          62205.12,
          62550.704,
          62896.288,
          63241.872,
          63587.456,
          63933.04,
          64278.624,
          64624.208,
          64969.792,
          65315.376,
          65660.96,
          66006.544,
          66352.128,
          66697.712,
          67043.296,
          67388.88,
          67734.464,
          68080.048,
          68425.632,
          68771.216,
          69116.8,
          69462.384,
          69807.968,
          70153.552,
          70499.136,
          70844.72,
          71190.304,
          71535.888,
          71881.472,
          72227.056,
          72572.64,
          72918.224,
          73263.808,
          73609.392,
          73954.976,
          74300.56,
          74646.144,
          74991.728,
          75337.312,
          75682.896,
          76028.48,
          76374.064,
          76719.648,
          77065.232,
          77410.816,
          77756.4,
          78101.984,
          78447.568,
          78793.152,
          79138.736,
          79484.32,
          79829.904,
          80175.488,
          80521.072,
          80866.656,
          81212.24,
          81557.824,
          81903.408,
          82248.992,
          82594.576,
          82940.16,
          83285.744,
          83631.328,
          83976.912,
          84322.496,
          84668.08,
          85013.664,
          85359.248,
          85704.832,
          86050.416,
          86396,
          86741.584,
          87087.168,
          87432.752,
          87778.336,
          88123.92,
          88469.504,
          88815.088,
          89160.672,
          89506.256,
          89851.84,
          90197.424,
          90543.008,
          90888.592,
          91234.176,
          91579.76,
          91925.344,
          92270.928,
          92616.512,
          92962.096,
          93307.68,
          93653.264,
          93998.848,
          94344.432,
          94690.016,
          95035.6,
          95381.184,
          95726.768,
          96072.352,
          96417.936,
          96763.52,
          97109.104,
          97454.688,
          97800.272,
          98145.856,
          98491.44,
          98837.024,
          99182.608,
          99528.192,
          99873.776,
          100219.36,
          100564.944,
          100910.528,
          101256.112,
          101601.696,
          101947.28,
          102292.864,
          102638.448,
          102984.032,
          103329.616,
          103675.2,
          104020.784,
          104366.368,
          104711.952,
          105057.536,
          105403.12,
          105748.704,
          106094.288,
          106439.872,
          106785.456,
          107131.04,
          107476.624,
          107822.208,
          108167.792,
          108513.376,
          108858.96,
          109204.544,
          109550.128,
          109895.712,
          110241.296,
          110586.88,
          110932.464,
          111278.048,
          111623.632,
          111969.216,
          112314.8,
          112660.384,
          113005.968,
          113351.552,
          113697.136,
          114042.72,
          114388.304,
          114733.888,
          115079.472,
          115425.056,
          115770.64,
          116116.224,
          116461.808,
          116807.392,
          117152.976,
          117498.56,
          117844.144,
          118189.728,
          118535.312,
          118880.896,
          119226.48,
          119572.064,
          119917.648,
          120263.232,
          120608.816,
          120954.4,
          121299.984,
          121645.568,
          121991.152,
          122336.736,
          122682.32,
          123027.904,
          123373.488,
          123719.072,
          124064.656,
          124410.24,
          124755.824,
          125101.408,
          125446.992,
          125792.576,
          126138.16,
          126483.744,
          126829.328,
          127174.912,
          127520.496,
          127866.08,
          128211.664,
          128557.248,
          128902.832,
          129248.416,
          129594,
          129939.584,
          130285.168,
          130630.752,
          130976.336,
          131321.92,
          131667.504,
          132013.088,
          132358.672,
          132704.256,
          133049.84,
          133395.424,
          133741.008,
          134086.592,
          134432.176,
          134777.76,
          135123.344,
          135468.928,
          135814.512,
          136160.096,
          136505.68,
          136851.264,
          137196.848,
          137542.432,
          137888.016,
          138233.6,
          138579.184,
          138924.768,
          139270.352,
          139615.936,
          139961.52,
          140307.104,
          140652.688,
          140998.272,
          141343.856,
          141689.44,
          142035.024,
          142380.608,
          142726.192,
          143071.776,
          143417.36,
          143762.944,
          144108.528,
          144454.112,
          144799.696,
          145145.28,
          145490.864,
          145836.448,
          146182.032,
          146527.616,
          146873.2,
          147218.784,
          147564.368,
          147909.952,
          148255.536,
          148601.12,
          148946.704,
          149292.288,
          149637.872,
          149983.456,
          150329.04,
          150674.624,
          151020.208,
          151365.792,
          151711.376,
          152056.96,
          152402.544,
          152748.128,
          153093.712,
          153439.296,
          153784.88,
          154130.464,
          154476.048,
          154821.632,
          155167.216,
          155512.8,
          155858.384,
          156203.968,
          156549.552,
          156895.136,
          157240.72,
          157586.304,
          157931.888,
          158277.472,
          158623.056,
          158968.64,
          159314.224,
          159659.808,
          160005.392,
          160350.976,
          160696.56,
          161042.144,
          161387.728,
          161733.312,
          162078.896,
          162424.48,
          162770.064,
          163115.648,
          163461.232,
          163806.816,
          164152.4,
          164497.984,
          164843.568,
          165189.152,
          165534.736,
          165880.32,
          166225.904,
          166571.488,
          166917.072,
          167262.656,
          167608.24,
          167953.824,
          168299.408,
          168644.992,
          168990.576,
          169336.16,
          169681.744,
          170027.328,
          170372.912,
          170718.496,
          171064.08,
          171409.664,
          171755.248,
          172100.832,
          172446.416
         ],
         "xaxis": "x",
         "y": [
          1.6973474560862627e-06,
          1.7892406860838526e-06,
          1.8751066622895498e-06,
          1.9539240211317084e-06,
          2.0248147874843106e-06,
          2.0870700001729115e-06,
          2.14016935231593e-06,
          2.1837939471418144e-06,
          2.2178316034667475e-06,
          2.242374511761464e-06,
          2.257709419619588e-06,
          2.2643008918189945e-06,
          2.2627685234052502e-06,
          2.2538592651664395e-06,
          2.2384162340776495e-06,
          2.2173455159804105e-06,
          2.1915825183282734e-06,
          2.1620593970212847e-06,
          2.12967496803883e-06,
          2.095268331193561e-06,
          2.05959719303192e-06,
          2.0233215945720564e-06,
          1.9869934446535077e-06,
          1.951051949066699e-06,
          1.9158247265703086e-06,
          1.881534131001993e-06,
          1.8483080671293393e-06,
          1.8161944068401388e-06,
          1.785177988507982e-06,
          1.755199119121395e-06,
          1.7261724957826224e-06,
          1.6980055169884527e-06,
          1.6706150584079204e-06,
          1.6439419340972738e-06,
          1.617962442003826e-06,
          1.592696590961132e-06,
          1.5682128135696685e-06,
          1.5446291740590161e-06,
          1.5221112719307157e-06,
          1.5008672116659746e-06,
          1.4811401484837603e-06,
          1.4631990243978153e-06,
          1.447328174052503e-06,
          1.4338165045344423e-06,
          1.4229469381476586e-06,
          1.4149867545429892e-06,
          1.4101793829092357e-06,
          1.4087380819814246e-06,
          1.4108418124354172e-06,
          1.416633460726872e-06,
          1.4262204239962383e-06,
          1.4396774207780313e-06,
          1.4570512600449124e-06,
          1.4783671889174922e-06,
          1.503636353303646e-06,
          1.5328638503406753e-06,
          1.5660568294638421e-06,
          1.6032321108016588e-06,
          1.6444228338375714e-06,
          1.689683722236208e-06,
          1.7390946469102098e-06,
          1.792762281809442e-06,
          1.8508197675565917e-06,
          1.9134244185216927e-06,
          1.9807536210244885e-06,
          2.0529991667168726e-06,
          2.1303603398728397e-06,
          2.2130361262112214e-06,
          2.3012169320792582e-06,
          2.3950761967095174e-06,
          2.494762249423668e-06,
          2.6003907126325717e-06,
          2.7120376863087043e-06,
          2.8297338772312664e-06,
          2.9534597639184145e-06,
          3.08314182251252e-06,
          3.218649785632598e-06,
          3.3597948693887245e-06,
          3.506328885405161e-06,
          3.6579441546932664e-06,
          3.8142741563073386e-06,
          3.974894871817851e-06,
          4.139326821282089e-06,
          4.307037821357698e-06,
          4.477446525210389e-06,
          4.6499268212934376e-06,
          4.823813169618673e-06,
          4.998406937320888e-06,
          5.1729837598210006e-06,
          5.346801901645626e-06,
          5.519111525987054e-06,
          5.689164710128997e-06,
          5.856225971804482e-06,
          6.01958300672074e-06,
          6.1785572868971975e-06,
          6.332514139091255e-06,
          6.480871916741518e-06,
          6.623109899730124e-06,
          6.758774603685585e-06,
          6.887484251984152e-06,
          7.008931254393494e-06,
          7.122882640062263e-06,
          7.229178501787704e-06,
          7.3277286152221635e-06,
          7.4185074931608865e-06,
          7.501548214399744e-06,
          7.5769354233673155e-06,
          7.644797927106253e-06,
          7.705301318490688e-06,
          7.758641029150762e-06,
          7.805036164695593e-06,
          7.844724402421191e-06,
          7.877958143024662e-06,
          7.905002009089143e-06,
          7.926131680881422e-06,
          7.941633960960516e-06,
          7.951807869480464e-06,
          7.956966497383942e-06,
          7.957439289377042e-06,
          7.953574395833075e-06,
          7.945740724360044e-06,
          7.934329337960166e-06,
          7.919753886307513e-06,
          7.902449817071933e-06,
          7.882872191586981e-06,
          7.861492018652478e-06,
          7.838791116317863e-06,
          7.815255608176151e-06,
          7.791368252069772e-06,
          7.767599879606222e-06,
          7.744400289672022e-06,
          7.722188984437915e-06,
          7.701346159669777e-06,
          7.6822043614373e-06,
          7.66504119895186e-06,
          7.650073460068545e-06,
          7.637452914971322e-06,
          7.627264018690253e-06,
          7.619523638962205e-06,
          7.614182847393711e-06,
          7.611130723686739e-06,
          7.610200039221986e-06,
          7.611174611301135e-06,
          7.613798055773857e-06,
          7.617783615694086e-06,
          7.622824708288295e-06,
          7.628605812331322e-06,
          7.634813312831897e-06,
          7.64114592906242e-06,
          7.647324374416423e-06,
          7.65309993110725e-06,
          7.658261667942256e-06,
          7.662642083794296e-06,
          7.666121021266822e-06,
          7.668627762522526e-06,
          7.670141290160721e-06,
          7.670688767914657e-06,
          7.670342366007512e-06,
          7.669214621200612e-06,
          7.667452578693216e-06,
          7.665231008940166e-06,
          7.66274502428145e-06,
          7.660202435731148e-06,
          7.657816187892733e-06,
          7.655797189369247e-06,
          7.654347818074227e-06,
          7.653656327679867e-06,
          7.653892316465873e-06,
          7.655203347519694e-06,
          7.657712734803942e-06,
          7.661518438616632e-06,
          7.666692951868892e-06,
          7.673284010222967e-06,
          7.681315928222697e-06,
          7.690791352390224e-06,
          7.701693231398905e-06,
          7.713986831544126e-06,
          7.727621669694495e-06,
          7.742533291007435e-06,
          7.758644879036353e-06,
          7.775868744871325e-06,
          7.79410779301171e-06,
          7.813257098720212e-06,
          7.833205749804814e-06,
          7.853839101993525e-06,
          7.875041570289567e-06,
          7.896700030201783e-06,
          7.918707836091386e-06,
          7.940969384639724e-06,
          7.963405066766211e-06,
          7.985956369289427e-06,
          8.008590816494471e-06,
          8.031306389214013e-06,
          8.054135031363674e-06,
          8.077144855419447e-06,
          8.100440690962982e-06,
          8.1241626833605e-06,
          8.148482739462218e-06,
          8.173598728158165e-06,
          8.19972646813917e-06,
          8.227089664610624e-06,
          8.255908081986862e-06,
          8.286384352227572e-06,
          8.318689911131519e-06,
          8.352950622010653e-06,
          8.389232684289282e-06,
          8.427529432517308e-06,
          8.467749609998035e-06,
          8.50970765346795e-06,
          8.553116455128512e-06,
          8.597582980706167e-06,
          8.64260702222722e-06,
          8.687583256706685e-06,
          8.7318066712248e-06,
          8.77448130436738e-06,
          8.814732146393729e-06,
          8.851619937765455e-06,
          8.88415850941841e-06,
          8.91133421990008e-06,
          8.932126965959532e-06,
          8.94553217654003e-06,
          8.9505831480962e-06,
          8.946373044910867e-06,
          8.932075875017817e-06,
          8.906965763681001e-06,
          8.870433884729299e-06,
          8.822002476834196e-06,
          8.761335466861045e-06,
          8.688245343573518e-06,
          8.602696067955182e-06,
          8.50480196490832e-06,
          8.394822707027605e-06,
          8.273154665238411e-06,
          8.14031905353361e-06,
          7.996947426325236e-06,
          7.843765188648271e-06,
          7.681573845069893e-06,
          7.511232738581459e-06,
          7.333641014717414e-06,
          7.149720490327965e-06,
          6.9604000152843515e-06,
          6.766601795742141e-06,
          6.569230008025215e-06,
          6.36916188234495e-06,
          6.1672412852968806e-06,
          5.964274688715342e-06,
          5.7610292881532e-06,
          5.558232933420997e-06,
          5.356575460667355e-06,
          5.156710972657711e-06,
          4.9592606013690826e-06,
          4.764815303057907e-06,
          4.573938277349222e-06,
          4.387166664291066e-06,
          4.205012251684115e-06,
          4.027961014003795e-06,
          3.856471398599811e-06,
          3.6909713696185303e-06,
          3.5318543107641187e-06,
          3.3794739707041434e-06,
          3.234138706364412e-06,
          3.0961053368943386e-06,
          2.965572962655076e-06,
          2.8426771276872567e-06,
          2.727484709805266e-06,
          2.6199899093580027e-06,
          2.5201116760152447e-06,
          2.427692863569988e-06,
          2.3425013372965713e-06,
          2.2642331792467848e-06,
          2.192518047148897e-06,
          2.126926646176663e-06,
          2.0669801742747234e-06,
          2.0121615058943922e-06,
          1.9619277910246257e-06,
          1.9157240712836386e-06,
          1.872997457088476e-06,
          1.8332113732541475e-06,
          1.7958593673803118e-06,
          1.7604779872841777e-06,
          1.7266582702357457e-06,
          1.6940554459928813e-06,
          1.6623965343017236e-06,
          1.6314856110537775e-06,
          1.6012066201757904e-06,
          1.5715237145408006e-06,
          1.5424792126084122e-06,
          1.5141893523612144e-06,
          1.4868381053924665e-06,
          1.4606693777951694e-06,
          1.4359779681992243e-06,
          1.4130996757282455e-06,
          1.3924009520550415e-06,
          1.374268473694461e-06,
          1.359098975866334e-06,
          1.3472896412161791e-06,
          1.3392292794638814e-06,
          1.3352904719534256e-06,
          1.3358227923196142e-06,
          1.341147154952041e-06,
          1.351551289946453e-06,
          1.3672862993905292e-06,
          1.388564216903365e-06,
          1.4155564712148169e-06,
          1.448393145216722e-06,
          1.487162923474221e-06,
          1.5319136320144049e-06,
          1.5826532920302946e-06,
          1.6393516311860304e-06,
          1.7019420194298089e-06,
          1.7703238174882005e-06,
          1.8443651425656796e-06,
          1.9239060646458663e-06,
          2.0087622462565678e-06,
          2.0987290275197405e-06,
          2.1935859366462225e-06,
          2.2931015747104426e-06,
          2.3970387845925387e-06,
          2.505159970443064e-06,
          2.617232389775139e-06,
          2.733033199748879e-06,
          2.8523540070368338e-06,
          2.975004651334474e-06,
          3.1008159500100675e-06,
          3.229641148489752e-06,
          3.3613558593166232e-06,
          3.49585633235657e-06,
          3.63305597752494e-06,
          3.772880156059903e-06,
          3.915259361504739e-06,
          4.060121020560461e-06,
          4.2073802492878264e-06,
          4.356929993860715e-06,
          4.508631059529609e-06,
          4.662302579861579e-06,
          4.817713495387325e-06,
          4.974575593216112e-06,
          5.132538606064981e-06,
          5.291187782149929e-06,
          5.450044220727602e-06,
          5.608568128320152e-06,
          5.7661649962835346e-06,
          5.922194541198661e-06,
          6.0759820959883256e-06,
          6.226832001934228e-06,
          6.3740424391702864e-06,
          6.516921053371188e-06,
          6.65480069458238e-06,
          6.787054583110185e-06,
          6.9131102568893785e-06,
          7.032461731691249e-06,
          7.14467941424815e-06,
          7.2494174410241e-06,
          7.346418262603639e-06,
          7.435514445358395e-06,
          7.516627808025405e-06,
          7.589766141684876e-06,
          7.655017869382307e-06,
          7.712545080305865e-06,
          7.762575419365508e-06,
          7.805393325112301e-06,
          7.841331088566704e-06,
          7.870760156337701e-06,
          7.894083028920383e-06,
          7.911726016106728e-06,
          7.924133013619314e-06,
          7.931760366075839e-06,
          7.935072788426302e-06,
          7.934540237283306e-06,
          7.930635559896704e-06,
          7.923832705051495e-06,
          7.914605258270885e-06,
          7.903425063041958e-06,
          7.89076070846701e-06,
          7.877075698646474e-06,
          7.862826166203134e-06,
          7.848458047159103e-06,
          7.834403692291267e-06,
          7.82107794680554e-06,
          7.80887378194629e-06,
          7.798157606036477e-06,
          7.789264416364607e-06,
          7.782492976152238e-06,
          7.778101212259764e-06,
          7.77630202975444e-06,
          7.77725972996335e-06,
          7.781087200522931e-06,
          7.787844020760793e-06,
          7.79753559508473e-06,
          7.810113392412084e-06,
          7.825476332419114e-06,
          7.84347332074367e-06,
          7.8639068963338e-06,
          7.886537915928918e-06,
          7.91109116421336e-06,
          7.937261744566773e-06,
          7.964722075704143e-06,
          7.993129295077426e-06,
          8.022132851959116e-06,
          8.051382062852075e-06,
          8.080533400310436e-06,
          8.109257294160324e-06,
          8.137244241794653e-06,
          8.16421005146629e-06,
          8.189900078482718e-06,
          8.214092357438947e-06,
          8.236599582027277e-06,
          8.257269934936007e-06,
          8.27598682093582e-06,
          8.292667603341735e-06,
          8.307261484600672e-06,
          8.319746703096739e-06,
          8.330127238270504e-06,
          8.338429223485542e-06,
          8.344697260357182e-06,
          8.348990810121478e-06,
          8.351380808722875e-06,
          8.351946615215521e-06,
          8.35077336111727e-06,
          8.347949725304525e-06,
          8.343566118802401e-06,
          8.337713230093822e-06,
          8.330480857437759e-06,
          8.321956942328884e-06,
          8.31222671865372e-06,
          8.301371904983937e-06,
          8.28946989113108e-06,
          8.276592901670688e-06,
          8.262807154750896e-06,
          8.248172069642866e-06,
          8.232739606528159e-06,
          8.216553842656548e-06,
          8.19965089678613e-06,
          8.18205930653055e-06,
          8.163800940243873e-06,
          8.14489248744229e-06,
          8.125347522247993e-06,
          8.105179077168565e-06,
          8.084402605008365e-06,
          8.06303915073689e-06,
          8.041118508591712e-06,
          8.01868210783205e-06,
          7.99578535747785e-06,
          7.97249918855473e-06,
          7.948910562417519e-06,
          7.925121764270978e-06,
          7.901248368810616e-06,
          7.877415845168673e-06,
          7.853754855151636e-06,
          7.830395385603235e-06,
          7.80745993614009e-06,
          7.785056051576916e-06,
          7.763268539232036e-06,
          7.742151741544829e-06,
          7.721722242233079e-06,
          7.701952369437037e-06,
          7.682764823383501e-06,
          7.664028701862127e-06,
          7.645557128088653e-06,
          7.627106606879663e-06,
          7.608378151350892e-06,
          7.589020138440536e-06,
          7.568632772026084e-06,
          7.546773961324249e-06,
          7.522966363070434e-06,
          7.4967052913752665e-06,
          7.4674671710993854e-06,
          7.434718200257084e-06,
          7.3979228947754444e-06,
          7.356552214556277e-06,
          7.3100910121008246e-06,
          7.258044602058915e-06,
          7.19994431924819e-06,
          7.135352010448118e-06,
          7.06386348734273e-06,
          6.985111049446785e-06,
          6.898765261309039e-06,
          6.804536232138986e-06,
          6.702174692783631e-06,
          6.59147318977305e-06,
          6.472267715052255e-06,
          6.344440060579465e-06,
          6.207921128630434e-06,
          6.062695343022774e-06,
          5.908806197528015e-06,
          5.746362851759791e-06,
          5.5755475501749785e-06,
          5.396623506475849e-06,
          5.209942774562229e-06,
          5.015953529263184e-06,
          4.815206115540946e-06,
          4.608357202072403e-06,
          4.396171399757074e-06,
          4.179519780059286e-06,
          3.959374850598438e-06,
          3.7368017104920554e-06,
          3.5129453063021003e-06,
          3.289013928517071e-06,
          3.0662593135147575e-06,
          2.845953930965826e-06
         ],
         "yaxis": "y"
        },
        {
         "legendgroup": "Fraud",
         "marker": {
          "color": "rgb(255, 127, 14)"
         },
         "mode": "lines",
         "name": "Fraud",
         "showlegend": true,
         "type": "scatter",
         "x": [
          406,
          745.884,
          1085.768,
          1425.652,
          1765.536,
          2105.42,
          2445.304,
          2785.188,
          3125.072,
          3464.956,
          3804.84,
          4144.724,
          4484.608,
          4824.492,
          5164.376,
          5504.26,
          5844.144,
          6184.028,
          6523.912,
          6863.796,
          7203.68,
          7543.564,
          7883.448,
          8223.332,
          8563.216,
          8903.1,
          9242.984,
          9582.868,
          9922.752,
          10262.636,
          10602.52,
          10942.404,
          11282.288,
          11622.172,
          11962.056,
          12301.94,
          12641.824,
          12981.708,
          13321.592,
          13661.476,
          14001.36,
          14341.244,
          14681.128,
          15021.012,
          15360.896,
          15700.78,
          16040.664,
          16380.548,
          16720.432,
          17060.316,
          17400.2,
          17740.084,
          18079.968,
          18419.852,
          18759.736,
          19099.62,
          19439.504,
          19779.388,
          20119.272,
          20459.156,
          20799.04,
          21138.924,
          21478.808,
          21818.692,
          22158.576,
          22498.46,
          22838.344,
          23178.228,
          23518.112,
          23857.996,
          24197.88,
          24537.764,
          24877.648,
          25217.532,
          25557.416,
          25897.3,
          26237.184,
          26577.068,
          26916.952,
          27256.836,
          27596.72,
          27936.604,
          28276.488,
          28616.372,
          28956.256,
          29296.14,
          29636.024,
          29975.908,
          30315.792,
          30655.676,
          30995.56,
          31335.444,
          31675.328,
          32015.212,
          32355.096,
          32694.98,
          33034.864,
          33374.748,
          33714.632,
          34054.516,
          34394.4,
          34734.284,
          35074.168,
          35414.052,
          35753.936,
          36093.82,
          36433.704,
          36773.588,
          37113.472,
          37453.356,
          37793.24,
          38133.124,
          38473.008,
          38812.892,
          39152.776,
          39492.66,
          39832.544,
          40172.428,
          40512.312,
          40852.196,
          41192.08,
          41531.964,
          41871.848,
          42211.732,
          42551.616,
          42891.5,
          43231.384,
          43571.268,
          43911.152,
          44251.036,
          44590.92,
          44930.804,
          45270.688,
          45610.572,
          45950.456,
          46290.34,
          46630.224,
          46970.108,
          47309.992,
          47649.876,
          47989.76,
          48329.644,
          48669.528,
          49009.412,
          49349.296,
          49689.18,
          50029.064,
          50368.948,
          50708.832,
          51048.716,
          51388.6,
          51728.484,
          52068.368,
          52408.252,
          52748.136,
          53088.02,
          53427.904,
          53767.788,
          54107.672,
          54447.556,
          54787.44,
          55127.324,
          55467.208,
          55807.092,
          56146.976,
          56486.86,
          56826.744,
          57166.628,
          57506.512,
          57846.396,
          58186.28,
          58526.164,
          58866.048,
          59205.932,
          59545.816,
          59885.7,
          60225.584,
          60565.468,
          60905.352,
          61245.236,
          61585.12,
          61925.004,
          62264.888,
          62604.772,
          62944.656,
          63284.54,
          63624.424,
          63964.308,
          64304.192,
          64644.076,
          64983.96,
          65323.844,
          65663.728,
          66003.612,
          66343.496,
          66683.38,
          67023.264,
          67363.148,
          67703.032,
          68042.916,
          68382.8,
          68722.684,
          69062.568,
          69402.452,
          69742.336,
          70082.22,
          70422.104,
          70761.988,
          71101.872,
          71441.756,
          71781.64,
          72121.524,
          72461.408,
          72801.292,
          73141.176,
          73481.06,
          73820.944,
          74160.828,
          74500.712,
          74840.596,
          75180.48,
          75520.364,
          75860.248,
          76200.132,
          76540.016,
          76879.9,
          77219.784,
          77559.668,
          77899.552,
          78239.436,
          78579.32,
          78919.204,
          79259.088,
          79598.972,
          79938.856,
          80278.74,
          80618.624,
          80958.508,
          81298.392,
          81638.276,
          81978.16,
          82318.044,
          82657.928,
          82997.812,
          83337.696,
          83677.58,
          84017.464,
          84357.348,
          84697.232,
          85037.116,
          85377,
          85716.884,
          86056.768,
          86396.652,
          86736.536,
          87076.42,
          87416.304,
          87756.188,
          88096.072,
          88435.956,
          88775.84,
          89115.724,
          89455.608,
          89795.492,
          90135.376,
          90475.26,
          90815.144,
          91155.028,
          91494.912,
          91834.796,
          92174.68,
          92514.564,
          92854.448,
          93194.332,
          93534.216,
          93874.1,
          94213.984,
          94553.868,
          94893.752,
          95233.636,
          95573.52,
          95913.404,
          96253.288,
          96593.172,
          96933.056,
          97272.94,
          97612.824,
          97952.708,
          98292.592,
          98632.476,
          98972.36,
          99312.244,
          99652.128,
          99992.012,
          100331.896,
          100671.78,
          101011.664,
          101351.548,
          101691.432,
          102031.316,
          102371.2,
          102711.084,
          103050.968,
          103390.852,
          103730.736,
          104070.62,
          104410.504,
          104750.388,
          105090.272,
          105430.156,
          105770.04,
          106109.924,
          106449.808,
          106789.692,
          107129.576,
          107469.46,
          107809.344,
          108149.228,
          108489.112,
          108828.996,
          109168.88,
          109508.764,
          109848.648,
          110188.532,
          110528.416,
          110868.3,
          111208.184,
          111548.068,
          111887.952,
          112227.836,
          112567.72,
          112907.604,
          113247.488,
          113587.372,
          113927.256,
          114267.14,
          114607.024,
          114946.908,
          115286.792,
          115626.676,
          115966.56,
          116306.444,
          116646.328,
          116986.212,
          117326.096,
          117665.98,
          118005.864,
          118345.748,
          118685.632,
          119025.516,
          119365.4,
          119705.284,
          120045.168,
          120385.052,
          120724.936,
          121064.82,
          121404.704,
          121744.588,
          122084.472,
          122424.356,
          122764.24,
          123104.124,
          123444.008,
          123783.892,
          124123.776,
          124463.66,
          124803.544,
          125143.428,
          125483.312,
          125823.196,
          126163.08,
          126502.964,
          126842.848,
          127182.732,
          127522.616,
          127862.5,
          128202.384,
          128542.268,
          128882.152,
          129222.036,
          129561.92,
          129901.804,
          130241.688,
          130581.572,
          130921.456,
          131261.34,
          131601.224,
          131941.108,
          132280.992,
          132620.876,
          132960.76,
          133300.644,
          133640.528,
          133980.412,
          134320.296,
          134660.18,
          135000.064,
          135339.948,
          135679.832,
          136019.716,
          136359.6,
          136699.484,
          137039.368,
          137379.252,
          137719.136,
          138059.02,
          138398.904,
          138738.788,
          139078.672,
          139418.556,
          139758.44,
          140098.324,
          140438.208,
          140778.092,
          141117.976,
          141457.86,
          141797.744,
          142137.628,
          142477.512,
          142817.396,
          143157.28,
          143497.164,
          143837.048,
          144176.932,
          144516.816,
          144856.7,
          145196.584,
          145536.468,
          145876.352,
          146216.236,
          146556.12,
          146896.004,
          147235.888,
          147575.772,
          147915.656,
          148255.54,
          148595.424,
          148935.308,
          149275.192,
          149615.076,
          149954.96,
          150294.844,
          150634.728,
          150974.612,
          151314.496,
          151654.38,
          151994.264,
          152334.148,
          152674.032,
          153013.916,
          153353.8,
          153693.684,
          154033.568,
          154373.452,
          154713.336,
          155053.22,
          155393.104,
          155732.988,
          156072.872,
          156412.756,
          156752.64,
          157092.524,
          157432.408,
          157772.292,
          158112.176,
          158452.06,
          158791.944,
          159131.828,
          159471.712,
          159811.596,
          160151.48,
          160491.364,
          160831.248,
          161171.132,
          161511.016,
          161850.9,
          162190.784,
          162530.668,
          162870.552,
          163210.436,
          163550.32,
          163890.204,
          164230.088,
          164569.972,
          164909.856,
          165249.74,
          165589.624,
          165929.508,
          166269.392,
          166609.276,
          166949.16,
          167289.044,
          167628.928,
          167968.812,
          168308.696,
          168648.58,
          168988.464,
          169328.348,
          169668.232,
          170008.116
         ],
         "xaxis": "x",
         "y": [
          2.572527019918418e-06,
          2.631005805812937e-06,
          2.68976863043631e-06,
          2.7487866473632156e-06,
          2.808030992818619e-06,
          2.867472852442725e-06,
          2.9270835279276315e-06,
          2.9868345032672447e-06,
          3.046697510360475e-06,
          3.1066445937077396e-06,
          3.166648173942127e-06,
          3.2266811099387627e-06,
          3.286716759249751e-06,
          3.3467290366169313e-06,
          3.406692470320782e-06,
          3.466582256131253e-06,
          3.5263743086346604e-06,
          3.5860453097207323e-06,
          3.6455727540243784e-06,
          3.7049349911288065e-06,
          3.764111264349627e-06,
          3.823081745932923e-06,
          3.881827568515629e-06,
          3.940330852711663e-06,
          3.9985747307038155e-06,
          4.056543365738193e-06,
          4.11422196743588e-06,
          4.17159680285426e-06,
          4.228655203249315e-06,
          4.285385566508666e-06,
          4.341777355244732e-06,
          4.397821090555953e-06,
          4.453508341484288e-06,
          4.508831710215102e-06,
          4.563784813086289e-06,
          4.618362257490828e-06,
          4.672559614776589e-06,
          4.726373389264867e-06,
          4.7798009835267675e-06,
          4.832840660073919e-06,
          4.885491499635642e-06,
          4.937753356211278e-06,
          4.9896268091001775e-06,
          5.04111311212635e-06,
          5.0922141402872045e-06,
          5.142932334068033e-06,
          5.193270641674172e-06,
          5.2432324594427485e-06,
          5.29282157070396e-06,
          5.342042083369242e-06,
          5.390898366529331e-06,
          5.439394986349829e-06,
          5.487536641555422e-06,
          5.53532809879498e-06,
          5.582774128181612e-06,
          5.629879439299511e-06,
          5.676648617968548e-06,
          5.7230860640530265e-06,
          5.769195930597317e-06,
          5.8149820645638296e-06,
          5.860447949442464e-06,
          5.905596649991411e-06,
          5.950430759359777e-06,
          5.994952348831398e-06,
          6.039162920417342e-06,
          6.083063362511554e-06,
          6.126653908809837e-06,
          6.169934100677945e-06,
          6.212902753138355e-06,
          6.2555579246289196e-06,
          6.2978968906696675e-06,
          6.3399161215556845e-06,
          6.381611264176304e-06,
          6.422977128041526e-06,
          6.464007675577934e-06,
          6.50469601673676e-06,
          6.545034407937361e-06,
          6.58501425534952e-06,
          6.624626122499018e-06,
          6.663859742160649e-06,
          6.702704032484241e-06,
          6.741147117280051e-06,
          6.779176350371272e-06,
          6.816778343903151e-06,
          6.853939000481316e-06,
          6.890643548994119e-06,
          6.926876583958099e-06,
          6.962622108210539e-06,
          6.9978635787578355e-06,
          7.032583955575574e-06,
          7.066765753143314e-06,
          7.100391094485447e-06,
          7.133441767479519e-06,
          7.165899283183912e-06,
          7.197744935928862e-06,
          7.228959864908305e-06,
          7.25952511700409e-06,
          7.289421710570792e-06,
          7.318630699905549e-06,
          7.347133240126908e-06,
          7.374910652185979e-06,
          7.401944487734295e-06,
          7.428216593576151e-06,
          7.453709175436183e-06,
          7.478404860778613e-06,
          7.502286760421189e-06,
          7.525338528693982e-06,
          7.547544421902769e-06,
          7.568889354865966e-06,
          7.58935895530596e-06,
          7.608939615886935e-06,
          7.627618543704974e-06,
          7.64538380704971e-06,
          7.662224379271769e-06,
          7.678130179605051e-06,
          7.693092110809927e-06,
          7.707102093518345e-06,
          7.720153097180755e-06,
          7.732239167530264e-06,
          7.743355450497756e-06,
          7.753498212529602e-06,
          7.762664857276421e-06,
          7.770853938639618e-06,
          7.778065170179888e-06,
          7.78429943090817e-06,
          7.789558767497574e-06,
          7.79384639297004e-06,
          7.797166681927951e-06,
          7.79952516241576e-06,
          7.800928504511131e-06,
          7.801384505758742e-06,
          7.80090207357276e-06,
          7.799491204745425e-06,
          7.797162962210422e-06,
          7.793929449219107e-06,
          7.789803781096382e-06,
          7.784800054750643e-06,
          7.778933316118128e-06,
          7.772219525727602e-06,
          7.764675522574627e-06,
          7.756318986497782e-06,
          7.747168399250406e-06,
          7.737243004461255e-06,
          7.726562766677164e-06,
          7.715148329678096e-06,
          7.703020974251555e-06,
          7.690202575608844e-06,
          7.6767155606208e-06,
          7.66258286504243e-06,
          7.647827890890538e-06,
          7.632474464127662e-06,
          7.616546792798236e-06,
          7.600069425751889e-06,
          7.583067212077945e-06,
          7.565565261365004e-06,
          7.547588904886195e-06,
          7.5291636577997275e-06,
          7.510315182441242e-06,
          7.491069252771455e-06,
          7.471451720031002e-06,
          7.451488479639318e-06,
          7.4312054393636076e-06,
          7.410628488770469e-06,
          7.389783469959165e-06,
          7.368696149565697e-06,
          7.34739219201274e-06,
          7.325897133970937e-06,
          7.304236359985545e-06,
          7.2824350792125365e-06,
          7.260518303199251e-06,
          7.238510824635931e-06,
          7.21643719699677e-06,
          7.194321714982594e-06,
          7.172188395671032e-06,
          7.150060960275756e-06,
          7.1279628164118875e-06,
          7.105917040762365e-06,
          7.0839463620378695e-06,
          7.06207314412267e-06,
          7.04031936929879e-06,
          7.018706621442341e-06,
          6.997256069088544e-06,
          6.97598844826533e-06,
          6.9549240450000584e-06,
          6.934082677409289e-06,
          6.913483677288108e-06,
          6.893145871122813e-06,
          6.873087560459105e-06,
          6.85332650156659e-06,
          6.833879884350607e-06,
          6.814764310472568e-06,
          6.79599577065081e-06,
          6.777589621125889e-06,
          6.759560559286028e-06,
          6.741922598460664e-06,
          6.724689041902922e-06,
          6.7078724559944585e-06,
          6.691484642719284e-06,
          6.67553661146574e-06,
          6.660038550229452e-06,
          6.644999796301861e-06,
          6.630428806542273e-06,
          6.6163331273431475e-06,
          6.602719364410154e-06,
          6.589593152489992e-06,
          6.576959125189145e-06,
          6.564820885037662e-06,
          6.553180973960313e-06,
          6.542040844326766e-06,
          6.531400830759608e-06,
          6.52126012288577e-06,
          6.511616739222865e-06,
          6.5024675023959905e-06,
          6.49380801588478e-06,
          6.485632642502064e-06,
          6.477934484807599e-06,
          6.4707053676594145e-06,
          6.463935823104725e-06,
          6.457615077809521e-06,
          6.451731043222335e-06,
          6.4462703086626185e-06,
          6.441218137517924e-06,
          6.436558466726343e-06,
          6.432273909712515e-06,
          6.4283457629346345e-06,
          6.424754016189519e-06,
          6.4214773668104815e-06,
          6.4184932378788166e-06,
          6.415777800556122e-06,
          6.4133060006287515e-06,
          6.411051589339755e-06,
          6.4089871585665144e-06,
          6.407084180384327e-06,
          6.405313051037882e-06,
          6.403643139323298e-06,
          6.402042839363781e-06,
          6.400479627742135e-06,
          6.398920124932855e-06,
          6.397330160956045e-06,
          6.395674845154968e-06,
          6.393918639978057e-06,
          6.3920254386263285e-06,
          6.389958646405971e-06,
          6.387681265607026e-06,
          6.385155983708639e-06,
          6.382345264692881e-06,
          6.379211443230834e-06,
          6.375716821486894e-06,
          6.37182376827063e-06,
          6.367494820249901e-06,
          6.362692784924032e-06,
          6.357380845042467e-06,
          6.351522664141803e-06,
          6.345082492863207e-06,
          6.338025275702307e-06,
          6.3303167578356834e-06,
          6.321923591660977e-06,
          6.312813442682555e-06,
          6.302955094371119e-06,
          6.292318551623303e-06,
          6.280875142447136e-06,
          6.2685976175005394e-06,
          6.25546024711257e-06,
          6.241438915422389e-06,
          6.2265112112763815e-06,
          6.210656515532501e-06,
          6.193856084429974e-06,
          6.17609312869381e-06,
          6.157352888056184e-06,
          6.137622700890796e-06,
          6.116892068672298e-06,
          6.095152714989147e-06,
          6.072398638857379e-06,
          6.048626162101342e-06,
          6.0238339705888565e-06,
          5.998023149129178e-06,
          5.9711972098654034e-06,
          5.943362114015656e-06,
          5.914526286842001e-06,
          5.884700625750638e-06,
          5.853898501451925e-06,
          5.82213575213467e-06,
          5.78943067063488e-06,
          5.755803984604959e-06,
          5.721278829715627e-06,
          5.68588071594857e-06,
          5.649637487063374e-06,
          5.612579273347971e-06,
          5.574738437786229e-06,
          5.536149515800897e-06,
          5.496849148753552e-06,
          5.456876011406088e-06,
          5.416270733570007e-06,
          5.375075816190749e-06,
          5.3333355421342105e-06,
          5.291095881960875e-06,
          5.248404394990802e-06,
          5.205310125978367e-06,
          5.1618634977305e-06,
          5.118116200015249e-06,
          5.0741210751193585e-06,
          5.029932000423424e-06,
          4.985603768372087e-06,
          4.941191964223308e-06,
          4.8967528419664025e-06,
          4.852343198802162e-06,
          4.808020248580183e-06,
          4.7638414945893655e-06,
          4.719864602095875e-06,
          4.676147271020589e-06,
          4.632747109143131e-06,
          4.589721506214109e-06,
          4.547127509349559e-06,
          4.505021700072849e-06,
          4.463460073359002e-06,
          4.422497919024833e-06,
          4.382189705795714e-06,
          4.3425889683652545e-06,
          4.303748197749751e-06,
          4.265718735222605e-06,
          4.228550670097033e-06,
          4.19229274160747e-06,
          4.156992245121316e-06,
          4.122694942893465e-06,
          4.089444979555858e-06,
          4.057284802514104e-06,
          4.0262550874025364e-06,
          3.9963946687275235e-06,
          3.9677404758083995e-06,
          3.940327474103146e-06,
          3.914188611985553e-06,
          3.889354773018636e-06,
          3.865854733748635e-06,
          3.8437151270229636e-06,
          3.8229604108152885e-06,
          3.8036128425209804e-06,
          3.7856924586670494e-06,
          3.769217059961993e-06,
          3.7542022015929195e-06,
          3.7406611886604247e-06,
          3.7286050766251526e-06,
          3.7180426766247423e-06,
          3.70898056550533e-06,
          3.701423100398434e-06,
          3.6953724376616726e-06,
          3.6908285559905295e-06,
          3.6877892834982043e-06,
          3.6862503285517056e-06,
          3.6862053141446427e-06,
          3.687645815580386e-06,
          3.690561401234203e-06,
          3.6949396761586593e-06,
          3.700766328293753e-06,
          3.708025177041565e-06,
          3.716698223964656e-06,
          3.7267657053682887e-06,
          3.738206146528155e-06,
          3.7509964173285537e-06,
          3.76511178907982e-06,
          3.7805259922891007e-06,
          3.7972112751645677e-06,
          3.815138462640423e-06,
          3.83427701571793e-06,
          3.8545950909266296e-06,
          3.876059599719653e-06,
          3.898636267627167e-06,
          3.922289693003296e-06,
          3.94698340521336e-06,
          3.972679922120383e-06,
          3.9993408067424625e-06,
          4.0269267229654216e-06,
          4.0553974902085626e-06,
          4.084712136954441e-06,
          4.1148289530674665e-06,
          4.145705540839353e-06,
          4.177298864713322e-06,
          4.209565299651933e-06,
          4.242460678127159e-06,
          4.275940335723664e-06,
          4.309959155359335e-06,
          4.344471610138979e-06,
          4.379431804868751e-06,
          4.414793516270269e-06,
          4.450510231943431e-06,
          4.486535188137172e-06,
          4.522821406396074e-06,
          4.559321729159451e-06,
          4.595988854396517e-06,
          4.632775369368178e-06,
          4.669633783611574e-06,
          4.706516561248098e-06,
          4.743376152719508e-06,
          4.780165026059654e-06,
          4.81683569781089e-06,
          4.853340763695297e-06,
          4.889632929150577e-06,
          4.925665039839295e-06,
          4.961390112238062e-06,
          4.996761364410148e-06,
          5.031732247060993e-06,
          5.0662564749711855e-06,
          5.10028805889563e-06,
          5.133781338011257e-06,
          5.166691012987885e-06,
          5.198972179749109e-06,
          5.230580363981217e-06,
          5.2614715564386395e-06,
          5.291602249084776e-06,
          5.320929472096581e-06,
          5.3494108317504305e-06,
          5.37700454919587e-06,
          5.403669500112425e-06,
          5.429365255233114e-06,
          5.4540521217067536e-06,
          5.477691185259585e-06,
          5.50024435310493e-06,
          5.521674397538642e-06,
          5.541945000146362e-06,
          5.561020796538232e-06,
          5.578867421515785e-06,
          5.595451554565909e-06,
          5.610740965567119e-06,
          5.62470456058435e-06,
          5.637312427620308e-06,
          5.648535882183494e-06,
          5.65834751252651e-06,
          5.666721224401679e-06,
          5.673632285176339e-06,
          5.67905736714526e-06,
          5.682974589874616e-06,
          5.6853635614091865e-06,
          5.686205418173045e-06,
          5.685482863393367e-06,
          5.683180203877495e-06,
          5.6792833849747315e-06,
          5.673780023556719e-06,
          5.6666594388537515e-06,
          5.657912680988523e-06,
          5.64753255705424e-06,
          5.635513654590001e-06,
          5.621852362313587e-06,
          5.6065468879795055e-06,
          5.5895972732389255e-06,
          5.5710054053873445e-06,
          5.550775025896206e-06,
          5.528911735635076e-06,
          5.505422996702588e-06,
          5.480318130795819e-06,
          5.453608314060396e-06,
          5.425306568375871e-06,
          5.395427749044039e-06,
          5.363988528860969e-06,
          5.331007378566767e-06,
          5.296504543680575e-06,
          5.2605020177416475e-06,
          5.223023511990746e-06,
          5.18409442153927e-06,
          5.143741788086646e-06,
          5.101994259259247e-06,
          5.05888204465646e-06,
          5.014436868701739e-06,
          4.968691920407997e-06,
          4.921681800177757e-06,
          4.873442463769115e-06,
          4.824011163568485e-06,
          4.773426387320354e-06,
          4.721727794472899e-06,
          4.668956150306305e-06,
          4.615153258017562e-06,
          4.560361888942084e-06,
          4.504625711097863e-06,
          4.44798921624283e-06,
          4.390497645639762e-06,
          4.332196914726353e-06,
          4.273133536890291e-06,
          4.21335454655048e-06,
          4.152907421746279e-06,
          4.091840006436423e-06,
          4.030200432708102e-06,
          3.968037043095128e-06,
          3.905398313201444e-06,
          3.842332774823002e-06,
          3.778888939757001e-06,
          3.7151152244830654e-06,
          3.6510598758955136e-06,
          3.586770898260021e-06,
          3.5222959815618237e-06,
          3.4576824314054788e-06,
          3.3929771006189383e-06,
          3.3282263227070728e-06,
          3.263475847291374e-06,
          3.1987707776643135e-06,
          3.1341555105780303e-06,
          3.069673678378031e-06,
          3.005368093583347e-06,
          2.941280696005462e-06,
          2.8774525024886786e-06,
          2.8139235593453085e-06,
          2.7507328975493915e-06,
          2.6879184907434168e-06
         ],
         "yaxis": "y"
        }
       ],
       "layout": {
        "barmode": "overlay",
        "hovermode": "closest",
        "legend": {
         "traceorder": "reversed"
        },
        "template": {
         "data": {
          "bar": [
           {
            "error_x": {
             "color": "#2a3f5f"
            },
            "error_y": {
             "color": "#2a3f5f"
            },
            "marker": {
             "line": {
              "color": "#E5ECF6",
              "width": 0.5
             }
            },
            "type": "bar"
           }
          ],
          "barpolar": [
           {
            "marker": {
             "line": {
              "color": "#E5ECF6",
              "width": 0.5
             }
            },
            "type": "barpolar"
           }
          ],
          "carpet": [
           {
            "aaxis": {
             "endlinecolor": "#2a3f5f",
             "gridcolor": "white",
             "linecolor": "white",
             "minorgridcolor": "white",
             "startlinecolor": "#2a3f5f"
            },
            "baxis": {
             "endlinecolor": "#2a3f5f",
             "gridcolor": "white",
             "linecolor": "white",
             "minorgridcolor": "white",
             "startlinecolor": "#2a3f5f"
            },
            "type": "carpet"
           }
          ],
          "choropleth": [
           {
            "colorbar": {
             "outlinewidth": 0,
             "ticks": ""
            },
            "type": "choropleth"
           }
          ],
          "contour": [
           {
            "colorbar": {
             "outlinewidth": 0,
             "ticks": ""
            },
            "colorscale": [
             [
              0,
              "#0d0887"
             ],
             [
              0.1111111111111111,
              "#46039f"
             ],
             [
              0.2222222222222222,
              "#7201a8"
             ],
             [
              0.3333333333333333,
              "#9c179e"
             ],
             [
              0.4444444444444444,
              "#bd3786"
             ],
             [
              0.5555555555555556,
              "#d8576b"
             ],
             [
              0.6666666666666666,
              "#ed7953"
             ],
             [
              0.7777777777777778,
              "#fb9f3a"
             ],
             [
              0.8888888888888888,
              "#fdca26"
             ],
             [
              1,
              "#f0f921"
             ]
            ],
            "type": "contour"
           }
          ],
          "contourcarpet": [
           {
            "colorbar": {
             "outlinewidth": 0,
             "ticks": ""
            },
            "type": "contourcarpet"
           }
          ],
          "heatmap": [
           {
            "colorbar": {
             "outlinewidth": 0,
             "ticks": ""
            },
            "colorscale": [
             [
              0,
              "#0d0887"
             ],
             [
              0.1111111111111111,
              "#46039f"
             ],
             [
              0.2222222222222222,
              "#7201a8"
             ],
             [
              0.3333333333333333,
              "#9c179e"
             ],
             [
              0.4444444444444444,
              "#bd3786"
             ],
             [
              0.5555555555555556,
              "#d8576b"
             ],
             [
              0.6666666666666666,
              "#ed7953"
             ],
             [
              0.7777777777777778,
              "#fb9f3a"
             ],
             [
              0.8888888888888888,
              "#fdca26"
             ],
             [
              1,
              "#f0f921"
             ]
            ],
            "type": "heatmap"
           }
          ],
          "heatmapgl": [
           {
            "colorbar": {
             "outlinewidth": 0,
             "ticks": ""
            },
            "colorscale": [
             [
              0,
              "#0d0887"
             ],
             [
              0.1111111111111111,
              "#46039f"
             ],
             [
              0.2222222222222222,
              "#7201a8"
             ],
             [
              0.3333333333333333,
              "#9c179e"
             ],
             [
              0.4444444444444444,
              "#bd3786"
             ],
             [
              0.5555555555555556,
              "#d8576b"
             ],
             [
              0.6666666666666666,
              "#ed7953"
             ],
             [
              0.7777777777777778,
              "#fb9f3a"
             ],
             [
              0.8888888888888888,
              "#fdca26"
             ],
             [
              1,
              "#f0f921"
             ]
            ],
            "type": "heatmapgl"
           }
          ],
          "histogram": [
           {
            "marker": {
             "colorbar": {
              "outlinewidth": 0,
              "ticks": ""
             }
            },
            "type": "histogram"
           }
          ],
          "histogram2d": [
           {
            "colorbar": {
             "outlinewidth": 0,
             "ticks": ""
            },
            "colorscale": [
             [
              0,
              "#0d0887"
             ],
             [
              0.1111111111111111,
              "#46039f"
             ],
             [
              0.2222222222222222,
              "#7201a8"
             ],
             [
              0.3333333333333333,
              "#9c179e"
             ],
             [
              0.4444444444444444,
              "#bd3786"
             ],
             [
              0.5555555555555556,
              "#d8576b"
             ],
             [
              0.6666666666666666,
              "#ed7953"
             ],
             [
              0.7777777777777778,
              "#fb9f3a"
             ],
             [
              0.8888888888888888,
              "#fdca26"
             ],
             [
              1,
              "#f0f921"
             ]
            ],
            "type": "histogram2d"
           }
          ],
          "histogram2dcontour": [
           {
            "colorbar": {
             "outlinewidth": 0,
             "ticks": ""
            },
            "colorscale": [
             [
              0,
              "#0d0887"
             ],
             [
              0.1111111111111111,
              "#46039f"
             ],
             [
              0.2222222222222222,
              "#7201a8"
             ],
             [
              0.3333333333333333,
              "#9c179e"
             ],
             [
              0.4444444444444444,
              "#bd3786"
             ],
             [
              0.5555555555555556,
              "#d8576b"
             ],
             [
              0.6666666666666666,
              "#ed7953"
             ],
             [
              0.7777777777777778,
              "#fb9f3a"
             ],
             [
              0.8888888888888888,
              "#fdca26"
             ],
             [
              1,
              "#f0f921"
             ]
            ],
            "type": "histogram2dcontour"
           }
          ],
          "mesh3d": [
           {
            "colorbar": {
             "outlinewidth": 0,
             "ticks": ""
            },
            "type": "mesh3d"
           }
          ],
          "parcoords": [
           {
            "line": {
             "colorbar": {
              "outlinewidth": 0,
              "ticks": ""
             }
            },
            "type": "parcoords"
           }
          ],
          "scatter": [
           {
            "marker": {
             "colorbar": {
              "outlinewidth": 0,
              "ticks": ""
             }
            },
            "type": "scatter"
           }
          ],
          "scatter3d": [
           {
            "line": {
             "colorbar": {
              "outlinewidth": 0,
              "ticks": ""
             }
            },
            "marker": {
             "colorbar": {
              "outlinewidth": 0,
              "ticks": ""
             }
            },
            "type": "scatter3d"
           }
          ],
          "scattercarpet": [
           {
            "marker": {
             "colorbar": {
              "outlinewidth": 0,
              "ticks": ""
             }
            },
            "type": "scattercarpet"
           }
          ],
          "scattergeo": [
           {
            "marker": {
             "colorbar": {
              "outlinewidth": 0,
              "ticks": ""
             }
            },
            "type": "scattergeo"
           }
          ],
          "scattergl": [
           {
            "marker": {
             "colorbar": {
              "outlinewidth": 0,
              "ticks": ""
             }
            },
            "type": "scattergl"
           }
          ],
          "scattermapbox": [
           {
            "marker": {
             "colorbar": {
              "outlinewidth": 0,
              "ticks": ""
             }
            },
            "type": "scattermapbox"
           }
          ],
          "scatterpolar": [
           {
            "marker": {
             "colorbar": {
              "outlinewidth": 0,
              "ticks": ""
             }
            },
            "type": "scatterpolar"
           }
          ],
          "scatterpolargl": [
           {
            "marker": {
             "colorbar": {
              "outlinewidth": 0,
              "ticks": ""
             }
            },
            "type": "scatterpolargl"
           }
          ],
          "scatterternary": [
           {
            "marker": {
             "colorbar": {
              "outlinewidth": 0,
              "ticks": ""
             }
            },
            "type": "scatterternary"
           }
          ],
          "surface": [
           {
            "colorbar": {
             "outlinewidth": 0,
             "ticks": ""
            },
            "colorscale": [
             [
              0,
              "#0d0887"
             ],
             [
              0.1111111111111111,
              "#46039f"
             ],
             [
              0.2222222222222222,
              "#7201a8"
             ],
             [
              0.3333333333333333,
              "#9c179e"
             ],
             [
              0.4444444444444444,
              "#bd3786"
             ],
             [
              0.5555555555555556,
              "#d8576b"
             ],
             [
              0.6666666666666666,
              "#ed7953"
             ],
             [
              0.7777777777777778,
              "#fb9f3a"
             ],
             [
              0.8888888888888888,
              "#fdca26"
             ],
             [
              1,
              "#f0f921"
             ]
            ],
            "type": "surface"
           }
          ],
          "table": [
           {
            "cells": {
             "fill": {
              "color": "#EBF0F8"
             },
             "line": {
              "color": "white"
             }
            },
            "header": {
             "fill": {
              "color": "#C8D4E3"
             },
             "line": {
              "color": "white"
             }
            },
            "type": "table"
           }
          ]
         },
         "layout": {
          "annotationdefaults": {
           "arrowcolor": "#2a3f5f",
           "arrowhead": 0,
           "arrowwidth": 1
          },
          "colorscale": {
           "diverging": [
            [
             0,
             "#8e0152"
            ],
            [
             0.1,
             "#c51b7d"
            ],
            [
             0.2,
             "#de77ae"
            ],
            [
             0.3,
             "#f1b6da"
            ],
            [
             0.4,
             "#fde0ef"
            ],
            [
             0.5,
             "#f7f7f7"
            ],
            [
             0.6,
             "#e6f5d0"
            ],
            [
             0.7,
             "#b8e186"
            ],
            [
             0.8,
             "#7fbc41"
            ],
            [
             0.9,
             "#4d9221"
            ],
            [
             1,
             "#276419"
            ]
           ],
           "sequential": [
            [
             0,
             "#0d0887"
            ],
            [
             0.1111111111111111,
             "#46039f"
            ],
            [
             0.2222222222222222,
             "#7201a8"
            ],
            [
             0.3333333333333333,
             "#9c179e"
            ],
            [
             0.4444444444444444,
             "#bd3786"
            ],
            [
             0.5555555555555556,
             "#d8576b"
            ],
            [
             0.6666666666666666,
             "#ed7953"
            ],
            [
             0.7777777777777778,
             "#fb9f3a"
            ],
            [
             0.8888888888888888,
             "#fdca26"
            ],
            [
             1,
             "#f0f921"
            ]
           ],
           "sequentialminus": [
            [
             0,
             "#0d0887"
            ],
            [
             0.1111111111111111,
             "#46039f"
            ],
            [
             0.2222222222222222,
             "#7201a8"
            ],
            [
             0.3333333333333333,
             "#9c179e"
            ],
            [
             0.4444444444444444,
             "#bd3786"
            ],
            [
             0.5555555555555556,
             "#d8576b"
            ],
            [
             0.6666666666666666,
             "#ed7953"
            ],
            [
             0.7777777777777778,
             "#fb9f3a"
            ],
            [
             0.8888888888888888,
             "#fdca26"
            ],
            [
             1,
             "#f0f921"
            ]
           ]
          },
          "colorway": [
           "#636efa",
           "#EF553B",
           "#00cc96",
           "#ab63fa",
           "#FFA15A",
           "#19d3f3",
           "#FF6692",
           "#B6E880",
           "#FF97FF",
           "#FECB52"
          ],
          "font": {
           "color": "#2a3f5f"
          },
          "geo": {
           "bgcolor": "white",
           "lakecolor": "white",
           "landcolor": "#E5ECF6",
           "showlakes": true,
           "showland": true,
           "subunitcolor": "white"
          },
          "hoverlabel": {
           "align": "left"
          },
          "hovermode": "closest",
          "mapbox": {
           "style": "light"
          },
          "paper_bgcolor": "white",
          "plot_bgcolor": "#E5ECF6",
          "polar": {
           "angularaxis": {
            "gridcolor": "white",
            "linecolor": "white",
            "ticks": ""
           },
           "bgcolor": "#E5ECF6",
           "radialaxis": {
            "gridcolor": "white",
            "linecolor": "white",
            "ticks": ""
           }
          },
          "scene": {
           "xaxis": {
            "backgroundcolor": "#E5ECF6",
            "gridcolor": "white",
            "gridwidth": 2,
            "linecolor": "white",
            "showbackground": true,
            "ticks": "",
            "zerolinecolor": "white"
           },
           "yaxis": {
            "backgroundcolor": "#E5ECF6",
            "gridcolor": "white",
            "gridwidth": 2,
            "linecolor": "white",
            "showbackground": true,
            "ticks": "",
            "zerolinecolor": "white"
           },
           "zaxis": {
            "backgroundcolor": "#E5ECF6",
            "gridcolor": "white",
            "gridwidth": 2,
            "linecolor": "white",
            "showbackground": true,
            "ticks": "",
            "zerolinecolor": "white"
           }
          },
          "shapedefaults": {
           "line": {
            "color": "#2a3f5f"
           }
          },
          "ternary": {
           "aaxis": {
            "gridcolor": "white",
            "linecolor": "white",
            "ticks": ""
           },
           "baxis": {
            "gridcolor": "white",
            "linecolor": "white",
            "ticks": ""
           },
           "bgcolor": "#E5ECF6",
           "caxis": {
            "gridcolor": "white",
            "linecolor": "white",
            "ticks": ""
           }
          },
          "title": {
           "x": 0.05
          },
          "xaxis": {
           "automargin": true,
           "gridcolor": "white",
           "linecolor": "white",
           "ticks": "",
           "zerolinecolor": "white",
           "zerolinewidth": 2
          },
          "yaxis": {
           "automargin": true,
           "gridcolor": "white",
           "linecolor": "white",
           "ticks": "",
           "zerolinecolor": "white",
           "zerolinewidth": 2
          }
         }
        },
        "title": {
         "text": "Credit Card Transactions Time Density Plot"
        },
        "xaxis": {
         "anchor": "y2",
         "domain": [
          0,
          1
         ],
         "title": {
          "text": "Time [s]"
         },
         "zeroline": false
        },
        "yaxis": {
         "anchor": "free",
         "domain": [
          0,
          1
         ],
         "position": 0
        }
       }
      },
      "text/html": [
       "<div>\n",
       "        \n",
       "        \n",
       "            <div id=\"7eb1b7fc-66e4-4069-8a8b-2415a70860c5\" class=\"plotly-graph-div\" style=\"height:525px; width:100%;\"></div>\n",
       "            <script type=\"text/javascript\">\n",
       "                require([\"plotly\"], function(Plotly) {\n",
       "                    window.PLOTLYENV=window.PLOTLYENV || {};\n",
       "                    \n",
       "                if (document.getElementById(\"7eb1b7fc-66e4-4069-8a8b-2415a70860c5\")) {\n",
       "                    Plotly.newPlot(\n",
       "                        '7eb1b7fc-66e4-4069-8a8b-2415a70860c5',\n",
       "                        [{\"legendgroup\": \"Not Fraud\", \"marker\": {\"color\": \"rgb(31, 119, 180)\"}, \"mode\": \"lines\", \"name\": \"Not Fraud\", \"showlegend\": true, \"type\": \"scatter\", \"x\": [0.0, 345.584, 691.168, 1036.752, 1382.336, 1727.92, 2073.504, 2419.088, 2764.672, 3110.256, 3455.84, 3801.424, 4147.008, 4492.592, 4838.176, 5183.76, 5529.344, 5874.928, 6220.512, 6566.096, 6911.68, 7257.264, 7602.848, 7948.432, 8294.016, 8639.6, 8985.184, 9330.768, 9676.352, 10021.936, 10367.52, 10713.104, 11058.688, 11404.272, 11749.856, 12095.44, 12441.024, 12786.608, 13132.192, 13477.776, 13823.36, 14168.944, 14514.528, 14860.112, 15205.696, 15551.28, 15896.864, 16242.448, 16588.032, 16933.616, 17279.2, 17624.784, 17970.368, 18315.952, 18661.536, 19007.12, 19352.704, 19698.288, 20043.872, 20389.456, 20735.04, 21080.624, 21426.208, 21771.792, 22117.376, 22462.96, 22808.544, 23154.128, 23499.712, 23845.296, 24190.88, 24536.464, 24882.048, 25227.632, 25573.216, 25918.8, 26264.384, 26609.968, 26955.552, 27301.136, 27646.72, 27992.304, 28337.888, 28683.472, 29029.056, 29374.64, 29720.224, 30065.808, 30411.392, 30756.976, 31102.56, 31448.144, 31793.728, 32139.312, 32484.896, 32830.48, 33176.064, 33521.648, 33867.232, 34212.816, 34558.4, 34903.984, 35249.568, 35595.152, 35940.736, 36286.32, 36631.904, 36977.488, 37323.072, 37668.656, 38014.24, 38359.824, 38705.408, 39050.992, 39396.576, 39742.16, 40087.744, 40433.328, 40778.912, 41124.496, 41470.08, 41815.664, 42161.248, 42506.832, 42852.416, 43198.0, 43543.584, 43889.168, 44234.752, 44580.336, 44925.92, 45271.504, 45617.088, 45962.672, 46308.256, 46653.84, 46999.424, 47345.008, 47690.592, 48036.176, 48381.76, 48727.344, 49072.928, 49418.512, 49764.096, 50109.68, 50455.264, 50800.848, 51146.432, 51492.016, 51837.6, 52183.184, 52528.768, 52874.352, 53219.936, 53565.52, 53911.104, 54256.688, 54602.272, 54947.856, 55293.44, 55639.024, 55984.608, 56330.192, 56675.776, 57021.36, 57366.944, 57712.528, 58058.112, 58403.696, 58749.28, 59094.864, 59440.448, 59786.032, 60131.616, 60477.2, 60822.784, 61168.368, 61513.952, 61859.536, 62205.12, 62550.704, 62896.288, 63241.872, 63587.456, 63933.04, 64278.624, 64624.208, 64969.792, 65315.376, 65660.96, 66006.544, 66352.128, 66697.712, 67043.296, 67388.88, 67734.464, 68080.048, 68425.632, 68771.216, 69116.8, 69462.384, 69807.968, 70153.552, 70499.136, 70844.72, 71190.304, 71535.888, 71881.472, 72227.056, 72572.64, 72918.224, 73263.808, 73609.392, 73954.976, 74300.56, 74646.144, 74991.728, 75337.312, 75682.896, 76028.48, 76374.064, 76719.648, 77065.232, 77410.816, 77756.4, 78101.984, 78447.568, 78793.152, 79138.736, 79484.32, 79829.904, 80175.488, 80521.072, 80866.656, 81212.24, 81557.824, 81903.408, 82248.992, 82594.576, 82940.16, 83285.744, 83631.328, 83976.912, 84322.496, 84668.08, 85013.664, 85359.248, 85704.832, 86050.416, 86396.0, 86741.584, 87087.168, 87432.752, 87778.336, 88123.92, 88469.504, 88815.088, 89160.672, 89506.256, 89851.84, 90197.424, 90543.008, 90888.592, 91234.176, 91579.76, 91925.344, 92270.928, 92616.512, 92962.096, 93307.68, 93653.264, 93998.848, 94344.432, 94690.016, 95035.6, 95381.184, 95726.768, 96072.352, 96417.936, 96763.52, 97109.104, 97454.688, 97800.272, 98145.856, 98491.44, 98837.024, 99182.608, 99528.192, 99873.776, 100219.36, 100564.944, 100910.528, 101256.112, 101601.696, 101947.28, 102292.864, 102638.448, 102984.032, 103329.616, 103675.2, 104020.784, 104366.368, 104711.952, 105057.536, 105403.12, 105748.704, 106094.288, 106439.872, 106785.456, 107131.04, 107476.624, 107822.208, 108167.792, 108513.376, 108858.96, 109204.544, 109550.128, 109895.712, 110241.296, 110586.88, 110932.464, 111278.048, 111623.632, 111969.216, 112314.8, 112660.384, 113005.968, 113351.552, 113697.136, 114042.72, 114388.304, 114733.888, 115079.472, 115425.056, 115770.64, 116116.224, 116461.808, 116807.392, 117152.976, 117498.56, 117844.144, 118189.728, 118535.312, 118880.896, 119226.48, 119572.064, 119917.648, 120263.232, 120608.816, 120954.4, 121299.984, 121645.568, 121991.152, 122336.736, 122682.32, 123027.904, 123373.488, 123719.072, 124064.656, 124410.24, 124755.824, 125101.408, 125446.992, 125792.576, 126138.16, 126483.744, 126829.328, 127174.912, 127520.496, 127866.08, 128211.664, 128557.248, 128902.832, 129248.416, 129594.0, 129939.584, 130285.168, 130630.752, 130976.336, 131321.92, 131667.504, 132013.088, 132358.672, 132704.256, 133049.84, 133395.424, 133741.008, 134086.592, 134432.176, 134777.76, 135123.344, 135468.928, 135814.512, 136160.096, 136505.68, 136851.264, 137196.848, 137542.432, 137888.016, 138233.6, 138579.184, 138924.768, 139270.352, 139615.936, 139961.52, 140307.104, 140652.688, 140998.272, 141343.856, 141689.44, 142035.024, 142380.608, 142726.192, 143071.776, 143417.36, 143762.944, 144108.528, 144454.112, 144799.696, 145145.28, 145490.864, 145836.448, 146182.032, 146527.616, 146873.2, 147218.784, 147564.368, 147909.952, 148255.536, 148601.12, 148946.704, 149292.288, 149637.872, 149983.456, 150329.04, 150674.624, 151020.208, 151365.792, 151711.376, 152056.96, 152402.544, 152748.128, 153093.712, 153439.296, 153784.88, 154130.464, 154476.048, 154821.632, 155167.216, 155512.8, 155858.384, 156203.968, 156549.552, 156895.136, 157240.72, 157586.304, 157931.888, 158277.472, 158623.056, 158968.64, 159314.224, 159659.808, 160005.392, 160350.976, 160696.56, 161042.144, 161387.728, 161733.312, 162078.896, 162424.48, 162770.064, 163115.648, 163461.232, 163806.816, 164152.4, 164497.984, 164843.568, 165189.152, 165534.736, 165880.32, 166225.904, 166571.488, 166917.072, 167262.656, 167608.24, 167953.824, 168299.408, 168644.992, 168990.576, 169336.16, 169681.744, 170027.328, 170372.912, 170718.496, 171064.08, 171409.664, 171755.248, 172100.832, 172446.416], \"xaxis\": \"x\", \"y\": [1.6973474560862627e-06, 1.7892406860838526e-06, 1.8751066622895498e-06, 1.9539240211317084e-06, 2.0248147874843106e-06, 2.0870700001729115e-06, 2.14016935231593e-06, 2.1837939471418144e-06, 2.2178316034667475e-06, 2.242374511761464e-06, 2.257709419619588e-06, 2.2643008918189945e-06, 2.2627685234052502e-06, 2.2538592651664395e-06, 2.2384162340776495e-06, 2.2173455159804105e-06, 2.1915825183282734e-06, 2.1620593970212847e-06, 2.12967496803883e-06, 2.095268331193561e-06, 2.05959719303192e-06, 2.0233215945720564e-06, 1.9869934446535077e-06, 1.951051949066699e-06, 1.9158247265703086e-06, 1.881534131001993e-06, 1.8483080671293393e-06, 1.8161944068401388e-06, 1.785177988507982e-06, 1.755199119121395e-06, 1.7261724957826224e-06, 1.6980055169884527e-06, 1.6706150584079204e-06, 1.6439419340972738e-06, 1.617962442003826e-06, 1.592696590961132e-06, 1.5682128135696685e-06, 1.5446291740590161e-06, 1.5221112719307157e-06, 1.5008672116659746e-06, 1.4811401484837603e-06, 1.4631990243978153e-06, 1.447328174052503e-06, 1.4338165045344423e-06, 1.4229469381476586e-06, 1.4149867545429892e-06, 1.4101793829092357e-06, 1.4087380819814246e-06, 1.4108418124354172e-06, 1.416633460726872e-06, 1.4262204239962383e-06, 1.4396774207780313e-06, 1.4570512600449124e-06, 1.4783671889174922e-06, 1.503636353303646e-06, 1.5328638503406753e-06, 1.5660568294638421e-06, 1.6032321108016588e-06, 1.6444228338375714e-06, 1.689683722236208e-06, 1.7390946469102098e-06, 1.792762281809442e-06, 1.8508197675565917e-06, 1.9134244185216927e-06, 1.9807536210244885e-06, 2.0529991667168726e-06, 2.1303603398728397e-06, 2.2130361262112214e-06, 2.3012169320792582e-06, 2.3950761967095174e-06, 2.494762249423668e-06, 2.6003907126325717e-06, 2.7120376863087043e-06, 2.8297338772312664e-06, 2.9534597639184145e-06, 3.08314182251252e-06, 3.218649785632598e-06, 3.3597948693887245e-06, 3.506328885405161e-06, 3.6579441546932664e-06, 3.8142741563073386e-06, 3.974894871817851e-06, 4.139326821282089e-06, 4.307037821357698e-06, 4.477446525210389e-06, 4.6499268212934376e-06, 4.823813169618673e-06, 4.998406937320888e-06, 5.1729837598210006e-06, 5.346801901645626e-06, 5.519111525987054e-06, 5.689164710128997e-06, 5.856225971804482e-06, 6.01958300672074e-06, 6.1785572868971975e-06, 6.332514139091255e-06, 6.480871916741518e-06, 6.623109899730124e-06, 6.758774603685585e-06, 6.887484251984152e-06, 7.008931254393494e-06, 7.122882640062263e-06, 7.229178501787704e-06, 7.3277286152221635e-06, 7.4185074931608865e-06, 7.501548214399744e-06, 7.5769354233673155e-06, 7.644797927106253e-06, 7.705301318490688e-06, 7.758641029150762e-06, 7.805036164695593e-06, 7.844724402421191e-06, 7.877958143024662e-06, 7.905002009089143e-06, 7.926131680881422e-06, 7.941633960960516e-06, 7.951807869480464e-06, 7.956966497383942e-06, 7.957439289377042e-06, 7.953574395833075e-06, 7.945740724360044e-06, 7.934329337960166e-06, 7.919753886307513e-06, 7.902449817071933e-06, 7.882872191586981e-06, 7.861492018652478e-06, 7.838791116317863e-06, 7.815255608176151e-06, 7.791368252069772e-06, 7.767599879606222e-06, 7.744400289672022e-06, 7.722188984437915e-06, 7.701346159669777e-06, 7.6822043614373e-06, 7.66504119895186e-06, 7.650073460068545e-06, 7.637452914971322e-06, 7.627264018690253e-06, 7.619523638962205e-06, 7.614182847393711e-06, 7.611130723686739e-06, 7.610200039221986e-06, 7.611174611301135e-06, 7.613798055773857e-06, 7.617783615694086e-06, 7.622824708288295e-06, 7.628605812331322e-06, 7.634813312831897e-06, 7.64114592906242e-06, 7.647324374416423e-06, 7.65309993110725e-06, 7.658261667942256e-06, 7.662642083794296e-06, 7.666121021266822e-06, 7.668627762522526e-06, 7.670141290160721e-06, 7.670688767914657e-06, 7.670342366007512e-06, 7.669214621200612e-06, 7.667452578693216e-06, 7.665231008940166e-06, 7.66274502428145e-06, 7.660202435731148e-06, 7.657816187892733e-06, 7.655797189369247e-06, 7.654347818074227e-06, 7.653656327679867e-06, 7.653892316465873e-06, 7.655203347519694e-06, 7.657712734803942e-06, 7.661518438616632e-06, 7.666692951868892e-06, 7.673284010222967e-06, 7.681315928222697e-06, 7.690791352390224e-06, 7.701693231398905e-06, 7.713986831544126e-06, 7.727621669694495e-06, 7.742533291007435e-06, 7.758644879036353e-06, 7.775868744871325e-06, 7.79410779301171e-06, 7.813257098720212e-06, 7.833205749804814e-06, 7.853839101993525e-06, 7.875041570289567e-06, 7.896700030201783e-06, 7.918707836091386e-06, 7.940969384639724e-06, 7.963405066766211e-06, 7.985956369289427e-06, 8.008590816494471e-06, 8.031306389214013e-06, 8.054135031363674e-06, 8.077144855419447e-06, 8.100440690962982e-06, 8.1241626833605e-06, 8.148482739462218e-06, 8.173598728158165e-06, 8.19972646813917e-06, 8.227089664610624e-06, 8.255908081986862e-06, 8.286384352227572e-06, 8.318689911131519e-06, 8.352950622010653e-06, 8.389232684289282e-06, 8.427529432517308e-06, 8.467749609998035e-06, 8.50970765346795e-06, 8.553116455128512e-06, 8.597582980706167e-06, 8.64260702222722e-06, 8.687583256706685e-06, 8.7318066712248e-06, 8.77448130436738e-06, 8.814732146393729e-06, 8.851619937765455e-06, 8.88415850941841e-06, 8.91133421990008e-06, 8.932126965959532e-06, 8.94553217654003e-06, 8.9505831480962e-06, 8.946373044910867e-06, 8.932075875017817e-06, 8.906965763681001e-06, 8.870433884729299e-06, 8.822002476834196e-06, 8.761335466861045e-06, 8.688245343573518e-06, 8.602696067955182e-06, 8.50480196490832e-06, 8.394822707027605e-06, 8.273154665238411e-06, 8.14031905353361e-06, 7.996947426325236e-06, 7.843765188648271e-06, 7.681573845069893e-06, 7.511232738581459e-06, 7.333641014717414e-06, 7.149720490327965e-06, 6.9604000152843515e-06, 6.766601795742141e-06, 6.569230008025215e-06, 6.36916188234495e-06, 6.1672412852968806e-06, 5.964274688715342e-06, 5.7610292881532e-06, 5.558232933420997e-06, 5.356575460667355e-06, 5.156710972657711e-06, 4.9592606013690826e-06, 4.764815303057907e-06, 4.573938277349222e-06, 4.387166664291066e-06, 4.205012251684115e-06, 4.027961014003795e-06, 3.856471398599811e-06, 3.6909713696185303e-06, 3.5318543107641187e-06, 3.3794739707041434e-06, 3.234138706364412e-06, 3.0961053368943386e-06, 2.965572962655076e-06, 2.8426771276872567e-06, 2.727484709805266e-06, 2.6199899093580027e-06, 2.5201116760152447e-06, 2.427692863569988e-06, 2.3425013372965713e-06, 2.2642331792467848e-06, 2.192518047148897e-06, 2.126926646176663e-06, 2.0669801742747234e-06, 2.0121615058943922e-06, 1.9619277910246257e-06, 1.9157240712836386e-06, 1.872997457088476e-06, 1.8332113732541475e-06, 1.7958593673803118e-06, 1.7604779872841777e-06, 1.7266582702357457e-06, 1.6940554459928813e-06, 1.6623965343017236e-06, 1.6314856110537775e-06, 1.6012066201757904e-06, 1.5715237145408006e-06, 1.5424792126084122e-06, 1.5141893523612144e-06, 1.4868381053924665e-06, 1.4606693777951694e-06, 1.4359779681992243e-06, 1.4130996757282455e-06, 1.3924009520550415e-06, 1.374268473694461e-06, 1.359098975866334e-06, 1.3472896412161791e-06, 1.3392292794638814e-06, 1.3352904719534256e-06, 1.3358227923196142e-06, 1.341147154952041e-06, 1.351551289946453e-06, 1.3672862993905292e-06, 1.388564216903365e-06, 1.4155564712148169e-06, 1.448393145216722e-06, 1.487162923474221e-06, 1.5319136320144049e-06, 1.5826532920302946e-06, 1.6393516311860304e-06, 1.7019420194298089e-06, 1.7703238174882005e-06, 1.8443651425656796e-06, 1.9239060646458663e-06, 2.0087622462565678e-06, 2.0987290275197405e-06, 2.1935859366462225e-06, 2.2931015747104426e-06, 2.3970387845925387e-06, 2.505159970443064e-06, 2.617232389775139e-06, 2.733033199748879e-06, 2.8523540070368338e-06, 2.975004651334474e-06, 3.1008159500100675e-06, 3.229641148489752e-06, 3.3613558593166232e-06, 3.49585633235657e-06, 3.63305597752494e-06, 3.772880156059903e-06, 3.915259361504739e-06, 4.060121020560461e-06, 4.2073802492878264e-06, 4.356929993860715e-06, 4.508631059529609e-06, 4.662302579861579e-06, 4.817713495387325e-06, 4.974575593216112e-06, 5.132538606064981e-06, 5.291187782149929e-06, 5.450044220727602e-06, 5.608568128320152e-06, 5.7661649962835346e-06, 5.922194541198661e-06, 6.0759820959883256e-06, 6.226832001934228e-06, 6.3740424391702864e-06, 6.516921053371188e-06, 6.65480069458238e-06, 6.787054583110185e-06, 6.9131102568893785e-06, 7.032461731691249e-06, 7.14467941424815e-06, 7.2494174410241e-06, 7.346418262603639e-06, 7.435514445358395e-06, 7.516627808025405e-06, 7.589766141684876e-06, 7.655017869382307e-06, 7.712545080305865e-06, 7.762575419365508e-06, 7.805393325112301e-06, 7.841331088566704e-06, 7.870760156337701e-06, 7.894083028920383e-06, 7.911726016106728e-06, 7.924133013619314e-06, 7.931760366075839e-06, 7.935072788426302e-06, 7.934540237283306e-06, 7.930635559896704e-06, 7.923832705051495e-06, 7.914605258270885e-06, 7.903425063041958e-06, 7.89076070846701e-06, 7.877075698646474e-06, 7.862826166203134e-06, 7.848458047159103e-06, 7.834403692291267e-06, 7.82107794680554e-06, 7.80887378194629e-06, 7.798157606036477e-06, 7.789264416364607e-06, 7.782492976152238e-06, 7.778101212259764e-06, 7.77630202975444e-06, 7.77725972996335e-06, 7.781087200522931e-06, 7.787844020760793e-06, 7.79753559508473e-06, 7.810113392412084e-06, 7.825476332419114e-06, 7.84347332074367e-06, 7.8639068963338e-06, 7.886537915928918e-06, 7.91109116421336e-06, 7.937261744566773e-06, 7.964722075704143e-06, 7.993129295077426e-06, 8.022132851959116e-06, 8.051382062852075e-06, 8.080533400310436e-06, 8.109257294160324e-06, 8.137244241794653e-06, 8.16421005146629e-06, 8.189900078482718e-06, 8.214092357438947e-06, 8.236599582027277e-06, 8.257269934936007e-06, 8.27598682093582e-06, 8.292667603341735e-06, 8.307261484600672e-06, 8.319746703096739e-06, 8.330127238270504e-06, 8.338429223485542e-06, 8.344697260357182e-06, 8.348990810121478e-06, 8.351380808722875e-06, 8.351946615215521e-06, 8.35077336111727e-06, 8.347949725304525e-06, 8.343566118802401e-06, 8.337713230093822e-06, 8.330480857437759e-06, 8.321956942328884e-06, 8.31222671865372e-06, 8.301371904983937e-06, 8.28946989113108e-06, 8.276592901670688e-06, 8.262807154750896e-06, 8.248172069642866e-06, 8.232739606528159e-06, 8.216553842656548e-06, 8.19965089678613e-06, 8.18205930653055e-06, 8.163800940243873e-06, 8.14489248744229e-06, 8.125347522247993e-06, 8.105179077168565e-06, 8.084402605008365e-06, 8.06303915073689e-06, 8.041118508591712e-06, 8.01868210783205e-06, 7.99578535747785e-06, 7.97249918855473e-06, 7.948910562417519e-06, 7.925121764270978e-06, 7.901248368810616e-06, 7.877415845168673e-06, 7.853754855151636e-06, 7.830395385603235e-06, 7.80745993614009e-06, 7.785056051576916e-06, 7.763268539232036e-06, 7.742151741544829e-06, 7.721722242233079e-06, 7.701952369437037e-06, 7.682764823383501e-06, 7.664028701862127e-06, 7.645557128088653e-06, 7.627106606879663e-06, 7.608378151350892e-06, 7.589020138440536e-06, 7.568632772026084e-06, 7.546773961324249e-06, 7.522966363070434e-06, 7.4967052913752665e-06, 7.4674671710993854e-06, 7.434718200257084e-06, 7.3979228947754444e-06, 7.356552214556277e-06, 7.3100910121008246e-06, 7.258044602058915e-06, 7.19994431924819e-06, 7.135352010448118e-06, 7.06386348734273e-06, 6.985111049446785e-06, 6.898765261309039e-06, 6.804536232138986e-06, 6.702174692783631e-06, 6.59147318977305e-06, 6.472267715052255e-06, 6.344440060579465e-06, 6.207921128630434e-06, 6.062695343022774e-06, 5.908806197528015e-06, 5.746362851759791e-06, 5.5755475501749785e-06, 5.396623506475849e-06, 5.209942774562229e-06, 5.015953529263184e-06, 4.815206115540946e-06, 4.608357202072403e-06, 4.396171399757074e-06, 4.179519780059286e-06, 3.959374850598438e-06, 3.7368017104920554e-06, 3.5129453063021003e-06, 3.289013928517071e-06, 3.0662593135147575e-06, 2.845953930965826e-06], \"yaxis\": \"y\"}, {\"legendgroup\": \"Fraud\", \"marker\": {\"color\": \"rgb(255, 127, 14)\"}, \"mode\": \"lines\", \"name\": \"Fraud\", \"showlegend\": true, \"type\": \"scatter\", \"x\": [406.0, 745.884, 1085.768, 1425.652, 1765.536, 2105.42, 2445.304, 2785.188, 3125.072, 3464.956, 3804.84, 4144.724, 4484.608, 4824.492, 5164.376, 5504.26, 5844.144, 6184.028, 6523.912, 6863.796, 7203.68, 7543.564, 7883.448, 8223.332, 8563.216, 8903.1, 9242.984, 9582.868, 9922.752, 10262.636, 10602.52, 10942.404, 11282.288, 11622.172, 11962.056, 12301.94, 12641.824, 12981.708, 13321.592, 13661.476, 14001.36, 14341.244, 14681.128, 15021.012, 15360.896, 15700.78, 16040.664, 16380.548, 16720.432, 17060.316, 17400.2, 17740.084, 18079.968, 18419.852, 18759.736, 19099.62, 19439.504, 19779.388, 20119.272, 20459.156, 20799.04, 21138.924, 21478.808, 21818.692, 22158.576, 22498.46, 22838.344, 23178.228, 23518.112, 23857.996, 24197.88, 24537.764, 24877.648, 25217.532, 25557.416, 25897.3, 26237.184, 26577.068, 26916.952, 27256.836, 27596.72, 27936.604, 28276.488, 28616.372, 28956.256, 29296.14, 29636.024, 29975.908, 30315.792, 30655.676, 30995.56, 31335.444, 31675.328, 32015.212, 32355.096, 32694.98, 33034.864, 33374.748, 33714.632, 34054.516, 34394.4, 34734.284, 35074.168, 35414.052, 35753.936, 36093.82, 36433.704, 36773.588, 37113.472, 37453.356, 37793.24, 38133.124, 38473.008, 38812.892, 39152.776, 39492.66, 39832.544, 40172.428, 40512.312, 40852.196, 41192.08, 41531.964, 41871.848, 42211.732, 42551.616, 42891.5, 43231.384, 43571.268, 43911.152, 44251.036, 44590.92, 44930.804, 45270.688, 45610.572, 45950.456, 46290.34, 46630.224, 46970.108, 47309.992, 47649.876, 47989.76, 48329.644, 48669.528, 49009.412, 49349.296, 49689.18, 50029.064, 50368.948, 50708.832, 51048.716, 51388.6, 51728.484, 52068.368, 52408.252, 52748.136, 53088.02, 53427.904, 53767.788, 54107.672, 54447.556, 54787.44, 55127.324, 55467.208, 55807.092, 56146.976, 56486.86, 56826.744, 57166.628, 57506.512, 57846.396, 58186.28, 58526.164, 58866.048, 59205.932, 59545.816, 59885.7, 60225.584, 60565.468, 60905.352, 61245.236, 61585.12, 61925.004, 62264.888, 62604.772, 62944.656, 63284.54, 63624.424, 63964.308, 64304.192, 64644.076, 64983.96, 65323.844, 65663.728, 66003.612, 66343.496, 66683.38, 67023.264, 67363.148, 67703.032, 68042.916, 68382.8, 68722.684, 69062.568, 69402.452, 69742.336, 70082.22, 70422.104, 70761.988, 71101.872, 71441.756, 71781.64, 72121.524, 72461.408, 72801.292, 73141.176, 73481.06, 73820.944, 74160.828, 74500.712, 74840.596, 75180.48, 75520.364, 75860.248, 76200.132, 76540.016, 76879.9, 77219.784, 77559.668, 77899.552, 78239.436, 78579.32, 78919.204, 79259.088, 79598.972, 79938.856, 80278.74, 80618.624, 80958.508, 81298.392, 81638.276, 81978.16, 82318.044, 82657.928, 82997.812, 83337.696, 83677.58, 84017.464, 84357.348, 84697.232, 85037.116, 85377.0, 85716.884, 86056.768, 86396.652, 86736.536, 87076.42, 87416.304, 87756.188, 88096.072, 88435.956, 88775.84, 89115.724, 89455.608, 89795.492, 90135.376, 90475.26, 90815.144, 91155.028, 91494.912, 91834.796, 92174.68, 92514.564, 92854.448, 93194.332, 93534.216, 93874.1, 94213.984, 94553.868, 94893.752, 95233.636, 95573.52, 95913.404, 96253.288, 96593.172, 96933.056, 97272.94, 97612.824, 97952.708, 98292.592, 98632.476, 98972.36, 99312.244, 99652.128, 99992.012, 100331.896, 100671.78, 101011.664, 101351.548, 101691.432, 102031.316, 102371.2, 102711.084, 103050.968, 103390.852, 103730.736, 104070.62, 104410.504, 104750.388, 105090.272, 105430.156, 105770.04, 106109.924, 106449.808, 106789.692, 107129.576, 107469.46, 107809.344, 108149.228, 108489.112, 108828.996, 109168.88, 109508.764, 109848.648, 110188.532, 110528.416, 110868.3, 111208.184, 111548.068, 111887.952, 112227.836, 112567.72, 112907.604, 113247.488, 113587.372, 113927.256, 114267.14, 114607.024, 114946.908, 115286.792, 115626.676, 115966.56, 116306.444, 116646.328, 116986.212, 117326.096, 117665.98, 118005.864, 118345.748, 118685.632, 119025.516, 119365.4, 119705.284, 120045.168, 120385.052, 120724.936, 121064.82, 121404.704, 121744.588, 122084.472, 122424.356, 122764.24, 123104.124, 123444.008, 123783.892, 124123.776, 124463.66, 124803.544, 125143.428, 125483.312, 125823.196, 126163.08, 126502.964, 126842.848, 127182.732, 127522.616, 127862.5, 128202.384, 128542.268, 128882.152, 129222.036, 129561.92, 129901.804, 130241.688, 130581.572, 130921.456, 131261.34, 131601.224, 131941.108, 132280.992, 132620.876, 132960.76, 133300.644, 133640.528, 133980.412, 134320.296, 134660.18, 135000.064, 135339.948, 135679.832, 136019.716, 136359.6, 136699.484, 137039.368, 137379.252, 137719.136, 138059.02, 138398.904, 138738.788, 139078.672, 139418.556, 139758.44, 140098.324, 140438.208, 140778.092, 141117.976, 141457.86, 141797.744, 142137.628, 142477.512, 142817.396, 143157.28, 143497.164, 143837.048, 144176.932, 144516.816, 144856.7, 145196.584, 145536.468, 145876.352, 146216.236, 146556.12, 146896.004, 147235.888, 147575.772, 147915.656, 148255.54, 148595.424, 148935.308, 149275.192, 149615.076, 149954.96, 150294.844, 150634.728, 150974.612, 151314.496, 151654.38, 151994.264, 152334.148, 152674.032, 153013.916, 153353.8, 153693.684, 154033.568, 154373.452, 154713.336, 155053.22, 155393.104, 155732.988, 156072.872, 156412.756, 156752.64, 157092.524, 157432.408, 157772.292, 158112.176, 158452.06, 158791.944, 159131.828, 159471.712, 159811.596, 160151.48, 160491.364, 160831.248, 161171.132, 161511.016, 161850.9, 162190.784, 162530.668, 162870.552, 163210.436, 163550.32, 163890.204, 164230.088, 164569.972, 164909.856, 165249.74, 165589.624, 165929.508, 166269.392, 166609.276, 166949.16, 167289.044, 167628.928, 167968.812, 168308.696, 168648.58, 168988.464, 169328.348, 169668.232, 170008.116], \"xaxis\": \"x\", \"y\": [2.572527019918418e-06, 2.631005805812937e-06, 2.68976863043631e-06, 2.7487866473632156e-06, 2.808030992818619e-06, 2.867472852442725e-06, 2.9270835279276315e-06, 2.9868345032672447e-06, 3.046697510360475e-06, 3.1066445937077396e-06, 3.166648173942127e-06, 3.2266811099387627e-06, 3.286716759249751e-06, 3.3467290366169313e-06, 3.406692470320782e-06, 3.466582256131253e-06, 3.5263743086346604e-06, 3.5860453097207323e-06, 3.6455727540243784e-06, 3.7049349911288065e-06, 3.764111264349627e-06, 3.823081745932923e-06, 3.881827568515629e-06, 3.940330852711663e-06, 3.9985747307038155e-06, 4.056543365738193e-06, 4.11422196743588e-06, 4.17159680285426e-06, 4.228655203249315e-06, 4.285385566508666e-06, 4.341777355244732e-06, 4.397821090555953e-06, 4.453508341484288e-06, 4.508831710215102e-06, 4.563784813086289e-06, 4.618362257490828e-06, 4.672559614776589e-06, 4.726373389264867e-06, 4.7798009835267675e-06, 4.832840660073919e-06, 4.885491499635642e-06, 4.937753356211278e-06, 4.9896268091001775e-06, 5.04111311212635e-06, 5.0922141402872045e-06, 5.142932334068033e-06, 5.193270641674172e-06, 5.2432324594427485e-06, 5.29282157070396e-06, 5.342042083369242e-06, 5.390898366529331e-06, 5.439394986349829e-06, 5.487536641555422e-06, 5.53532809879498e-06, 5.582774128181612e-06, 5.629879439299511e-06, 5.676648617968548e-06, 5.7230860640530265e-06, 5.769195930597317e-06, 5.8149820645638296e-06, 5.860447949442464e-06, 5.905596649991411e-06, 5.950430759359777e-06, 5.994952348831398e-06, 6.039162920417342e-06, 6.083063362511554e-06, 6.126653908809837e-06, 6.169934100677945e-06, 6.212902753138355e-06, 6.2555579246289196e-06, 6.2978968906696675e-06, 6.3399161215556845e-06, 6.381611264176304e-06, 6.422977128041526e-06, 6.464007675577934e-06, 6.50469601673676e-06, 6.545034407937361e-06, 6.58501425534952e-06, 6.624626122499018e-06, 6.663859742160649e-06, 6.702704032484241e-06, 6.741147117280051e-06, 6.779176350371272e-06, 6.816778343903151e-06, 6.853939000481316e-06, 6.890643548994119e-06, 6.926876583958099e-06, 6.962622108210539e-06, 6.9978635787578355e-06, 7.032583955575574e-06, 7.066765753143314e-06, 7.100391094485447e-06, 7.133441767479519e-06, 7.165899283183912e-06, 7.197744935928862e-06, 7.228959864908305e-06, 7.25952511700409e-06, 7.289421710570792e-06, 7.318630699905549e-06, 7.347133240126908e-06, 7.374910652185979e-06, 7.401944487734295e-06, 7.428216593576151e-06, 7.453709175436183e-06, 7.478404860778613e-06, 7.502286760421189e-06, 7.525338528693982e-06, 7.547544421902769e-06, 7.568889354865966e-06, 7.58935895530596e-06, 7.608939615886935e-06, 7.627618543704974e-06, 7.64538380704971e-06, 7.662224379271769e-06, 7.678130179605051e-06, 7.693092110809927e-06, 7.707102093518345e-06, 7.720153097180755e-06, 7.732239167530264e-06, 7.743355450497756e-06, 7.753498212529602e-06, 7.762664857276421e-06, 7.770853938639618e-06, 7.778065170179888e-06, 7.78429943090817e-06, 7.789558767497574e-06, 7.79384639297004e-06, 7.797166681927951e-06, 7.79952516241576e-06, 7.800928504511131e-06, 7.801384505758742e-06, 7.80090207357276e-06, 7.799491204745425e-06, 7.797162962210422e-06, 7.793929449219107e-06, 7.789803781096382e-06, 7.784800054750643e-06, 7.778933316118128e-06, 7.772219525727602e-06, 7.764675522574627e-06, 7.756318986497782e-06, 7.747168399250406e-06, 7.737243004461255e-06, 7.726562766677164e-06, 7.715148329678096e-06, 7.703020974251555e-06, 7.690202575608844e-06, 7.6767155606208e-06, 7.66258286504243e-06, 7.647827890890538e-06, 7.632474464127662e-06, 7.616546792798236e-06, 7.600069425751889e-06, 7.583067212077945e-06, 7.565565261365004e-06, 7.547588904886195e-06, 7.5291636577997275e-06, 7.510315182441242e-06, 7.491069252771455e-06, 7.471451720031002e-06, 7.451488479639318e-06, 7.4312054393636076e-06, 7.410628488770469e-06, 7.389783469959165e-06, 7.368696149565697e-06, 7.34739219201274e-06, 7.325897133970937e-06, 7.304236359985545e-06, 7.2824350792125365e-06, 7.260518303199251e-06, 7.238510824635931e-06, 7.21643719699677e-06, 7.194321714982594e-06, 7.172188395671032e-06, 7.150060960275756e-06, 7.1279628164118875e-06, 7.105917040762365e-06, 7.0839463620378695e-06, 7.06207314412267e-06, 7.04031936929879e-06, 7.018706621442341e-06, 6.997256069088544e-06, 6.97598844826533e-06, 6.9549240450000584e-06, 6.934082677409289e-06, 6.913483677288108e-06, 6.893145871122813e-06, 6.873087560459105e-06, 6.85332650156659e-06, 6.833879884350607e-06, 6.814764310472568e-06, 6.79599577065081e-06, 6.777589621125889e-06, 6.759560559286028e-06, 6.741922598460664e-06, 6.724689041902922e-06, 6.7078724559944585e-06, 6.691484642719284e-06, 6.67553661146574e-06, 6.660038550229452e-06, 6.644999796301861e-06, 6.630428806542273e-06, 6.6163331273431475e-06, 6.602719364410154e-06, 6.589593152489992e-06, 6.576959125189145e-06, 6.564820885037662e-06, 6.553180973960313e-06, 6.542040844326766e-06, 6.531400830759608e-06, 6.52126012288577e-06, 6.511616739222865e-06, 6.5024675023959905e-06, 6.49380801588478e-06, 6.485632642502064e-06, 6.477934484807599e-06, 6.4707053676594145e-06, 6.463935823104725e-06, 6.457615077809521e-06, 6.451731043222335e-06, 6.4462703086626185e-06, 6.441218137517924e-06, 6.436558466726343e-06, 6.432273909712515e-06, 6.4283457629346345e-06, 6.424754016189519e-06, 6.4214773668104815e-06, 6.4184932378788166e-06, 6.415777800556122e-06, 6.4133060006287515e-06, 6.411051589339755e-06, 6.4089871585665144e-06, 6.407084180384327e-06, 6.405313051037882e-06, 6.403643139323298e-06, 6.402042839363781e-06, 6.400479627742135e-06, 6.398920124932855e-06, 6.397330160956045e-06, 6.395674845154968e-06, 6.393918639978057e-06, 6.3920254386263285e-06, 6.389958646405971e-06, 6.387681265607026e-06, 6.385155983708639e-06, 6.382345264692881e-06, 6.379211443230834e-06, 6.375716821486894e-06, 6.37182376827063e-06, 6.367494820249901e-06, 6.362692784924032e-06, 6.357380845042467e-06, 6.351522664141803e-06, 6.345082492863207e-06, 6.338025275702307e-06, 6.3303167578356834e-06, 6.321923591660977e-06, 6.312813442682555e-06, 6.302955094371119e-06, 6.292318551623303e-06, 6.280875142447136e-06, 6.2685976175005394e-06, 6.25546024711257e-06, 6.241438915422389e-06, 6.2265112112763815e-06, 6.210656515532501e-06, 6.193856084429974e-06, 6.17609312869381e-06, 6.157352888056184e-06, 6.137622700890796e-06, 6.116892068672298e-06, 6.095152714989147e-06, 6.072398638857379e-06, 6.048626162101342e-06, 6.0238339705888565e-06, 5.998023149129178e-06, 5.9711972098654034e-06, 5.943362114015656e-06, 5.914526286842001e-06, 5.884700625750638e-06, 5.853898501451925e-06, 5.82213575213467e-06, 5.78943067063488e-06, 5.755803984604959e-06, 5.721278829715627e-06, 5.68588071594857e-06, 5.649637487063374e-06, 5.612579273347971e-06, 5.574738437786229e-06, 5.536149515800897e-06, 5.496849148753552e-06, 5.456876011406088e-06, 5.416270733570007e-06, 5.375075816190749e-06, 5.3333355421342105e-06, 5.291095881960875e-06, 5.248404394990802e-06, 5.205310125978367e-06, 5.1618634977305e-06, 5.118116200015249e-06, 5.0741210751193585e-06, 5.029932000423424e-06, 4.985603768372087e-06, 4.941191964223308e-06, 4.8967528419664025e-06, 4.852343198802162e-06, 4.808020248580183e-06, 4.7638414945893655e-06, 4.719864602095875e-06, 4.676147271020589e-06, 4.632747109143131e-06, 4.589721506214109e-06, 4.547127509349559e-06, 4.505021700072849e-06, 4.463460073359002e-06, 4.422497919024833e-06, 4.382189705795714e-06, 4.3425889683652545e-06, 4.303748197749751e-06, 4.265718735222605e-06, 4.228550670097033e-06, 4.19229274160747e-06, 4.156992245121316e-06, 4.122694942893465e-06, 4.089444979555858e-06, 4.057284802514104e-06, 4.0262550874025364e-06, 3.9963946687275235e-06, 3.9677404758083995e-06, 3.940327474103146e-06, 3.914188611985553e-06, 3.889354773018636e-06, 3.865854733748635e-06, 3.8437151270229636e-06, 3.8229604108152885e-06, 3.8036128425209804e-06, 3.7856924586670494e-06, 3.769217059961993e-06, 3.7542022015929195e-06, 3.7406611886604247e-06, 3.7286050766251526e-06, 3.7180426766247423e-06, 3.70898056550533e-06, 3.701423100398434e-06, 3.6953724376616726e-06, 3.6908285559905295e-06, 3.6877892834982043e-06, 3.6862503285517056e-06, 3.6862053141446427e-06, 3.687645815580386e-06, 3.690561401234203e-06, 3.6949396761586593e-06, 3.700766328293753e-06, 3.708025177041565e-06, 3.716698223964656e-06, 3.7267657053682887e-06, 3.738206146528155e-06, 3.7509964173285537e-06, 3.76511178907982e-06, 3.7805259922891007e-06, 3.7972112751645677e-06, 3.815138462640423e-06, 3.83427701571793e-06, 3.8545950909266296e-06, 3.876059599719653e-06, 3.898636267627167e-06, 3.922289693003296e-06, 3.94698340521336e-06, 3.972679922120383e-06, 3.9993408067424625e-06, 4.0269267229654216e-06, 4.0553974902085626e-06, 4.084712136954441e-06, 4.1148289530674665e-06, 4.145705540839353e-06, 4.177298864713322e-06, 4.209565299651933e-06, 4.242460678127159e-06, 4.275940335723664e-06, 4.309959155359335e-06, 4.344471610138979e-06, 4.379431804868751e-06, 4.414793516270269e-06, 4.450510231943431e-06, 4.486535188137172e-06, 4.522821406396074e-06, 4.559321729159451e-06, 4.595988854396517e-06, 4.632775369368178e-06, 4.669633783611574e-06, 4.706516561248098e-06, 4.743376152719508e-06, 4.780165026059654e-06, 4.81683569781089e-06, 4.853340763695297e-06, 4.889632929150577e-06, 4.925665039839295e-06, 4.961390112238062e-06, 4.996761364410148e-06, 5.031732247060993e-06, 5.0662564749711855e-06, 5.10028805889563e-06, 5.133781338011257e-06, 5.166691012987885e-06, 5.198972179749109e-06, 5.230580363981217e-06, 5.2614715564386395e-06, 5.291602249084776e-06, 5.320929472096581e-06, 5.3494108317504305e-06, 5.37700454919587e-06, 5.403669500112425e-06, 5.429365255233114e-06, 5.4540521217067536e-06, 5.477691185259585e-06, 5.50024435310493e-06, 5.521674397538642e-06, 5.541945000146362e-06, 5.561020796538232e-06, 5.578867421515785e-06, 5.595451554565909e-06, 5.610740965567119e-06, 5.62470456058435e-06, 5.637312427620308e-06, 5.648535882183494e-06, 5.65834751252651e-06, 5.666721224401679e-06, 5.673632285176339e-06, 5.67905736714526e-06, 5.682974589874616e-06, 5.6853635614091865e-06, 5.686205418173045e-06, 5.685482863393367e-06, 5.683180203877495e-06, 5.6792833849747315e-06, 5.673780023556719e-06, 5.6666594388537515e-06, 5.657912680988523e-06, 5.64753255705424e-06, 5.635513654590001e-06, 5.621852362313587e-06, 5.6065468879795055e-06, 5.5895972732389255e-06, 5.5710054053873445e-06, 5.550775025896206e-06, 5.528911735635076e-06, 5.505422996702588e-06, 5.480318130795819e-06, 5.453608314060396e-06, 5.425306568375871e-06, 5.395427749044039e-06, 5.363988528860969e-06, 5.331007378566767e-06, 5.296504543680575e-06, 5.2605020177416475e-06, 5.223023511990746e-06, 5.18409442153927e-06, 5.143741788086646e-06, 5.101994259259247e-06, 5.05888204465646e-06, 5.014436868701739e-06, 4.968691920407997e-06, 4.921681800177757e-06, 4.873442463769115e-06, 4.824011163568485e-06, 4.773426387320354e-06, 4.721727794472899e-06, 4.668956150306305e-06, 4.615153258017562e-06, 4.560361888942084e-06, 4.504625711097863e-06, 4.44798921624283e-06, 4.390497645639762e-06, 4.332196914726353e-06, 4.273133536890291e-06, 4.21335454655048e-06, 4.152907421746279e-06, 4.091840006436423e-06, 4.030200432708102e-06, 3.968037043095128e-06, 3.905398313201444e-06, 3.842332774823002e-06, 3.778888939757001e-06, 3.7151152244830654e-06, 3.6510598758955136e-06, 3.586770898260021e-06, 3.5222959815618237e-06, 3.4576824314054788e-06, 3.3929771006189383e-06, 3.3282263227070728e-06, 3.263475847291374e-06, 3.1987707776643135e-06, 3.1341555105780303e-06, 3.069673678378031e-06, 3.005368093583347e-06, 2.941280696005462e-06, 2.8774525024886786e-06, 2.8139235593453085e-06, 2.7507328975493915e-06, 2.6879184907434168e-06], \"yaxis\": \"y\"}],\n",
       "                        {\"barmode\": \"overlay\", \"hovermode\": \"closest\", \"legend\": {\"traceorder\": \"reversed\"}, \"template\": {\"data\": {\"bar\": [{\"error_x\": {\"color\": \"#2a3f5f\"}, \"error_y\": {\"color\": \"#2a3f5f\"}, \"marker\": {\"line\": {\"color\": \"#E5ECF6\", \"width\": 0.5}}, \"type\": \"bar\"}], \"barpolar\": [{\"marker\": {\"line\": {\"color\": \"#E5ECF6\", \"width\": 0.5}}, \"type\": \"barpolar\"}], \"carpet\": [{\"aaxis\": {\"endlinecolor\": \"#2a3f5f\", \"gridcolor\": \"white\", \"linecolor\": \"white\", \"minorgridcolor\": \"white\", \"startlinecolor\": \"#2a3f5f\"}, \"baxis\": {\"endlinecolor\": \"#2a3f5f\", \"gridcolor\": \"white\", \"linecolor\": \"white\", \"minorgridcolor\": \"white\", \"startlinecolor\": \"#2a3f5f\"}, \"type\": \"carpet\"}], \"choropleth\": [{\"colorbar\": {\"outlinewidth\": 0, \"ticks\": \"\"}, \"type\": \"choropleth\"}], \"contour\": [{\"colorbar\": {\"outlinewidth\": 0, \"ticks\": \"\"}, \"colorscale\": [[0.0, \"#0d0887\"], [0.1111111111111111, \"#46039f\"], [0.2222222222222222, \"#7201a8\"], [0.3333333333333333, \"#9c179e\"], [0.4444444444444444, \"#bd3786\"], [0.5555555555555556, \"#d8576b\"], [0.6666666666666666, \"#ed7953\"], [0.7777777777777778, \"#fb9f3a\"], [0.8888888888888888, \"#fdca26\"], [1.0, \"#f0f921\"]], \"type\": \"contour\"}], \"contourcarpet\": [{\"colorbar\": {\"outlinewidth\": 0, \"ticks\": \"\"}, \"type\": \"contourcarpet\"}], \"heatmap\": [{\"colorbar\": {\"outlinewidth\": 0, \"ticks\": \"\"}, \"colorscale\": [[0.0, \"#0d0887\"], [0.1111111111111111, \"#46039f\"], [0.2222222222222222, \"#7201a8\"], [0.3333333333333333, \"#9c179e\"], [0.4444444444444444, \"#bd3786\"], [0.5555555555555556, \"#d8576b\"], [0.6666666666666666, \"#ed7953\"], [0.7777777777777778, \"#fb9f3a\"], [0.8888888888888888, \"#fdca26\"], [1.0, \"#f0f921\"]], \"type\": \"heatmap\"}], \"heatmapgl\": [{\"colorbar\": {\"outlinewidth\": 0, \"ticks\": \"\"}, \"colorscale\": [[0.0, \"#0d0887\"], [0.1111111111111111, \"#46039f\"], [0.2222222222222222, \"#7201a8\"], [0.3333333333333333, \"#9c179e\"], [0.4444444444444444, \"#bd3786\"], [0.5555555555555556, \"#d8576b\"], [0.6666666666666666, \"#ed7953\"], [0.7777777777777778, \"#fb9f3a\"], [0.8888888888888888, \"#fdca26\"], [1.0, \"#f0f921\"]], \"type\": \"heatmapgl\"}], \"histogram\": [{\"marker\": {\"colorbar\": {\"outlinewidth\": 0, \"ticks\": \"\"}}, \"type\": \"histogram\"}], \"histogram2d\": [{\"colorbar\": {\"outlinewidth\": 0, \"ticks\": \"\"}, \"colorscale\": [[0.0, \"#0d0887\"], [0.1111111111111111, \"#46039f\"], [0.2222222222222222, \"#7201a8\"], [0.3333333333333333, \"#9c179e\"], [0.4444444444444444, \"#bd3786\"], [0.5555555555555556, \"#d8576b\"], [0.6666666666666666, \"#ed7953\"], [0.7777777777777778, \"#fb9f3a\"], [0.8888888888888888, \"#fdca26\"], [1.0, \"#f0f921\"]], \"type\": \"histogram2d\"}], \"histogram2dcontour\": [{\"colorbar\": {\"outlinewidth\": 0, \"ticks\": \"\"}, \"colorscale\": [[0.0, \"#0d0887\"], [0.1111111111111111, \"#46039f\"], [0.2222222222222222, \"#7201a8\"], [0.3333333333333333, \"#9c179e\"], [0.4444444444444444, \"#bd3786\"], [0.5555555555555556, \"#d8576b\"], [0.6666666666666666, \"#ed7953\"], [0.7777777777777778, \"#fb9f3a\"], [0.8888888888888888, \"#fdca26\"], [1.0, \"#f0f921\"]], \"type\": \"histogram2dcontour\"}], \"mesh3d\": [{\"colorbar\": {\"outlinewidth\": 0, \"ticks\": \"\"}, \"type\": \"mesh3d\"}], \"parcoords\": [{\"line\": {\"colorbar\": {\"outlinewidth\": 0, \"ticks\": \"\"}}, \"type\": \"parcoords\"}], \"scatter\": [{\"marker\": {\"colorbar\": {\"outlinewidth\": 0, \"ticks\": \"\"}}, \"type\": \"scatter\"}], \"scatter3d\": [{\"line\": {\"colorbar\": {\"outlinewidth\": 0, \"ticks\": \"\"}}, \"marker\": {\"colorbar\": {\"outlinewidth\": 0, \"ticks\": \"\"}}, \"type\": \"scatter3d\"}], \"scattercarpet\": [{\"marker\": {\"colorbar\": {\"outlinewidth\": 0, \"ticks\": \"\"}}, \"type\": \"scattercarpet\"}], \"scattergeo\": [{\"marker\": {\"colorbar\": {\"outlinewidth\": 0, \"ticks\": \"\"}}, \"type\": \"scattergeo\"}], \"scattergl\": [{\"marker\": {\"colorbar\": {\"outlinewidth\": 0, \"ticks\": \"\"}}, \"type\": \"scattergl\"}], \"scattermapbox\": [{\"marker\": {\"colorbar\": {\"outlinewidth\": 0, \"ticks\": \"\"}}, \"type\": \"scattermapbox\"}], \"scatterpolar\": [{\"marker\": {\"colorbar\": {\"outlinewidth\": 0, \"ticks\": \"\"}}, \"type\": \"scatterpolar\"}], \"scatterpolargl\": [{\"marker\": {\"colorbar\": {\"outlinewidth\": 0, \"ticks\": \"\"}}, \"type\": \"scatterpolargl\"}], \"scatterternary\": [{\"marker\": {\"colorbar\": {\"outlinewidth\": 0, \"ticks\": \"\"}}, \"type\": \"scatterternary\"}], \"surface\": [{\"colorbar\": {\"outlinewidth\": 0, \"ticks\": \"\"}, \"colorscale\": [[0.0, \"#0d0887\"], [0.1111111111111111, \"#46039f\"], [0.2222222222222222, \"#7201a8\"], [0.3333333333333333, \"#9c179e\"], [0.4444444444444444, \"#bd3786\"], [0.5555555555555556, \"#d8576b\"], [0.6666666666666666, \"#ed7953\"], [0.7777777777777778, \"#fb9f3a\"], [0.8888888888888888, \"#fdca26\"], [1.0, \"#f0f921\"]], \"type\": \"surface\"}], \"table\": [{\"cells\": {\"fill\": {\"color\": \"#EBF0F8\"}, \"line\": {\"color\": \"white\"}}, \"header\": {\"fill\": {\"color\": \"#C8D4E3\"}, \"line\": {\"color\": \"white\"}}, \"type\": \"table\"}]}, \"layout\": {\"annotationdefaults\": {\"arrowcolor\": \"#2a3f5f\", \"arrowhead\": 0, \"arrowwidth\": 1}, \"colorscale\": {\"diverging\": [[0, \"#8e0152\"], [0.1, \"#c51b7d\"], [0.2, \"#de77ae\"], [0.3, \"#f1b6da\"], [0.4, \"#fde0ef\"], [0.5, \"#f7f7f7\"], [0.6, \"#e6f5d0\"], [0.7, \"#b8e186\"], [0.8, \"#7fbc41\"], [0.9, \"#4d9221\"], [1, \"#276419\"]], \"sequential\": [[0.0, \"#0d0887\"], [0.1111111111111111, \"#46039f\"], [0.2222222222222222, \"#7201a8\"], [0.3333333333333333, \"#9c179e\"], [0.4444444444444444, \"#bd3786\"], [0.5555555555555556, \"#d8576b\"], [0.6666666666666666, \"#ed7953\"], [0.7777777777777778, \"#fb9f3a\"], [0.8888888888888888, \"#fdca26\"], [1.0, \"#f0f921\"]], \"sequentialminus\": [[0.0, \"#0d0887\"], [0.1111111111111111, \"#46039f\"], [0.2222222222222222, \"#7201a8\"], [0.3333333333333333, \"#9c179e\"], [0.4444444444444444, \"#bd3786\"], [0.5555555555555556, \"#d8576b\"], [0.6666666666666666, \"#ed7953\"], [0.7777777777777778, \"#fb9f3a\"], [0.8888888888888888, \"#fdca26\"], [1.0, \"#f0f921\"]]}, \"colorway\": [\"#636efa\", \"#EF553B\", \"#00cc96\", \"#ab63fa\", \"#FFA15A\", \"#19d3f3\", \"#FF6692\", \"#B6E880\", \"#FF97FF\", \"#FECB52\"], \"font\": {\"color\": \"#2a3f5f\"}, \"geo\": {\"bgcolor\": \"white\", \"lakecolor\": \"white\", \"landcolor\": \"#E5ECF6\", \"showlakes\": true, \"showland\": true, \"subunitcolor\": \"white\"}, \"hoverlabel\": {\"align\": \"left\"}, \"hovermode\": \"closest\", \"mapbox\": {\"style\": \"light\"}, \"paper_bgcolor\": \"white\", \"plot_bgcolor\": \"#E5ECF6\", \"polar\": {\"angularaxis\": {\"gridcolor\": \"white\", \"linecolor\": \"white\", \"ticks\": \"\"}, \"bgcolor\": \"#E5ECF6\", \"radialaxis\": {\"gridcolor\": \"white\", \"linecolor\": \"white\", \"ticks\": \"\"}}, \"scene\": {\"xaxis\": {\"backgroundcolor\": \"#E5ECF6\", \"gridcolor\": \"white\", \"gridwidth\": 2, \"linecolor\": \"white\", \"showbackground\": true, \"ticks\": \"\", \"zerolinecolor\": \"white\"}, \"yaxis\": {\"backgroundcolor\": \"#E5ECF6\", \"gridcolor\": \"white\", \"gridwidth\": 2, \"linecolor\": \"white\", \"showbackground\": true, \"ticks\": \"\", \"zerolinecolor\": \"white\"}, \"zaxis\": {\"backgroundcolor\": \"#E5ECF6\", \"gridcolor\": \"white\", \"gridwidth\": 2, \"linecolor\": \"white\", \"showbackground\": true, \"ticks\": \"\", \"zerolinecolor\": \"white\"}}, \"shapedefaults\": {\"line\": {\"color\": \"#2a3f5f\"}}, \"ternary\": {\"aaxis\": {\"gridcolor\": \"white\", \"linecolor\": \"white\", \"ticks\": \"\"}, \"baxis\": {\"gridcolor\": \"white\", \"linecolor\": \"white\", \"ticks\": \"\"}, \"bgcolor\": \"#E5ECF6\", \"caxis\": {\"gridcolor\": \"white\", \"linecolor\": \"white\", \"ticks\": \"\"}}, \"title\": {\"x\": 0.05}, \"xaxis\": {\"automargin\": true, \"gridcolor\": \"white\", \"linecolor\": \"white\", \"ticks\": \"\", \"zerolinecolor\": \"white\", \"zerolinewidth\": 2}, \"yaxis\": {\"automargin\": true, \"gridcolor\": \"white\", \"linecolor\": \"white\", \"ticks\": \"\", \"zerolinecolor\": \"white\", \"zerolinewidth\": 2}}}, \"title\": {\"text\": \"Credit Card Transactions Time Density Plot\"}, \"xaxis\": {\"anchor\": \"y2\", \"domain\": [0.0, 1.0], \"title\": {\"text\": \"Time [s]\"}, \"zeroline\": false}, \"yaxis\": {\"anchor\": \"free\", \"domain\": [0.0, 1], \"position\": 0.0}},\n",
       "                        {\"responsive\": true}\n",
       "                    ).then(function(){\n",
       "                            \n",
       "var gd = document.getElementById('7eb1b7fc-66e4-4069-8a8b-2415a70860c5');\n",
       "var x = new MutationObserver(function (mutations, observer) {{\n",
       "        var display = window.getComputedStyle(gd).display;\n",
       "        if (!display || display === 'none') {{\n",
       "            console.log([gd, 'removed!']);\n",
       "            Plotly.purge(gd);\n",
       "            observer.disconnect();\n",
       "        }}\n",
       "}});\n",
       "\n",
       "// Listen for the removal of the full notebook cells\n",
       "var notebookContainer = gd.closest('#notebook-container');\n",
       "if (notebookContainer) {{\n",
       "    x.observe(notebookContainer, {childList: true});\n",
       "}}\n",
       "\n",
       "// Listen for the clearing of the current output cell\n",
       "var outputEl = gd.closest('.output');\n",
       "if (outputEl) {{\n",
       "    x.observe(outputEl, {childList: true});\n",
       "}}\n",
       "\n",
       "                        })\n",
       "                };\n",
       "                });\n",
       "            </script>\n",
       "        </div>"
      ]
     },
     "metadata": {},
     "output_type": "display_data"
    }
   ],
   "source": [
    "class_0 = data_df.loc[data_df['Class'] == 0][\"Time\"]\n",
    "class_1 = data_df.loc[data_df['Class'] == 1][\"Time\"]\n",
    "#plt.figure(figsize = (14,4))\n",
    "#plt.title('Credit Card Transactions Time Density Plot')\n",
    "#sns.set_color_codes(\"pastel\")\n",
    "#sns.distplot(class_0,kde=True,bins=480)\n",
    "#sns.distplot(class_1,kde=True,bins=480)\n",
    "#plt.show()\n",
    "hist_data = [class_0, class_1]\n",
    "group_labels = ['Not Fraud', 'Fraud']\n",
    "\n",
    "fig = ff.create_distplot(hist_data, group_labels, show_hist=False, show_rug=False)\n",
    "fig['layout'].update(title='Credit Card Transactions Time Density Plot', xaxis=dict(title='Time [s]'))\n",
    "iplot(fig, filename='dist_only')"
   ]
  },
  {
   "cell_type": "code",
   "execution_count": 29,
   "metadata": {},
   "outputs": [
    {
     "data": {
      "image/png": "[encoded data removed]",
      "text/plain": [
       "<Figure size 864x432 with 2 Axes>"
      ]
     },
     "metadata": {
      "needs_background": "light"
     },
     "output_type": "display_data"
    }
   ],
   "source": [
    "fig, (ax1, ax2) = plt.subplots(ncols=2, figsize=(12,6))\n",
    "s = sns.boxplot(ax = ax1, x=\"Class\", y=\"Amount\", hue=\"Class\",data=data_df, palette=\"PRGn\",showfliers=True)\n",
    "s = sns.boxplot(ax = ax2, x=\"Class\", y=\"Amount\", hue=\"Class\",data=data_df, palette=\"PRGn\",showfliers=False)\n",
    "plt.show();"
   ]
  },
  {
   "cell_type": "code",
   "execution_count": 30,
   "metadata": {},
   "outputs": [
    {
     "data": {
      "text/plain": [
       "count    284315.000000\n",
       "mean         88.291022\n",
       "std         250.105092\n",
       "min           0.000000\n",
       "25%           5.650000\n",
       "50%          22.000000\n",
       "75%          77.050000\n",
       "max       25691.160000\n",
       "Name: Amount, dtype: float64"
      ]
     },
     "execution_count": 30,
     "metadata": {},
     "output_type": "execute_result"
    }
   ],
   "source": [
    "tmp = data_df[['Amount','Class']].copy()\n",
    "class_0 = tmp.loc[tmp['Class'] == 0]['Amount']\n",
    "class_1 = tmp.loc[tmp['Class'] == 1]['Amount']\n",
    "class_0.describe()"
   ]
  },
  {
   "cell_type": "code",
   "execution_count": 31,
   "metadata": {},
   "outputs": [
    {
     "data": {
      "application/vnd.plotly.v1+json": {
       "config": {
        "linkText": "Export to plot.ly",
        "plotlyServerURL": "https://plot.ly",
        "showLink": false
       },
       "data": [
        {
         "marker": {
          "color": "rgb(238,23,11)",
          "line": {
           "color": "red",
           "width": 1
          },
          "opacity": 0.5
         },
         "mode": "markers",
         "name": "Amount",
         "text": [
          0,
          529,
          239.93,
          59,
          1,
          1,
          1,
          1,
          1,
          1,
          1,
          1,
          1,
          1,
          1,
          1,
          1,
          1,
          1,
          1,
          1,
          1.1,
          1,
          1,
          1809.68,
          1,
          1,
          1,
          1,
          1,
          0,
          30.39,
          179.66,
          1,
          1,
          1,
          1,
          1,
          11.39,
          3.79,
          3.79,
          3.93,
          1,
          766.36,
          1218.89,
          1,
          188.78,
          1,
          1,
          1,
          1,
          1,
          1,
          1,
          1,
          1,
          3.12,
          99.99,
          99.99,
          99.99,
          3.76,
          99.99,
          99.99,
          99.99,
          99.99,
          99.99,
          99.99,
          99.99,
          99.99,
          99.99,
          99.99,
          99.99,
          99.99,
          23.36,
          99.99,
          730.86,
          99.99,
          99.99,
          99.99,
          99.99,
          99.99,
          0.68,
          0.68,
          0.68,
          30.3,
          104.81,
          0,
          717.15,
          19.02,
          1.52,
          18.96,
          125.3,
          19.02,
          0.76,
          60.6,
          7.61,
          1,
          9.13,
          4.56,
          14.46,
          111.7,
          111.7,
          12.31,
          776.83,
          1,
          1,
          1,
          1,
          0.76,
          0.76,
          112.33,
          3.79,
          340.11,
          88.23,
          5.3,
          83.38,
          11.38,
          1.52,
          88.23,
          30.26,
          459.07,
          0,
          118.3,
          45.49,
          173.07,
          37.32,
          59.68,
          0.76,
          9.99,
          34.12,
          273.01,
          106.55,
          364.19,
          39.45,
          53.95,
          172.32,
          802.52,
          99.99,
          139.9,
          1,
          1,
          1,
          1,
          1,
          648,
          204.27,
          88,
          24.9,
          1,
          1,
          1,
          105.99,
          1,
          1,
          1,
          1,
          0.76,
          7.58,
          0.76,
          0.76,
          208.58,
          1,
          19.73,
          360,
          99.99,
          99.99,
          99.99,
          99.99,
          99.99,
          519.9,
          0.76,
          0.76,
          1.18,
          8,
          0,
          112.45,
          261.87,
          1.79,
          1,
          0.83,
          0.83,
          130.44,
          311.91,
          170.92,
          153.46,
          7.52,
          1,
          5,
          0.01,
          444.17,
          1,
          1,
          1,
          1.75,
          5.09,
          270,
          113.92,
          45.64,
          1389.56,
          18.98,
          6.27,
          319.2,
          5.91,
          454.82,
          101.5,
          19.04,
          6.62,
          180,
          1,
          1.1,
          1402.16,
          290.18,
          294.9,
          1,
          0,
          0,
          720.38,
          31.91,
          1354.25,
          98.01,
          101.5,
          7.53,
          489.71,
          549.06,
          320,
          1,
          1,
          1,
          1,
          1,
          1,
          19.59,
          1,
          227.3,
          3.79,
          318.11,
          824.83,
          0.76,
          426.4,
          238.9,
          45.03,
          16.48,
          76.94,
          311.28,
          30.14,
          29.95,
          124.53,
          99.85,
          99.9,
          219.8,
          254.76,
          1,
          1,
          1,
          1,
          129,
          1,
          1,
          1,
          106.9,
          60,
          0.2,
          7.57,
          1,
          1,
          0,
          0,
          512.25,
          512.25,
          12.31,
          354.33,
          2,
          0,
          0,
          252.92,
          252.92,
          1,
          240.77,
          1,
          310.42,
          323.77,
          451.27,
          829.41,
          1.18,
          9.21,
          6.99,
          38.76,
          52.69,
          1,
          1,
          261.22,
          18,
          600.73,
          1,
          75.86,
          8.54,
          0.01,
          44.9,
          44.9,
          316.06,
          316.06,
          209.65,
          78,
          78,
          188.52,
          188.52,
          30.31,
          30.31,
          104.03,
          104.03,
          1,
          1,
          37.93,
          97,
          11.4,
          45.48,
          1,
          1,
          1,
          1,
          1,
          33.76,
          571.48,
          1.63,
          1.63,
          18.96,
          33.59,
          1,
          8.64,
          9.82,
          2.28,
          1,
          0.76,
          1,
          0.92,
          2.28,
          147.87,
          0,
          22.04,
          0,
          104,
          2.28,
          0.01,
          1,
          346.94,
          7.59,
          0,
          0,
          119.74,
          2.27,
          0,
          186.13,
          1,
          0.76,
          80.22,
          635.1,
          17.06,
          65,
          105.89,
          105.89,
          144.62,
          2125.87,
          11,
          45.51,
          40,
          3.22,
          0,
          25,
          67.9,
          93.35,
          1,
          175.9,
          720.8,
          7.18,
          4.87,
          80.9,
          0,
          2,
          1,
          362.55,
          276.17,
          723.21,
          480.72,
          1,
          1335,
          0,
          130.21,
          1,
          925.31,
          0,
          345,
          108.51,
          84.28,
          39.45,
          0.01,
          727.91,
          22.47,
          8.3,
          120.54,
          0.69,
          723.21,
          0.77,
          592.9,
          195.66,
          4.49,
          0.76,
          324.59,
          320.01,
          2,
          144.8,
          0,
          1,
          1,
          8.9,
          1,
          667.55,
          0,
          1.18,
          2.22,
          0.77,
          94.82,
          8,
          996.27,
          0,
          1.59,
          1.59,
          0,
          0.76,
          0.76,
          122.68,
          0,
          1,
          1.1,
          2,
          17.39,
          50,
          237.26,
          1,
          9.29,
          10.7,
          0.01,
          57.73,
          1,
          1,
          1,
          1,
          1,
          2.47,
          357.95,
          247.86,
          51.37,
          0,
          0.76,
          1504.93,
          1096.99,
          35,
          6.74,
          0.77,
          0.77,
          0.77,
          3.9,
          3.14,
          7.06,
          94.82,
          0.77,
          0.77,
          187.11,
          7.59,
          4.97,
          0.77,
          296,
          45.51,
          4.9,
          156,
          4.69,
          0.77,
          1,
          0.77,
          127.14,
          0.38,
          39.98,
          12.31,
          0,
          39.9,
          634.3,
          19.95,
          349.08,
          390,
          0.76,
          77.89,
          245,
          42.53
         ],
         "type": "scatter",
         "x": [
          406,
          472,
          4462,
          6986,
          7519,
          7526,
          7535,
          7543,
          7551,
          7610,
          7672,
          7740,
          7891,
          8090,
          8169,
          8408,
          8415,
          8451,
          8528,
          8614,
          8757,
          8808,
          8878,
          8886,
          9064,
          11080,
          11092,
          11131,
          11629,
          11635,
          12093,
          12095,
          12393,
          12597,
          13126,
          13323,
          14073,
          14152,
          15817,
          17187,
          17220,
          17230,
          17520,
          17838,
          18088,
          18399,
          18675,
          18690,
          19762,
          20011,
          20332,
          20451,
          20931,
          21046,
          21419,
          21662,
          25095,
          25198,
          25231,
          25254,
          25426,
          26523,
          26556,
          26585,
          26833,
          26863,
          26899,
          26931,
          26961,
          27163,
          27187,
          27219,
          27252,
          27784,
          28143,
          28242,
          28625,
          28658,
          28692,
          28726,
          28755,
          29526,
          29531,
          29753,
          29785,
          30852,
          32686,
          32745,
          34256,
          34521,
          34634,
          34684,
          34687,
          35585,
          35771,
          35866,
          35899,
          35906,
          35926,
          35942,
          35953,
          36170,
          37167,
          39729,
          40086,
          40276,
          40662,
          40742,
          40892,
          40918,
          40919,
          41116,
          41138,
          41147,
          41164,
          41170,
          41181,
          41194,
          41203,
          41204,
          41227,
          41233,
          41237,
          41243,
          41273,
          41285,
          41305,
          41308,
          41313,
          41353,
          41397,
          41413,
          41505,
          41582,
          41607,
          41646,
          41743,
          41791,
          41851,
          41870,
          41991,
          42247,
          42474,
          42985,
          42988,
          43028,
          43369,
          43494,
          44393,
          44532,
          45463,
          45501,
          45541,
          46057,
          46149,
          46925,
          47545,
          47826,
          47923,
          47982,
          48380,
          48533,
          48884,
          49985,
          50706,
          50808,
          51112,
          51135,
          51155,
          52814,
          52934,
          53031,
          53076,
          53451,
          53658,
          53727,
          53937,
          54846,
          55279,
          55311,
          55614,
          55618,
          55760,
          56098,
          56624,
          56650,
          56806,
          56887,
          57007,
          57027,
          57163,
          58060,
          58067,
          58199,
          58217,
          58222,
          58642,
          58822,
          59011,
          59385,
          59669,
          59777,
          59840,
          60353,
          61108,
          61646,
          62059,
          62080,
          62330,
          62341,
          62467,
          63578,
          64093,
          64412,
          64443,
          64585,
          64785,
          65358,
          65385,
          65728,
          65936,
          66037,
          67150,
          67571,
          67857,
          68207,
          68207,
          68207,
          68207,
          68207,
          68207,
          68357,
          69394,
          70071,
          70229,
          70270,
          70536,
          70828,
          71033,
          72327,
          72824,
          73408,
          74159,
          74262,
          75033,
          75556,
          75581,
          75851,
          75978,
          76575,
          76826,
          76845,
          76857,
          76867,
          76876,
          77154,
          77171,
          77182,
          77202,
          77627,
          78725,
          79540,
          81372,
          82289,
          83934,
          84204,
          84204,
          84204,
          84204,
          84694,
          84789,
          85181,
          85285,
          85285,
          85285,
          85285,
          85573,
          85576,
          85864,
          85867,
          86376,
          87202,
          87883,
          88672,
          88737,
          90676,
          91075,
          91407,
          91502,
          91524,
          91554,
          92092,
          92102,
          93742,
          93823,
          93824,
          93834,
          93853,
          93853,
          93853,
          93853,
          93856,
          93860,
          93860,
          93860,
          93860,
          93879,
          93879,
          93879,
          93879,
          93888,
          93897,
          93904,
          93920,
          93965,
          94141,
          94362,
          94362,
          94362,
          94362,
          94364,
          94625,
          94952,
          95559,
          95628,
          96135,
          96291,
          96717,
          97121,
          97235,
          100223,
          100298,
          100501,
          100924,
          101051,
          101313,
          101597,
          102114,
          102318,
          102480,
          102489,
          102542,
          102572,
          102619,
          102622,
          102625,
          102669,
          102671,
          102676,
          103808,
          109297,
          109298,
          110087,
          110547,
          110552,
          110617,
          115691,
          116067,
          118532,
          118603,
          121238,
          122608,
          123078,
          123525,
          125200,
          125612,
          125658,
          126219,
          128471,
          128519,
          128595,
          128803,
          129095,
          129186,
          129222,
          129308,
          129371,
          129668,
          129741,
          129764,
          129808,
          131024,
          132086,
          132688,
          133184,
          133731,
          133958,
          134766,
          134769,
          134928,
          135095,
          135102,
          135314,
          137211,
          138894,
          138942,
          139107,
          139117,
          139767,
          139816,
          139951,
          140293,
          140308,
          141320,
          141565,
          141925,
          142280,
          142394,
          142409,
          142840,
          142961,
          143354,
          143434,
          143438,
          143456,
          144808,
          144839,
          146022,
          146026,
          146179,
          146344,
          146998,
          147501,
          148028,
          148053,
          148053,
          148074,
          148468,
          148476,
          148479,
          149096,
          149236,
          149582,
          149640,
          149676,
          150138,
          150139,
          150494,
          150949,
          151029,
          151916,
          151972,
          152036,
          152058,
          152098,
          152165,
          152307,
          152710,
          152802,
          153653,
          153761,
          153875,
          154181,
          154278,
          154309,
          154493,
          154599,
          154657,
          155054,
          155359,
          155535,
          155542,
          155548,
          155554,
          155662,
          155965,
          156685,
          156710,
          157207,
          157284,
          158638,
          159844,
          160034,
          160243,
          160537,
          160665,
          160791,
          160870,
          160895,
          161154,
          163181,
          165132,
          165981,
          166028,
          166831,
          166883,
          167338,
          169142,
          169347,
          169351,
          169966,
          170348
         ],
         "y": [
          0,
          529,
          239.93,
          59,
          1,
          1,
          1,
          1,
          1,
          1,
          1,
          1,
          1,
          1,
          1,
          1,
          1,
          1,
          1,
          1,
          1,
          1.1,
          1,
          1,
          1809.68,
          1,
          1,
          1,
          1,
          1,
          0,
          30.39,
          179.66,
          1,
          1,
          1,
          1,
          1,
          11.39,
          3.79,
          3.79,
          3.93,
          1,
          766.36,
          1218.89,
          1,
          188.78,
          1,
          1,
          1,
          1,
          1,
          1,
          1,
          1,
          1,
          3.12,
          99.99,
          99.99,
          99.99,
          3.76,
          99.99,
          99.99,
          99.99,
          99.99,
          99.99,
          99.99,
          99.99,
          99.99,
          99.99,
          99.99,
          99.99,
          99.99,
          23.36,
          99.99,
          730.86,
          99.99,
          99.99,
          99.99,
          99.99,
          99.99,
          0.68,
          0.68,
          0.68,
          30.3,
          104.81,
          0,
          717.15,
          19.02,
          1.52,
          18.96,
          125.3,
          19.02,
          0.76,
          60.6,
          7.61,
          1,
          9.13,
          4.56,
          14.46,
          111.7,
          111.7,
          12.31,
          776.83,
          1,
          1,
          1,
          1,
          0.76,
          0.76,
          112.33,
          3.79,
          340.11,
          88.23,
          5.3,
          83.38,
          11.38,
          1.52,
          88.23,
          30.26,
          459.07,
          0,
          118.3,
          45.49,
          173.07,
          37.32,
          59.68,
          0.76,
          9.99,
          34.12,
          273.01,
          106.55,
          364.19,
          39.45,
          53.95,
          172.32,
          802.52,
          99.99,
          139.9,
          1,
          1,
          1,
          1,
          1,
          648,
          204.27,
          88,
          24.9,
          1,
          1,
          1,
          105.99,
          1,
          1,
          1,
          1,
          0.76,
          7.58,
          0.76,
          0.76,
          208.58,
          1,
          19.73,
          360,
          99.99,
          99.99,
          99.99,
          99.99,
          99.99,
          519.9,
          0.76,
          0.76,
          1.18,
          8,
          0,
          112.45,
          261.87,
          1.79,
          1,
          0.83,
          0.83,
          130.44,
          311.91,
          170.92,
          153.46,
          7.52,
          1,
          5,
          0.01,
          444.17,
          1,
          1,
          1,
          1.75,
          5.09,
          270,
          113.92,
          45.64,
          1389.56,
          18.98,
          6.27,
          319.2,
          5.91,
          454.82,
          101.5,
          19.04,
          6.62,
          180,
          1,
          1.1,
          1402.16,
          290.18,
          294.9,
          1,
          0,
          0,
          720.38,
          31.91,
          1354.25,
          98.01,
          101.5,
          7.53,
          489.71,
          549.06,
          320,
          1,
          1,
          1,
          1,
          1,
          1,
          19.59,
          1,
          227.3,
          3.79,
          318.11,
          824.83,
          0.76,
          426.4,
          238.9,
          45.03,
          16.48,
          76.94,
          311.28,
          30.14,
          29.95,
          124.53,
          99.85,
          99.9,
          219.8,
          254.76,
          1,
          1,
          1,
          1,
          129,
          1,
          1,
          1,
          106.9,
          60,
          0.2,
          7.57,
          1,
          1,
          0,
          0,
          512.25,
          512.25,
          12.31,
          354.33,
          2,
          0,
          0,
          252.92,
          252.92,
          1,
          240.77,
          1,
          310.42,
          323.77,
          451.27,
          829.41,
          1.18,
          9.21,
          6.99,
          38.76,
          52.69,
          1,
          1,
          261.22,
          18,
          600.73,
          1,
          75.86,
          8.54,
          0.01,
          44.9,
          44.9,
          316.06,
          316.06,
          209.65,
          78,
          78,
          188.52,
          188.52,
          30.31,
          30.31,
          104.03,
          104.03,
          1,
          1,
          37.93,
          97,
          11.4,
          45.48,
          1,
          1,
          1,
          1,
          1,
          33.76,
          571.48,
          1.63,
          1.63,
          18.96,
          33.59,
          1,
          8.64,
          9.82,
          2.28,
          1,
          0.76,
          1,
          0.92,
          2.28,
          147.87,
          0,
          22.04,
          0,
          104,
          2.28,
          0.01,
          1,
          346.94,
          7.59,
          0,
          0,
          119.74,
          2.27,
          0,
          186.13,
          1,
          0.76,
          80.22,
          635.1,
          17.06,
          65,
          105.89,
          105.89,
          144.62,
          2125.87,
          11,
          45.51,
          40,
          3.22,
          0,
          25,
          67.9,
          93.35,
          1,
          175.9,
          720.8,
          7.18,
          4.87,
          80.9,
          0,
          2,
          1,
          362.55,
          276.17,
          723.21,
          480.72,
          1,
          1335,
          0,
          130.21,
          1,
          925.31,
          0,
          345,
          108.51,
          84.28,
          39.45,
          0.01,
          727.91,
          22.47,
          8.3,
          120.54,
          0.69,
          723.21,
          0.77,
          592.9,
          195.66,
          4.49,
          0.76,
          324.59,
          320.01,
          2,
          144.8,
          0,
          1,
          1,
          8.9,
          1,
          667.55,
          0,
          1.18,
          2.22,
          0.77,
          94.82,
          8,
          996.27,
          0,
          1.59,
          1.59,
          0,
          0.76,
          0.76,
          122.68,
          0,
          1,
          1.1,
          2,
          17.39,
          50,
          237.26,
          1,
          9.29,
          10.7,
          0.01,
          57.73,
          1,
          1,
          1,
          1,
          1,
          2.47,
          357.95,
          247.86,
          51.37,
          0,
          0.76,
          1504.93,
          1096.99,
          35,
          6.74,
          0.77,
          0.77,
          0.77,
          3.9,
          3.14,
          7.06,
          94.82,
          0.77,
          0.77,
          187.11,
          7.59,
          4.97,
          0.77,
          296,
          45.51,
          4.9,
          156,
          4.69,
          0.77,
          1,
          0.77,
          127.14,
          0.38,
          39.98,
          12.31,
          0,
          39.9,
          634.3,
          19.95,
          349.08,
          390,
          0.76,
          77.89,
          245,
          42.53
         ]
        }
       ],
       "layout": {
        "hovermode": "closest",
        "template": {
         "data": {
          "bar": [
           {
            "error_x": {
             "color": "#2a3f5f"
            },
            "error_y": {
             "color": "#2a3f5f"
            },
            "marker": {
             "line": {
              "color": "#E5ECF6",
              "width": 0.5
             }
            },
            "type": "bar"
           }
          ],
          "barpolar": [
           {
            "marker": {
             "line": {
              "color": "#E5ECF6",
              "width": 0.5
             }
            },
            "type": "barpolar"
           }
          ],
          "carpet": [
           {
            "aaxis": {
             "endlinecolor": "#2a3f5f",
             "gridcolor": "white",
             "linecolor": "white",
             "minorgridcolor": "white",
             "startlinecolor": "#2a3f5f"
            },
            "baxis": {
             "endlinecolor": "#2a3f5f",
             "gridcolor": "white",
             "linecolor": "white",
             "minorgridcolor": "white",
             "startlinecolor": "#2a3f5f"
            },
            "type": "carpet"
           }
          ],
          "choropleth": [
           {
            "colorbar": {
             "outlinewidth": 0,
             "ticks": ""
            },
            "type": "choropleth"
           }
          ],
          "contour": [
           {
            "colorbar": {
             "outlinewidth": 0,
             "ticks": ""
            },
            "colorscale": [
             [
              0,
              "#0d0887"
             ],
             [
              0.1111111111111111,
              "#46039f"
             ],
             [
              0.2222222222222222,
              "#7201a8"
             ],
             [
              0.3333333333333333,
              "#9c179e"
             ],
             [
              0.4444444444444444,
              "#bd3786"
             ],
             [
              0.5555555555555556,
              "#d8576b"
             ],
             [
              0.6666666666666666,
              "#ed7953"
             ],
             [
              0.7777777777777778,
              "#fb9f3a"
             ],
             [
              0.8888888888888888,
              "#fdca26"
             ],
             [
              1,
              "#f0f921"
             ]
            ],
            "type": "contour"
           }
          ],
          "contourcarpet": [
           {
            "colorbar": {
             "outlinewidth": 0,
             "ticks": ""
            },
            "type": "contourcarpet"
           }
          ],
          "heatmap": [
           {
            "colorbar": {
             "outlinewidth": 0,
             "ticks": ""
            },
            "colorscale": [
             [
              0,
              "#0d0887"
             ],
             [
              0.1111111111111111,
              "#46039f"
             ],
             [
              0.2222222222222222,
              "#7201a8"
             ],
             [
              0.3333333333333333,
              "#9c179e"
             ],
             [
              0.4444444444444444,
              "#bd3786"
             ],
             [
              0.5555555555555556,
              "#d8576b"
             ],
             [
              0.6666666666666666,
              "#ed7953"
             ],
             [
              0.7777777777777778,
              "#fb9f3a"
             ],
             [
              0.8888888888888888,
              "#fdca26"
             ],
             [
              1,
              "#f0f921"
             ]
            ],
            "type": "heatmap"
           }
          ],
          "heatmapgl": [
           {
            "colorbar": {
             "outlinewidth": 0,
             "ticks": ""
            },
            "colorscale": [
             [
              0,
              "#0d0887"
             ],
             [
              0.1111111111111111,
              "#46039f"
             ],
             [
              0.2222222222222222,
              "#7201a8"
             ],
             [
              0.3333333333333333,
              "#9c179e"
             ],
             [
              0.4444444444444444,
              "#bd3786"
             ],
             [
              0.5555555555555556,
              "#d8576b"
             ],
             [
              0.6666666666666666,
              "#ed7953"
             ],
             [
              0.7777777777777778,
              "#fb9f3a"
             ],
             [
              0.8888888888888888,
              "#fdca26"
             ],
             [
              1,
              "#f0f921"
             ]
            ],
            "type": "heatmapgl"
           }
          ],
          "histogram": [
           {
            "marker": {
             "colorbar": {
              "outlinewidth": 0,
              "ticks": ""
             }
            },
            "type": "histogram"
           }
          ],
          "histogram2d": [
           {
            "colorbar": {
             "outlinewidth": 0,
             "ticks": ""
            },
            "colorscale": [
             [
              0,
              "#0d0887"
             ],
             [
              0.1111111111111111,
              "#46039f"
             ],
             [
              0.2222222222222222,
              "#7201a8"
             ],
             [
              0.3333333333333333,
              "#9c179e"
             ],
             [
              0.4444444444444444,
              "#bd3786"
             ],
             [
              0.5555555555555556,
              "#d8576b"
             ],
             [
              0.6666666666666666,
              "#ed7953"
             ],
             [
              0.7777777777777778,
              "#fb9f3a"
             ],
             [
              0.8888888888888888,
              "#fdca26"
             ],
             [
              1,
              "#f0f921"
             ]
            ],
            "type": "histogram2d"
           }
          ],
          "histogram2dcontour": [
           {
            "colorbar": {
             "outlinewidth": 0,
             "ticks": ""
            },
            "colorscale": [
             [
              0,
              "#0d0887"
             ],
             [
              0.1111111111111111,
              "#46039f"
             ],
             [
              0.2222222222222222,
              "#7201a8"
             ],
             [
              0.3333333333333333,
              "#9c179e"
             ],
             [
              0.4444444444444444,
              "#bd3786"
             ],
             [
              0.5555555555555556,
              "#d8576b"
             ],
             [
              0.6666666666666666,
              "#ed7953"
             ],
             [
              0.7777777777777778,
              "#fb9f3a"
             ],
             [
              0.8888888888888888,
              "#fdca26"
             ],
             [
              1,
              "#f0f921"
             ]
            ],
            "type": "histogram2dcontour"
           }
          ],
          "mesh3d": [
           {
            "colorbar": {
             "outlinewidth": 0,
             "ticks": ""
            },
            "type": "mesh3d"
           }
          ],
          "parcoords": [
           {
            "line": {
             "colorbar": {
              "outlinewidth": 0,
              "ticks": ""
             }
            },
            "type": "parcoords"
           }
          ],
          "scatter": [
           {
            "marker": {
             "colorbar": {
              "outlinewidth": 0,
              "ticks": ""
             }
            },
            "type": "scatter"
           }
          ],
          "scatter3d": [
           {
            "line": {
             "colorbar": {
              "outlinewidth": 0,
              "ticks": ""
             }
            },
            "marker": {
             "colorbar": {
              "outlinewidth": 0,
              "ticks": ""
             }
            },
            "type": "scatter3d"
           }
          ],
          "scattercarpet": [
           {
            "marker": {
             "colorbar": {
              "outlinewidth": 0,
              "ticks": ""
             }
            },
            "type": "scattercarpet"
           }
          ],
          "scattergeo": [
           {
            "marker": {
             "colorbar": {
              "outlinewidth": 0,
              "ticks": ""
             }
            },
            "type": "scattergeo"
           }
          ],
          "scattergl": [
           {
            "marker": {
             "colorbar": {
              "outlinewidth": 0,
              "ticks": ""
             }
            },
            "type": "scattergl"
           }
          ],
          "scattermapbox": [
           {
            "marker": {
             "colorbar": {
              "outlinewidth": 0,
              "ticks": ""
             }
            },
            "type": "scattermapbox"
           }
          ],
          "scatterpolar": [
           {
            "marker": {
             "colorbar": {
              "outlinewidth": 0,
              "ticks": ""
             }
            },
            "type": "scatterpolar"
           }
          ],
          "scatterpolargl": [
           {
            "marker": {
             "colorbar": {
              "outlinewidth": 0,
              "ticks": ""
             }
            },
            "type": "scatterpolargl"
           }
          ],
          "scatterternary": [
           {
            "marker": {
             "colorbar": {
              "outlinewidth": 0,
              "ticks": ""
             }
            },
            "type": "scatterternary"
           }
          ],
          "surface": [
           {
            "colorbar": {
             "outlinewidth": 0,
             "ticks": ""
            },
            "colorscale": [
             [
              0,
              "#0d0887"
             ],
             [
              0.1111111111111111,
              "#46039f"
             ],
             [
              0.2222222222222222,
              "#7201a8"
             ],
             [
              0.3333333333333333,
              "#9c179e"
             ],
             [
              0.4444444444444444,
              "#bd3786"
             ],
             [
              0.5555555555555556,
              "#d8576b"
             ],
             [
              0.6666666666666666,
              "#ed7953"
             ],
             [
              0.7777777777777778,
              "#fb9f3a"
             ],
             [
              0.8888888888888888,
              "#fdca26"
             ],
             [
              1,
              "#f0f921"
             ]
            ],
            "type": "surface"
           }
          ],
          "table": [
           {
            "cells": {
             "fill": {
              "color": "#EBF0F8"
             },
             "line": {
              "color": "white"
             }
            },
            "header": {
             "fill": {
              "color": "#C8D4E3"
             },
             "line": {
              "color": "white"
             }
            },
            "type": "table"
           }
          ]
         },
         "layout": {
          "annotationdefaults": {
           "arrowcolor": "#2a3f5f",
           "arrowhead": 0,
           "arrowwidth": 1
          },
          "colorscale": {
           "diverging": [
            [
             0,
             "#8e0152"
            ],
            [
             0.1,
             "#c51b7d"
            ],
            [
             0.2,
             "#de77ae"
            ],
            [
             0.3,
             "#f1b6da"
            ],
            [
             0.4,
             "#fde0ef"
            ],
            [
             0.5,
             "#f7f7f7"
            ],
            [
             0.6,
             "#e6f5d0"
            ],
            [
             0.7,
             "#b8e186"
            ],
            [
             0.8,
             "#7fbc41"
            ],
            [
             0.9,
             "#4d9221"
            ],
            [
             1,
             "#276419"
            ]
           ],
           "sequential": [
            [
             0,
             "#0d0887"
            ],
            [
             0.1111111111111111,
             "#46039f"
            ],
            [
             0.2222222222222222,
             "#7201a8"
            ],
            [
             0.3333333333333333,
             "#9c179e"
            ],
            [
             0.4444444444444444,
             "#bd3786"
            ],
            [
             0.5555555555555556,
             "#d8576b"
            ],
            [
             0.6666666666666666,
             "#ed7953"
            ],
            [
             0.7777777777777778,
             "#fb9f3a"
            ],
            [
             0.8888888888888888,
             "#fdca26"
            ],
            [
             1,
             "#f0f921"
            ]
           ],
           "sequentialminus": [
            [
             0,
             "#0d0887"
            ],
            [
             0.1111111111111111,
             "#46039f"
            ],
            [
             0.2222222222222222,
             "#7201a8"
            ],
            [
             0.3333333333333333,
             "#9c179e"
            ],
            [
             0.4444444444444444,
             "#bd3786"
            ],
            [
             0.5555555555555556,
             "#d8576b"
            ],
            [
             0.6666666666666666,
             "#ed7953"
            ],
            [
             0.7777777777777778,
             "#fb9f3a"
            ],
            [
             0.8888888888888888,
             "#fdca26"
            ],
            [
             1,
             "#f0f921"
            ]
           ]
          },
          "colorway": [
           "#636efa",
           "#EF553B",
           "#00cc96",
           "#ab63fa",
           "#FFA15A",
           "#19d3f3",
           "#FF6692",
           "#B6E880",
           "#FF97FF",
           "#FECB52"
          ],
          "font": {
           "color": "#2a3f5f"
          },
          "geo": {
           "bgcolor": "white",
           "lakecolor": "white",
           "landcolor": "#E5ECF6",
           "showlakes": true,
           "showland": true,
           "subunitcolor": "white"
          },
          "hoverlabel": {
           "align": "left"
          },
          "hovermode": "closest",
          "mapbox": {
           "style": "light"
          },
          "paper_bgcolor": "white",
          "plot_bgcolor": "#E5ECF6",
          "polar": {
           "angularaxis": {
            "gridcolor": "white",
            "linecolor": "white",
            "ticks": ""
           },
           "bgcolor": "#E5ECF6",
           "radialaxis": {
            "gridcolor": "white",
            "linecolor": "white",
            "ticks": ""
           }
          },
          "scene": {
           "xaxis": {
            "backgroundcolor": "#E5ECF6",
            "gridcolor": "white",
            "gridwidth": 2,
            "linecolor": "white",
            "showbackground": true,
            "ticks": "",
            "zerolinecolor": "white"
           },
           "yaxis": {
            "backgroundcolor": "#E5ECF6",
            "gridcolor": "white",
            "gridwidth": 2,
            "linecolor": "white",
            "showbackground": true,
            "ticks": "",
            "zerolinecolor": "white"
           },
           "zaxis": {
            "backgroundcolor": "#E5ECF6",
            "gridcolor": "white",
            "gridwidth": 2,
            "linecolor": "white",
            "showbackground": true,
            "ticks": "",
            "zerolinecolor": "white"
           }
          },
          "shapedefaults": {
           "line": {
            "color": "#2a3f5f"
           }
          },
          "ternary": {
           "aaxis": {
            "gridcolor": "white",
            "linecolor": "white",
            "ticks": ""
           },
           "baxis": {
            "gridcolor": "white",
            "linecolor": "white",
            "ticks": ""
           },
           "bgcolor": "#E5ECF6",
           "caxis": {
            "gridcolor": "white",
            "linecolor": "white",
            "ticks": ""
           }
          },
          "title": {
           "x": 0.05
          },
          "xaxis": {
           "automargin": true,
           "gridcolor": "white",
           "linecolor": "white",
           "ticks": "",
           "zerolinecolor": "white",
           "zerolinewidth": 2
          },
          "yaxis": {
           "automargin": true,
           "gridcolor": "white",
           "linecolor": "white",
           "ticks": "",
           "zerolinecolor": "white",
           "zerolinewidth": 2
          }
         }
        },
        "title": {
         "text": "Amount of fraudulent transactions"
        },
        "xaxis": {
         "showticklabels": true,
         "title": {
          "text": "Time [s]"
         }
        },
        "yaxis": {
         "title": {
          "text": "Amount"
         }
        }
       }
      },
      "text/html": [
       "<div>\n",
       "        \n",
       "        \n",
       "            <div id=\"6cdc5b7e-7d5a-4536-853a-0414a1088a27\" class=\"plotly-graph-div\" style=\"height:525px; width:100%;\"></div>\n",
       "            <script type=\"text/javascript\">\n",
       "                require([\"plotly\"], function(Plotly) {\n",
       "                    window.PLOTLYENV=window.PLOTLYENV || {};\n",
       "                    \n",
       "                if (document.getElementById(\"6cdc5b7e-7d5a-4536-853a-0414a1088a27\")) {\n",
       "                    Plotly.newPlot(\n",
       "                        '6cdc5b7e-7d5a-4536-853a-0414a1088a27',\n",
       "                        [{\"marker\": {\"color\": \"rgb(238,23,11)\", \"line\": {\"color\": \"red\", \"width\": 1}, \"opacity\": 0.5}, \"mode\": \"markers\", \"name\": \"Amount\", \"text\": [0.0, 529.0, 239.93, 59.0, 1.0, 1.0, 1.0, 1.0, 1.0, 1.0, 1.0, 1.0, 1.0, 1.0, 1.0, 1.0, 1.0, 1.0, 1.0, 1.0, 1.0, 1.1, 1.0, 1.0, 1809.68, 1.0, 1.0, 1.0, 1.0, 1.0, 0.0, 30.39, 179.66, 1.0, 1.0, 1.0, 1.0, 1.0, 11.39, 3.79, 3.79, 3.93, 1.0, 766.36, 1218.89, 1.0, 188.78, 1.0, 1.0, 1.0, 1.0, 1.0, 1.0, 1.0, 1.0, 1.0, 3.12, 99.99, 99.99, 99.99, 3.76, 99.99, 99.99, 99.99, 99.99, 99.99, 99.99, 99.99, 99.99, 99.99, 99.99, 99.99, 99.99, 23.36, 99.99, 730.86, 99.99, 99.99, 99.99, 99.99, 99.99, 0.68, 0.68, 0.68, 30.3, 104.81, 0.0, 717.15, 19.02, 1.52, 18.96, 125.3, 19.02, 0.76, 60.6, 7.61, 1.0, 9.13, 4.56, 14.46, 111.7, 111.7, 12.31, 776.83, 1.0, 1.0, 1.0, 1.0, 0.76, 0.76, 112.33, 3.79, 340.11, 88.23, 5.3, 83.38, 11.38, 1.52, 88.23, 30.26, 459.07, 0.0, 118.3, 45.49, 173.07, 37.32, 59.68, 0.76, 9.99, 34.12, 273.01, 106.55, 364.19, 39.45, 53.95, 172.32, 802.52, 99.99, 139.9, 1.0, 1.0, 1.0, 1.0, 1.0, 648.0, 204.27, 88.0, 24.9, 1.0, 1.0, 1.0, 105.99, 1.0, 1.0, 1.0, 1.0, 0.76, 7.58, 0.76, 0.76, 208.58, 1.0, 19.73, 360.0, 99.99, 99.99, 99.99, 99.99, 99.99, 519.9, 0.76, 0.76, 1.18, 8.0, 0.0, 112.45, 261.87, 1.79, 1.0, 0.83, 0.83, 130.44, 311.91, 170.92, 153.46, 7.52, 1.0, 5.0, 0.01, 444.17, 1.0, 1.0, 1.0, 1.75, 5.09, 270.0, 113.92, 45.64, 1389.56, 18.98, 6.27, 319.2, 5.91, 454.82, 101.5, 19.04, 6.62, 180.0, 1.0, 1.1, 1402.16, 290.18, 294.9, 1.0, 0.0, 0.0, 720.38, 31.91, 1354.25, 98.01, 101.5, 7.53, 489.71, 549.06, 320.0, 1.0, 1.0, 1.0, 1.0, 1.0, 1.0, 19.59, 1.0, 227.3, 3.79, 318.11, 824.83, 0.76, 426.4, 238.9, 45.03, 16.48, 76.94, 311.28, 30.14, 29.95, 124.53, 99.85, 99.9, 219.8, 254.76, 1.0, 1.0, 1.0, 1.0, 129.0, 1.0, 1.0, 1.0, 106.9, 60.0, 0.2, 7.57, 1.0, 1.0, 0.0, 0.0, 512.25, 512.25, 12.31, 354.33, 2.0, 0.0, 0.0, 252.92, 252.92, 1.0, 240.77, 1.0, 310.42, 323.77, 451.27, 829.41, 1.18, 9.21, 6.99, 38.76, 52.69, 1.0, 1.0, 261.22, 18.0, 600.73, 1.0, 75.86, 8.54, 0.01, 44.9, 44.9, 316.06, 316.06, 209.65, 78.0, 78.0, 188.52, 188.52, 30.31, 30.31, 104.03, 104.03, 1.0, 1.0, 37.93, 97.0, 11.4, 45.48, 1.0, 1.0, 1.0, 1.0, 1.0, 33.76, 571.48, 1.63, 1.63, 18.96, 33.59, 1.0, 8.64, 9.82, 2.28, 1.0, 0.76, 1.0, 0.92, 2.28, 147.87, 0.0, 22.04, 0.0, 104.0, 2.28, 0.01, 1.0, 346.94, 7.59, 0.0, 0.0, 119.74, 2.27, 0.0, 186.13, 1.0, 0.76, 80.22, 635.1, 17.06, 65.0, 105.89, 105.89, 144.62, 2125.87, 11.0, 45.51, 40.0, 3.22, 0.0, 25.0, 67.9, 93.35, 1.0, 175.9, 720.8, 7.18, 4.87, 80.9, 0.0, 2.0, 1.0, 362.55, 276.17, 723.21, 480.72, 1.0, 1335.0, 0.0, 130.21, 1.0, 925.31, 0.0, 345.0, 108.51, 84.28, 39.45, 0.01, 727.91, 22.47, 8.3, 120.54, 0.69, 723.21, 0.77, 592.9, 195.66, 4.49, 0.76, 324.59, 320.01, 2.0, 144.8, 0.0, 1.0, 1.0, 8.9, 1.0, 667.55, 0.0, 1.18, 2.22, 0.77, 94.82, 8.0, 996.27, 0.0, 1.59, 1.59, 0.0, 0.76, 0.76, 122.68, 0.0, 1.0, 1.1, 2.0, 17.39, 50.0, 237.26, 1.0, 9.29, 10.7, 0.01, 57.73, 1.0, 1.0, 1.0, 1.0, 1.0, 2.47, 357.95, 247.86, 51.37, 0.0, 0.76, 1504.93, 1096.99, 35.0, 6.74, 0.77, 0.77, 0.77, 3.9, 3.14, 7.06, 94.82, 0.77, 0.77, 187.11, 7.59, 4.97, 0.77, 296.0, 45.51, 4.9, 156.0, 4.69, 0.77, 1.0, 0.77, 127.14, 0.38, 39.98, 12.31, 0.0, 39.9, 634.3, 19.95, 349.08, 390.0, 0.76, 77.89, 245.0, 42.53], \"type\": \"scatter\", \"x\": [406.0, 472.0, 4462.0, 6986.0, 7519.0, 7526.0, 7535.0, 7543.0, 7551.0, 7610.0, 7672.0, 7740.0, 7891.0, 8090.0, 8169.0, 8408.0, 8415.0, 8451.0, 8528.0, 8614.0, 8757.0, 8808.0, 8878.0, 8886.0, 9064.0, 11080.0, 11092.0, 11131.0, 11629.0, 11635.0, 12093.0, 12095.0, 12393.0, 12597.0, 13126.0, 13323.0, 14073.0, 14152.0, 15817.0, 17187.0, 17220.0, 17230.0, 17520.0, 17838.0, 18088.0, 18399.0, 18675.0, 18690.0, 19762.0, 20011.0, 20332.0, 20451.0, 20931.0, 21046.0, 21419.0, 21662.0, 25095.0, 25198.0, 25231.0, 25254.0, 25426.0, 26523.0, 26556.0, 26585.0, 26833.0, 26863.0, 26899.0, 26931.0, 26961.0, 27163.0, 27187.0, 27219.0, 27252.0, 27784.0, 28143.0, 28242.0, 28625.0, 28658.0, 28692.0, 28726.0, 28755.0, 29526.0, 29531.0, 29753.0, 29785.0, 30852.0, 32686.0, 32745.0, 34256.0, 34521.0, 34634.0, 34684.0, 34687.0, 35585.0, 35771.0, 35866.0, 35899.0, 35906.0, 35926.0, 35942.0, 35953.0, 36170.0, 37167.0, 39729.0, 40086.0, 40276.0, 40662.0, 40742.0, 40892.0, 40918.0, 40919.0, 41116.0, 41138.0, 41147.0, 41164.0, 41170.0, 41181.0, 41194.0, 41203.0, 41204.0, 41227.0, 41233.0, 41237.0, 41243.0, 41273.0, 41285.0, 41305.0, 41308.0, 41313.0, 41353.0, 41397.0, 41413.0, 41505.0, 41582.0, 41607.0, 41646.0, 41743.0, 41791.0, 41851.0, 41870.0, 41991.0, 42247.0, 42474.0, 42985.0, 42988.0, 43028.0, 43369.0, 43494.0, 44393.0, 44532.0, 45463.0, 45501.0, 45541.0, 46057.0, 46149.0, 46925.0, 47545.0, 47826.0, 47923.0, 47982.0, 48380.0, 48533.0, 48884.0, 49985.0, 50706.0, 50808.0, 51112.0, 51135.0, 51155.0, 52814.0, 52934.0, 53031.0, 53076.0, 53451.0, 53658.0, 53727.0, 53937.0, 54846.0, 55279.0, 55311.0, 55614.0, 55618.0, 55760.0, 56098.0, 56624.0, 56650.0, 56806.0, 56887.0, 57007.0, 57027.0, 57163.0, 58060.0, 58067.0, 58199.0, 58217.0, 58222.0, 58642.0, 58822.0, 59011.0, 59385.0, 59669.0, 59777.0, 59840.0, 60353.0, 61108.0, 61646.0, 62059.0, 62080.0, 62330.0, 62341.0, 62467.0, 63578.0, 64093.0, 64412.0, 64443.0, 64585.0, 64785.0, 65358.0, 65385.0, 65728.0, 65936.0, 66037.0, 67150.0, 67571.0, 67857.0, 68207.0, 68207.0, 68207.0, 68207.0, 68207.0, 68207.0, 68357.0, 69394.0, 70071.0, 70229.0, 70270.0, 70536.0, 70828.0, 71033.0, 72327.0, 72824.0, 73408.0, 74159.0, 74262.0, 75033.0, 75556.0, 75581.0, 75851.0, 75978.0, 76575.0, 76826.0, 76845.0, 76857.0, 76867.0, 76876.0, 77154.0, 77171.0, 77182.0, 77202.0, 77627.0, 78725.0, 79540.0, 81372.0, 82289.0, 83934.0, 84204.0, 84204.0, 84204.0, 84204.0, 84694.0, 84789.0, 85181.0, 85285.0, 85285.0, 85285.0, 85285.0, 85573.0, 85576.0, 85864.0, 85867.0, 86376.0, 87202.0, 87883.0, 88672.0, 88737.0, 90676.0, 91075.0, 91407.0, 91502.0, 91524.0, 91554.0, 92092.0, 92102.0, 93742.0, 93823.0, 93824.0, 93834.0, 93853.0, 93853.0, 93853.0, 93853.0, 93856.0, 93860.0, 93860.0, 93860.0, 93860.0, 93879.0, 93879.0, 93879.0, 93879.0, 93888.0, 93897.0, 93904.0, 93920.0, 93965.0, 94141.0, 94362.0, 94362.0, 94362.0, 94362.0, 94364.0, 94625.0, 94952.0, 95559.0, 95628.0, 96135.0, 96291.0, 96717.0, 97121.0, 97235.0, 100223.0, 100298.0, 100501.0, 100924.0, 101051.0, 101313.0, 101597.0, 102114.0, 102318.0, 102480.0, 102489.0, 102542.0, 102572.0, 102619.0, 102622.0, 102625.0, 102669.0, 102671.0, 102676.0, 103808.0, 109297.0, 109298.0, 110087.0, 110547.0, 110552.0, 110617.0, 115691.0, 116067.0, 118532.0, 118603.0, 121238.0, 122608.0, 123078.0, 123525.0, 125200.0, 125612.0, 125658.0, 126219.0, 128471.0, 128519.0, 128595.0, 128803.0, 129095.0, 129186.0, 129222.0, 129308.0, 129371.0, 129668.0, 129741.0, 129764.0, 129808.0, 131024.0, 132086.0, 132688.0, 133184.0, 133731.0, 133958.0, 134766.0, 134769.0, 134928.0, 135095.0, 135102.0, 135314.0, 137211.0, 138894.0, 138942.0, 139107.0, 139117.0, 139767.0, 139816.0, 139951.0, 140293.0, 140308.0, 141320.0, 141565.0, 141925.0, 142280.0, 142394.0, 142409.0, 142840.0, 142961.0, 143354.0, 143434.0, 143438.0, 143456.0, 144808.0, 144839.0, 146022.0, 146026.0, 146179.0, 146344.0, 146998.0, 147501.0, 148028.0, 148053.0, 148053.0, 148074.0, 148468.0, 148476.0, 148479.0, 149096.0, 149236.0, 149582.0, 149640.0, 149676.0, 150138.0, 150139.0, 150494.0, 150949.0, 151029.0, 151916.0, 151972.0, 152036.0, 152058.0, 152098.0, 152165.0, 152307.0, 152710.0, 152802.0, 153653.0, 153761.0, 153875.0, 154181.0, 154278.0, 154309.0, 154493.0, 154599.0, 154657.0, 155054.0, 155359.0, 155535.0, 155542.0, 155548.0, 155554.0, 155662.0, 155965.0, 156685.0, 156710.0, 157207.0, 157284.0, 158638.0, 159844.0, 160034.0, 160243.0, 160537.0, 160665.0, 160791.0, 160870.0, 160895.0, 161154.0, 163181.0, 165132.0, 165981.0, 166028.0, 166831.0, 166883.0, 167338.0, 169142.0, 169347.0, 169351.0, 169966.0, 170348.0], \"y\": [0.0, 529.0, 239.93, 59.0, 1.0, 1.0, 1.0, 1.0, 1.0, 1.0, 1.0, 1.0, 1.0, 1.0, 1.0, 1.0, 1.0, 1.0, 1.0, 1.0, 1.0, 1.1, 1.0, 1.0, 1809.68, 1.0, 1.0, 1.0, 1.0, 1.0, 0.0, 30.39, 179.66, 1.0, 1.0, 1.0, 1.0, 1.0, 11.39, 3.79, 3.79, 3.93, 1.0, 766.36, 1218.89, 1.0, 188.78, 1.0, 1.0, 1.0, 1.0, 1.0, 1.0, 1.0, 1.0, 1.0, 3.12, 99.99, 99.99, 99.99, 3.76, 99.99, 99.99, 99.99, 99.99, 99.99, 99.99, 99.99, 99.99, 99.99, 99.99, 99.99, 99.99, 23.36, 99.99, 730.86, 99.99, 99.99, 99.99, 99.99, 99.99, 0.68, 0.68, 0.68, 30.3, 104.81, 0.0, 717.15, 19.02, 1.52, 18.96, 125.3, 19.02, 0.76, 60.6, 7.61, 1.0, 9.13, 4.56, 14.46, 111.7, 111.7, 12.31, 776.83, 1.0, 1.0, 1.0, 1.0, 0.76, 0.76, 112.33, 3.79, 340.11, 88.23, 5.3, 83.38, 11.38, 1.52, 88.23, 30.26, 459.07, 0.0, 118.3, 45.49, 173.07, 37.32, 59.68, 0.76, 9.99, 34.12, 273.01, 106.55, 364.19, 39.45, 53.95, 172.32, 802.52, 99.99, 139.9, 1.0, 1.0, 1.0, 1.0, 1.0, 648.0, 204.27, 88.0, 24.9, 1.0, 1.0, 1.0, 105.99, 1.0, 1.0, 1.0, 1.0, 0.76, 7.58, 0.76, 0.76, 208.58, 1.0, 19.73, 360.0, 99.99, 99.99, 99.99, 99.99, 99.99, 519.9, 0.76, 0.76, 1.18, 8.0, 0.0, 112.45, 261.87, 1.79, 1.0, 0.83, 0.83, 130.44, 311.91, 170.92, 153.46, 7.52, 1.0, 5.0, 0.01, 444.17, 1.0, 1.0, 1.0, 1.75, 5.09, 270.0, 113.92, 45.64, 1389.56, 18.98, 6.27, 319.2, 5.91, 454.82, 101.5, 19.04, 6.62, 180.0, 1.0, 1.1, 1402.16, 290.18, 294.9, 1.0, 0.0, 0.0, 720.38, 31.91, 1354.25, 98.01, 101.5, 7.53, 489.71, 549.06, 320.0, 1.0, 1.0, 1.0, 1.0, 1.0, 1.0, 19.59, 1.0, 227.3, 3.79, 318.11, 824.83, 0.76, 426.4, 238.9, 45.03, 16.48, 76.94, 311.28, 30.14, 29.95, 124.53, 99.85, 99.9, 219.8, 254.76, 1.0, 1.0, 1.0, 1.0, 129.0, 1.0, 1.0, 1.0, 106.9, 60.0, 0.2, 7.57, 1.0, 1.0, 0.0, 0.0, 512.25, 512.25, 12.31, 354.33, 2.0, 0.0, 0.0, 252.92, 252.92, 1.0, 240.77, 1.0, 310.42, 323.77, 451.27, 829.41, 1.18, 9.21, 6.99, 38.76, 52.69, 1.0, 1.0, 261.22, 18.0, 600.73, 1.0, 75.86, 8.54, 0.01, 44.9, 44.9, 316.06, 316.06, 209.65, 78.0, 78.0, 188.52, 188.52, 30.31, 30.31, 104.03, 104.03, 1.0, 1.0, 37.93, 97.0, 11.4, 45.48, 1.0, 1.0, 1.0, 1.0, 1.0, 33.76, 571.48, 1.63, 1.63, 18.96, 33.59, 1.0, 8.64, 9.82, 2.28, 1.0, 0.76, 1.0, 0.92, 2.28, 147.87, 0.0, 22.04, 0.0, 104.0, 2.28, 0.01, 1.0, 346.94, 7.59, 0.0, 0.0, 119.74, 2.27, 0.0, 186.13, 1.0, 0.76, 80.22, 635.1, 17.06, 65.0, 105.89, 105.89, 144.62, 2125.87, 11.0, 45.51, 40.0, 3.22, 0.0, 25.0, 67.9, 93.35, 1.0, 175.9, 720.8, 7.18, 4.87, 80.9, 0.0, 2.0, 1.0, 362.55, 276.17, 723.21, 480.72, 1.0, 1335.0, 0.0, 130.21, 1.0, 925.31, 0.0, 345.0, 108.51, 84.28, 39.45, 0.01, 727.91, 22.47, 8.3, 120.54, 0.69, 723.21, 0.77, 592.9, 195.66, 4.49, 0.76, 324.59, 320.01, 2.0, 144.8, 0.0, 1.0, 1.0, 8.9, 1.0, 667.55, 0.0, 1.18, 2.22, 0.77, 94.82, 8.0, 996.27, 0.0, 1.59, 1.59, 0.0, 0.76, 0.76, 122.68, 0.0, 1.0, 1.1, 2.0, 17.39, 50.0, 237.26, 1.0, 9.29, 10.7, 0.01, 57.73, 1.0, 1.0, 1.0, 1.0, 1.0, 2.47, 357.95, 247.86, 51.37, 0.0, 0.76, 1504.93, 1096.99, 35.0, 6.74, 0.77, 0.77, 0.77, 3.9, 3.14, 7.06, 94.82, 0.77, 0.77, 187.11, 7.59, 4.97, 0.77, 296.0, 45.51, 4.9, 156.0, 4.69, 0.77, 1.0, 0.77, 127.14, 0.38, 39.98, 12.31, 0.0, 39.9, 634.3, 19.95, 349.08, 390.0, 0.76, 77.89, 245.0, 42.53]}],\n",
       "                        {\"hovermode\": \"closest\", \"template\": {\"data\": {\"bar\": [{\"error_x\": {\"color\": \"#2a3f5f\"}, \"error_y\": {\"color\": \"#2a3f5f\"}, \"marker\": {\"line\": {\"color\": \"#E5ECF6\", \"width\": 0.5}}, \"type\": \"bar\"}], \"barpolar\": [{\"marker\": {\"line\": {\"color\": \"#E5ECF6\", \"width\": 0.5}}, \"type\": \"barpolar\"}], \"carpet\": [{\"aaxis\": {\"endlinecolor\": \"#2a3f5f\", \"gridcolor\": \"white\", \"linecolor\": \"white\", \"minorgridcolor\": \"white\", \"startlinecolor\": \"#2a3f5f\"}, \"baxis\": {\"endlinecolor\": \"#2a3f5f\", \"gridcolor\": \"white\", \"linecolor\": \"white\", \"minorgridcolor\": \"white\", \"startlinecolor\": \"#2a3f5f\"}, \"type\": \"carpet\"}], \"choropleth\": [{\"colorbar\": {\"outlinewidth\": 0, \"ticks\": \"\"}, \"type\": \"choropleth\"}], \"contour\": [{\"colorbar\": {\"outlinewidth\": 0, \"ticks\": \"\"}, \"colorscale\": [[0.0, \"#0d0887\"], [0.1111111111111111, \"#46039f\"], [0.2222222222222222, \"#7201a8\"], [0.3333333333333333, \"#9c179e\"], [0.4444444444444444, \"#bd3786\"], [0.5555555555555556, \"#d8576b\"], [0.6666666666666666, \"#ed7953\"], [0.7777777777777778, \"#fb9f3a\"], [0.8888888888888888, \"#fdca26\"], [1.0, \"#f0f921\"]], \"type\": \"contour\"}], \"contourcarpet\": [{\"colorbar\": {\"outlinewidth\": 0, \"ticks\": \"\"}, \"type\": \"contourcarpet\"}], \"heatmap\": [{\"colorbar\": {\"outlinewidth\": 0, \"ticks\": \"\"}, \"colorscale\": [[0.0, \"#0d0887\"], [0.1111111111111111, \"#46039f\"], [0.2222222222222222, \"#7201a8\"], [0.3333333333333333, \"#9c179e\"], [0.4444444444444444, \"#bd3786\"], [0.5555555555555556, \"#d8576b\"], [0.6666666666666666, \"#ed7953\"], [0.7777777777777778, \"#fb9f3a\"], [0.8888888888888888, \"#fdca26\"], [1.0, \"#f0f921\"]], \"type\": \"heatmap\"}], \"heatmapgl\": [{\"colorbar\": {\"outlinewidth\": 0, \"ticks\": \"\"}, \"colorscale\": [[0.0, \"#0d0887\"], [0.1111111111111111, \"#46039f\"], [0.2222222222222222, \"#7201a8\"], [0.3333333333333333, \"#9c179e\"], [0.4444444444444444, \"#bd3786\"], [0.5555555555555556, \"#d8576b\"], [0.6666666666666666, \"#ed7953\"], [0.7777777777777778, \"#fb9f3a\"], [0.8888888888888888, \"#fdca26\"], [1.0, \"#f0f921\"]], \"type\": \"heatmapgl\"}], \"histogram\": [{\"marker\": {\"colorbar\": {\"outlinewidth\": 0, \"ticks\": \"\"}}, \"type\": \"histogram\"}], \"histogram2d\": [{\"colorbar\": {\"outlinewidth\": 0, \"ticks\": \"\"}, \"colorscale\": [[0.0, \"#0d0887\"], [0.1111111111111111, \"#46039f\"], [0.2222222222222222, \"#7201a8\"], [0.3333333333333333, \"#9c179e\"], [0.4444444444444444, \"#bd3786\"], [0.5555555555555556, \"#d8576b\"], [0.6666666666666666, \"#ed7953\"], [0.7777777777777778, \"#fb9f3a\"], [0.8888888888888888, \"#fdca26\"], [1.0, \"#f0f921\"]], \"type\": \"histogram2d\"}], \"histogram2dcontour\": [{\"colorbar\": {\"outlinewidth\": 0, \"ticks\": \"\"}, \"colorscale\": [[0.0, \"#0d0887\"], [0.1111111111111111, \"#46039f\"], [0.2222222222222222, \"#7201a8\"], [0.3333333333333333, \"#9c179e\"], [0.4444444444444444, \"#bd3786\"], [0.5555555555555556, \"#d8576b\"], [0.6666666666666666, \"#ed7953\"], [0.7777777777777778, \"#fb9f3a\"], [0.8888888888888888, \"#fdca26\"], [1.0, \"#f0f921\"]], \"type\": \"histogram2dcontour\"}], \"mesh3d\": [{\"colorbar\": {\"outlinewidth\": 0, \"ticks\": \"\"}, \"type\": \"mesh3d\"}], \"parcoords\": [{\"line\": {\"colorbar\": {\"outlinewidth\": 0, \"ticks\": \"\"}}, \"type\": \"parcoords\"}], \"scatter\": [{\"marker\": {\"colorbar\": {\"outlinewidth\": 0, \"ticks\": \"\"}}, \"type\": \"scatter\"}], \"scatter3d\": [{\"line\": {\"colorbar\": {\"outlinewidth\": 0, \"ticks\": \"\"}}, \"marker\": {\"colorbar\": {\"outlinewidth\": 0, \"ticks\": \"\"}}, \"type\": \"scatter3d\"}], \"scattercarpet\": [{\"marker\": {\"colorbar\": {\"outlinewidth\": 0, \"ticks\": \"\"}}, \"type\": \"scattercarpet\"}], \"scattergeo\": [{\"marker\": {\"colorbar\": {\"outlinewidth\": 0, \"ticks\": \"\"}}, \"type\": \"scattergeo\"}], \"scattergl\": [{\"marker\": {\"colorbar\": {\"outlinewidth\": 0, \"ticks\": \"\"}}, \"type\": \"scattergl\"}], \"scattermapbox\": [{\"marker\": {\"colorbar\": {\"outlinewidth\": 0, \"ticks\": \"\"}}, \"type\": \"scattermapbox\"}], \"scatterpolar\": [{\"marker\": {\"colorbar\": {\"outlinewidth\": 0, \"ticks\": \"\"}}, \"type\": \"scatterpolar\"}], \"scatterpolargl\": [{\"marker\": {\"colorbar\": {\"outlinewidth\": 0, \"ticks\": \"\"}}, \"type\": \"scatterpolargl\"}], \"scatterternary\": [{\"marker\": {\"colorbar\": {\"outlinewidth\": 0, \"ticks\": \"\"}}, \"type\": \"scatterternary\"}], \"surface\": [{\"colorbar\": {\"outlinewidth\": 0, \"ticks\": \"\"}, \"colorscale\": [[0.0, \"#0d0887\"], [0.1111111111111111, \"#46039f\"], [0.2222222222222222, \"#7201a8\"], [0.3333333333333333, \"#9c179e\"], [0.4444444444444444, \"#bd3786\"], [0.5555555555555556, \"#d8576b\"], [0.6666666666666666, \"#ed7953\"], [0.7777777777777778, \"#fb9f3a\"], [0.8888888888888888, \"#fdca26\"], [1.0, \"#f0f921\"]], \"type\": \"surface\"}], \"table\": [{\"cells\": {\"fill\": {\"color\": \"#EBF0F8\"}, \"line\": {\"color\": \"white\"}}, \"header\": {\"fill\": {\"color\": \"#C8D4E3\"}, \"line\": {\"color\": \"white\"}}, \"type\": \"table\"}]}, \"layout\": {\"annotationdefaults\": {\"arrowcolor\": \"#2a3f5f\", \"arrowhead\": 0, \"arrowwidth\": 1}, \"colorscale\": {\"diverging\": [[0, \"#8e0152\"], [0.1, \"#c51b7d\"], [0.2, \"#de77ae\"], [0.3, \"#f1b6da\"], [0.4, \"#fde0ef\"], [0.5, \"#f7f7f7\"], [0.6, \"#e6f5d0\"], [0.7, \"#b8e186\"], [0.8, \"#7fbc41\"], [0.9, \"#4d9221\"], [1, \"#276419\"]], \"sequential\": [[0.0, \"#0d0887\"], [0.1111111111111111, \"#46039f\"], [0.2222222222222222, \"#7201a8\"], [0.3333333333333333, \"#9c179e\"], [0.4444444444444444, \"#bd3786\"], [0.5555555555555556, \"#d8576b\"], [0.6666666666666666, \"#ed7953\"], [0.7777777777777778, \"#fb9f3a\"], [0.8888888888888888, \"#fdca26\"], [1.0, \"#f0f921\"]], \"sequentialminus\": [[0.0, \"#0d0887\"], [0.1111111111111111, \"#46039f\"], [0.2222222222222222, \"#7201a8\"], [0.3333333333333333, \"#9c179e\"], [0.4444444444444444, \"#bd3786\"], [0.5555555555555556, \"#d8576b\"], [0.6666666666666666, \"#ed7953\"], [0.7777777777777778, \"#fb9f3a\"], [0.8888888888888888, \"#fdca26\"], [1.0, \"#f0f921\"]]}, \"colorway\": [\"#636efa\", \"#EF553B\", \"#00cc96\", \"#ab63fa\", \"#FFA15A\", \"#19d3f3\", \"#FF6692\", \"#B6E880\", \"#FF97FF\", \"#FECB52\"], \"font\": {\"color\": \"#2a3f5f\"}, \"geo\": {\"bgcolor\": \"white\", \"lakecolor\": \"white\", \"landcolor\": \"#E5ECF6\", \"showlakes\": true, \"showland\": true, \"subunitcolor\": \"white\"}, \"hoverlabel\": {\"align\": \"left\"}, \"hovermode\": \"closest\", \"mapbox\": {\"style\": \"light\"}, \"paper_bgcolor\": \"white\", \"plot_bgcolor\": \"#E5ECF6\", \"polar\": {\"angularaxis\": {\"gridcolor\": \"white\", \"linecolor\": \"white\", \"ticks\": \"\"}, \"bgcolor\": \"#E5ECF6\", \"radialaxis\": {\"gridcolor\": \"white\", \"linecolor\": \"white\", \"ticks\": \"\"}}, \"scene\": {\"xaxis\": {\"backgroundcolor\": \"#E5ECF6\", \"gridcolor\": \"white\", \"gridwidth\": 2, \"linecolor\": \"white\", \"showbackground\": true, \"ticks\": \"\", \"zerolinecolor\": \"white\"}, \"yaxis\": {\"backgroundcolor\": \"#E5ECF6\", \"gridcolor\": \"white\", \"gridwidth\": 2, \"linecolor\": \"white\", \"showbackground\": true, \"ticks\": \"\", \"zerolinecolor\": \"white\"}, \"zaxis\": {\"backgroundcolor\": \"#E5ECF6\", \"gridcolor\": \"white\", \"gridwidth\": 2, \"linecolor\": \"white\", \"showbackground\": true, \"ticks\": \"\", \"zerolinecolor\": \"white\"}}, \"shapedefaults\": {\"line\": {\"color\": \"#2a3f5f\"}}, \"ternary\": {\"aaxis\": {\"gridcolor\": \"white\", \"linecolor\": \"white\", \"ticks\": \"\"}, \"baxis\": {\"gridcolor\": \"white\", \"linecolor\": \"white\", \"ticks\": \"\"}, \"bgcolor\": \"#E5ECF6\", \"caxis\": {\"gridcolor\": \"white\", \"linecolor\": \"white\", \"ticks\": \"\"}}, \"title\": {\"x\": 0.05}, \"xaxis\": {\"automargin\": true, \"gridcolor\": \"white\", \"linecolor\": \"white\", \"ticks\": \"\", \"zerolinecolor\": \"white\", \"zerolinewidth\": 2}, \"yaxis\": {\"automargin\": true, \"gridcolor\": \"white\", \"linecolor\": \"white\", \"ticks\": \"\", \"zerolinecolor\": \"white\", \"zerolinewidth\": 2}}}, \"title\": {\"text\": \"Amount of fraudulent transactions\"}, \"xaxis\": {\"showticklabels\": true, \"title\": {\"text\": \"Time [s]\"}}, \"yaxis\": {\"title\": {\"text\": \"Amount\"}}},\n",
       "                        {\"responsive\": true}\n",
       "                    ).then(function(){\n",
       "                            \n",
       "var gd = document.getElementById('6cdc5b7e-7d5a-4536-853a-0414a1088a27');\n",
       "var x = new MutationObserver(function (mutations, observer) {{\n",
       "        var display = window.getComputedStyle(gd).display;\n",
       "        if (!display || display === 'none') {{\n",
       "            console.log([gd, 'removed!']);\n",
       "            Plotly.purge(gd);\n",
       "            observer.disconnect();\n",
       "        }}\n",
       "}});\n",
       "\n",
       "// Listen for the removal of the full notebook cells\n",
       "var notebookContainer = gd.closest('#notebook-container');\n",
       "if (notebookContainer) {{\n",
       "    x.observe(notebookContainer, {childList: true});\n",
       "}}\n",
       "\n",
       "// Listen for the clearing of the current output cell\n",
       "var outputEl = gd.closest('.output');\n",
       "if (outputEl) {{\n",
       "    x.observe(outputEl, {childList: true});\n",
       "}}\n",
       "\n",
       "                        })\n",
       "                };\n",
       "                });\n",
       "            </script>\n",
       "        </div>"
      ]
     },
     "metadata": {},
     "output_type": "display_data"
    }
   ],
   "source": [
    "fraud = data_df.loc[data_df['Class'] == 1]\n",
    "\n",
    "trace = go.Scatter(\n",
    "    x = fraud['Time'],y = fraud['Amount'],\n",
    "    name=\"Amount\",\n",
    "     marker=dict(\n",
    "                color='rgb(238,23,11)',\n",
    "                line=dict(\n",
    "                    color='red',\n",
    "                    width=1),\n",
    "                opacity=0.5,\n",
    "            ),\n",
    "    text= fraud['Amount'],\n",
    "    mode = \"markers\"\n",
    ")\n",
    "data = [trace]\n",
    "layout = dict(title = 'Amount of fraudulent transactions',\n",
    "          xaxis = dict(title = 'Time [s]', showticklabels=True), \n",
    "          yaxis = dict(title = 'Amount'),\n",
    "          hovermode='closest'\n",
    "         )\n",
    "fig = dict(data=data, layout=layout)\n",
    "iplot(fig, filename='fraud-amount')"
   ]
  },
  {
   "cell_type": "code",
   "execution_count": 32,
   "metadata": {},
   "outputs": [
    {
     "data": {
      "image/png": "[encoded data removed]",
      "text/plain": [
       "<Figure size 1008x1008 with 2 Axes>"
      ]
     },
     "metadata": {
      "needs_background": "light"
     },
     "output_type": "display_data"
    }
   ],
   "source": [
    "plt.figure(figsize = (14,14))\n",
    "plt.title('Credit Card Transactions features correlation plot (Pearson)')\n",
    "corr = data_df.corr()\n",
    "sns.heatmap(corr,xticklabels=corr.columns,yticklabels=corr.columns,linewidths=.1,cmap=\"Reds\")\n",
    "plt.show()"
   ]
  },
  {
   "cell_type": "code",
   "execution_count": 36,
   "metadata": {},
   "outputs": [
    {
     "data": {
      "image/png": "[encoded data removed]",
      "text/plain": [
       "<Figure size 402.375x360 with 1 Axes>"
      ]
     },
     "metadata": {
      "needs_background": "light"
     },
     "output_type": "display_data"
    },
    {
     "data": {
      "image/png": "[encoded data removed]",
      "text/plain": [
       "<Figure size 402.375x360 with 1 Axes>"
      ]
     },
     "metadata": {
      "needs_background": "light"
     },
     "output_type": "display_data"
    }
   ],
   "source": [
    "s = sns.lmplot(x='V20', y='Amount',data=data_df, hue='Class', fit_reg=True,scatter_kws={'s':2})\n",
    "s = sns.lmplot(x='V7', y='Amount',data=data_df, hue='Class', fit_reg=True,scatter_kws={'s':2})\n",
    "plt.show()"
   ]
  },
  {
   "cell_type": "code",
   "execution_count": 38,
   "metadata": {},
   "outputs": [
    {
     "data": {
      "image/png": "[encoded data removed]",
      "text/plain": [
       "<Figure size 402.375x360 with 1 Axes>"
      ]
     },
     "metadata": {
      "needs_background": "light"
     },
     "output_type": "display_data"
    },
    {
     "data": {
      "image/png": "[encoded data removed]",
      "text/plain": [
       "<Figure size 402.375x360 with 1 Axes>"
      ]
     },
     "metadata": {
      "needs_background": "light"
     },
     "output_type": "display_data"
    }
   ],
   "source": [
    "s = sns.lmplot(x='V2', y='Amount',data=data_df, hue='Class', fit_reg=True,scatter_kws={'s':2})\n",
    "s = sns.lmplot(x='V5', y='Amount',data=data_df, hue='Class', fit_reg=True,scatter_kws={'s':2})\n",
    "plt.show()"
   ]
  },
  {
   "cell_type": "code",
   "execution_count": 39,
   "metadata": {},
   "outputs": [
    {
     "data": {
      "text/plain": [
       "<Figure size 432x288 with 0 Axes>"
      ]
     },
     "metadata": {},
     "output_type": "display_data"
    },
    {
     "data": {
      "image/png": "[encoded data removed]",
      "text/plain": [
       "<Figure size 1152x2016 with 32 Axes>"
      ]
     },
     "metadata": {},
     "output_type": "display_data"
    }
   ],
   "source": [
    "var = data_df.columns.values\n",
    "\n",
    "i = 0\n",
    "t0 = data_df.loc[data_df['Class'] == 0]\n",
    "t1 = data_df.loc[data_df['Class'] == 1]\n",
    "\n",
    "sns.set_style('whitegrid')\n",
    "plt.figure()\n",
    "fig, ax = plt.subplots(8,4,figsize=(16,28))\n",
    "\n",
    "for feature in var:\n",
    "    i += 1\n",
    "    plt.subplot(8,4,i)\n",
    "    sns.kdeplot(t0[feature], bw=0.5,label=\"Class = 0\")\n",
    "    sns.kdeplot(t1[feature], bw=0.5,label=\"Class = 1\")\n",
    "    plt.xlabel(feature, fontsize=12)\n",
    "    locs, labels = plt.xticks()\n",
    "    plt.tick_params(axis='both', which='major', labelsize=12)\n",
    "plt.show();"
   ]
  },
  {
   "cell_type": "code",
   "execution_count": 40,
   "metadata": {},
   "outputs": [],
   "source": [
    "target = 'Class'\n",
    "predictors = ['Time', 'V1', 'V2', 'V3', 'V4', 'V5', 'V6', 'V7', 'V8', 'V9', 'V10',\\\n",
    "       'V11', 'V12', 'V13', 'V14', 'V15', 'V16', 'V17', 'V18', 'V19',\\\n",
    "       'V20', 'V21', 'V22', 'V23', 'V24', 'V25', 'V26', 'V27', 'V28',\\\n",
    "       'Amount']"
   ]
  },
  {
   "cell_type": "code",
   "execution_count": 41,
   "metadata": {},
   "outputs": [],
   "source": [
    "train_df, test_df = train_test_split(data_df, test_size=TEST_SIZE, random_state=RANDOM_STATE, shuffle=True )\n",
    "train_df, valid_df = train_test_split(train_df, test_size=VALID_SIZE, random_state=RANDOM_STATE, shuffle=True )"
   ]
  },
  {
   "cell_type": "code",
   "execution_count": 42,
   "metadata": {},
   "outputs": [],
   "source": [
    "clf = RandomForestClassifier(n_jobs=NO_JOBS, \n",
    "                             random_state=RANDOM_STATE,\n",
    "                             criterion=RFC_METRIC,\n",
    "                             n_estimators=NUM_ESTIMATORS,\n",
    "                             verbose=False)"
   ]
  },
  {
   "cell_type": "code",
   "execution_count": 43,
   "metadata": {},
   "outputs": [
    {
     "data": {
      "text/plain": [
       "RandomForestClassifier(bootstrap=True, class_weight=None, criterion='gini',\n",
       "                       max_depth=None, max_features='auto', max_leaf_nodes=None,\n",
       "                       min_impurity_decrease=0.0, min_impurity_split=None,\n",
       "                       min_samples_leaf=1, min_samples_split=2,\n",
       "                       min_weight_fraction_leaf=0.0, n_estimators=100, n_jobs=4,\n",
       "                       oob_score=False, random_state=2018, verbose=False,\n",
       "                       warm_start=False)"
      ]
     },
     "execution_count": 43,
     "metadata": {},
     "output_type": "execute_result"
    }
   ],
   "source": [
    "clf.fit(train_df[predictors], train_df[target].values)\n"
   ]
  },
  {
   "cell_type": "code",
   "execution_count": 44,
   "metadata": {},
   "outputs": [],
   "source": [
    "preds = clf.predict(valid_df[predictors])"
   ]
  },
  {
   "cell_type": "code",
   "execution_count": 45,
   "metadata": {},
   "outputs": [
    {
     "data": {
      "image/png": "[encoded data removed]",
      "text/plain": [
       "<Figure size 504x288 with 1 Axes>"
      ]
     },
     "metadata": {},
     "output_type": "display_data"
    }
   ],
   "source": [
    "tmp = pd.DataFrame({'Feature': predictors, 'Feature importance': clf.feature_importances_})\n",
    "tmp = tmp.sort_values(by='Feature importance',ascending=False)\n",
    "plt.figure(figsize = (7,4))\n",
    "plt.title('Features importance',fontsize=14)\n",
    "s = sns.barplot(x='Feature',y='Feature importance',data=tmp)\n",
    "s.set_xticklabels(s.get_xticklabels(),rotation=90)\n",
    "plt.show()"
   ]
  },
  {
   "cell_type": "code",
   "execution_count": 46,
   "metadata": {},
   "outputs": [
    {
     "data": {
      "image/png": "[encoded data removed]",
      "text/plain": [
       "<Figure size 360x360 with 2 Axes>"
      ]
     },
     "metadata": {},
     "output_type": "display_data"
    }
   ],
   "source": [
    "cm = pd.crosstab(valid_df[target].values, preds, rownames=['Actual'], colnames=['Predicted'])\n",
    "fig, (ax1) = plt.subplots(ncols=1, figsize=(5,5))\n",
    "sns.heatmap(cm, \n",
    "            xticklabels=['Not Fraud', 'Fraud'],\n",
    "            yticklabels=['Not Fraud', 'Fraud'],\n",
    "            annot=True,ax=ax1,\n",
    "            linewidths=.2,linecolor=\"Darkblue\", cmap=\"Blues\")\n",
    "plt.title('Confusion Matrix', fontsize=14)\n",
    "plt.show()"
   ]
  },
  {
   "cell_type": "code",
   "execution_count": 47,
   "metadata": {},
   "outputs": [
    {
     "data": {
      "text/plain": [
       "0.8528641975628091"
      ]
     },
     "execution_count": 47,
     "metadata": {},
     "output_type": "execute_result"
    }
   ],
   "source": [
    "roc_auc_score(valid_df[target].values, preds)"
   ]
  },
  {
   "cell_type": "code",
   "execution_count": null,
   "metadata": {},
   "outputs": [],
   "source": []
  },
  {
   "cell_type": "code",
   "execution_count": 48,
   "metadata": {},
   "outputs": [
    {
     "data": {
      "text/plain": [
       "RandomForestClassifier(bootstrap=True, class_weight=None, criterion='gini',\n",
       "                       max_depth=None, max_features='auto', max_leaf_nodes=None,\n",
       "                       min_impurity_decrease=0.0, min_impurity_split=None,\n",
       "                       min_samples_leaf=1, min_samples_split=2,\n",
       "                       min_weight_fraction_leaf=0.0, n_estimators=100, n_jobs=4,\n",
       "                       oob_score=False, random_state=2018, verbose=False,\n",
       "                       warm_start=False)"
      ]
     },
     "execution_count": 48,
     "metadata": {},
     "output_type": "execute_result"
    }
   ],
   "source": [
    "clf.fit(train_df[predictors], train_df[target].values)"
   ]
  },
  {
   "cell_type": "code",
   "execution_count": null,
   "metadata": {},
   "outputs": [],
   "source": []
  }
 ],
 "metadata": {
  "kernelspec": {
   "display_name": "Python 3",
   "language": "python",
   "name": "python3"
  },
  "language_info": {
   "codemirror_mode": {
    "name": "ipython",
    "version": 3
   },
   "file_extension": ".py",
   "mimetype": "text/x-python",
   "name": "python",
   "nbconvert_exporter": "python",
   "pygments_lexer": "ipython3",
   "version": "3.7.3"
  }
 },
 "nbformat": 4,
 "nbformat_minor": 2
}
